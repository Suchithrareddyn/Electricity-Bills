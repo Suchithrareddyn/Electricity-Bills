{
  "cells": [
    {
      "cell_type": "markdown",
      "metadata": {
        "id": "view-in-github",
        "colab_type": "text"
      },
      "source": [
        "<a href=\"https://colab.research.google.com/github/Suchithrareddyn/Electricity-Bills/blob/main/project1.ipynb\" target=\"_parent\"><img src=\"https://colab.research.google.com/assets/colab-badge.svg\" alt=\"Open In Colab\"/></a>"
      ]
    },
    {
      "cell_type": "markdown",
      "id": "4c379d95",
      "metadata": {
        "id": "4c379d95"
      },
      "source": [
        "#Environment setup"
      ]
    },
    {
      "cell_type": "code",
      "source": [
        "from google.colab import drive\n",
        "drive.mount('/content/drive')"
      ],
      "metadata": {
        "colab": {
          "base_uri": "https://localhost:8080/"
        },
        "id": "L6TsIQL350X6",
        "outputId": "7ad8d6d6-80da-42c7-d3f1-9eefcd1df997"
      },
      "id": "L6TsIQL350X6",
      "execution_count": 2,
      "outputs": [
        {
          "output_type": "stream",
          "name": "stdout",
          "text": [
            "Mounted at /content/drive\n"
          ]
        }
      ]
    },
    {
      "cell_type": "code",
      "execution_count": 3,
      "id": "1a5c376b",
      "metadata": {
        "id": "1a5c376b"
      },
      "outputs": [],
      "source": [
        "import pandas as pd\n",
        "import numpy as np\n",
        "import matplotlib.pyplot as plt\n",
        "import seaborn as sns\n",
        "pd.set_option('display.max_columns', None)"
      ]
    },
    {
      "cell_type": "markdown",
      "id": "f4bd04c7",
      "metadata": {
        "id": "f4bd04c7"
      },
      "source": [
        "#Data loading"
      ]
    },
    {
      "cell_type": "code",
      "execution_count": 4,
      "id": "b2f477c4",
      "metadata": {
        "colab": {
          "base_uri": "https://localhost:8080/",
          "height": 461
        },
        "id": "b2f477c4",
        "outputId": "83850d1f-00c9-4a5c-86f4-2c50049fca77"
      },
      "outputs": [
        {
          "output_type": "execute_result",
          "data": {
            "text/plain": [
              "   Unnamed: 0  bill_id  account_id  billing_amount  current_balance  \\\n",
              "0           0        0           0           97.23           -81.50   \n",
              "1           1        1           0           86.02           -97.23   \n",
              "2           2        2           0           82.94           -86.02   \n",
              "3           3        3           0           91.38           -82.94   \n",
              "4           4        4           0           68.32           -91.38   \n",
              "\n",
              "            pay_cre_dt               due_dt tender_type tender_type_descr  \\\n",
              "0  2018-12-11 16:03:51  2018-12-19 00:00:00        CHCK             Check   \n",
              "1  2019-01-10 16:03:54  2019-01-22 00:00:00        CHCK             Check   \n",
              "2  2019-02-11 16:04:24  2019-02-20 00:00:00        CHCK             Check   \n",
              "3  2019-03-25 16:04:00  2019-03-21 00:00:00        CHCK             Check   \n",
              "4  2019-04-10 16:04:15  2019-04-19 00:00:00        CHCK             Check   \n",
              "\n",
              "   has_email  bill_mailed dwelling_type_desc  has_med_cert  is_equal_pay_acct  \\\n",
              "0       True          1.0       SingleFamily         False              False   \n",
              "1       True          1.0       SingleFamily         False              False   \n",
              "2       True          1.0       SingleFamily         False              False   \n",
              "3       True          1.0       SingleFamily         False              False   \n",
              "4       True          1.0       SingleFamily         False              False   \n",
              "\n",
              "  own_rent  is_renewable  is_web_registered  pge_account_months  \\\n",
              "0        O         False               True                34.0   \n",
              "1        O         False               True                34.0   \n",
              "2        O         False               True                34.0   \n",
              "3        O         False               True                34.0   \n",
              "4        O         False               True                34.0   \n",
              "\n",
              "   pge_customer_months premise_type_code  median_hh_income  median_age  \\\n",
              "0                258.0          HOU                72031.0        38.7   \n",
              "1                258.0          HOU                72031.0        38.7   \n",
              "2                258.0          HOU                72031.0        38.7   \n",
              "3                258.0          HOU                72031.0        38.7   \n",
              "4                258.0          HOU                72031.0        38.7   \n",
              "\n",
              "   avg_hh_size  gini_index  avg_hours_worked  median_monthly_housing_costs  \\\n",
              "0         2.91      0.3443              37.2                        1262.0   \n",
              "1         2.91      0.3443              37.2                        1262.0   \n",
              "2         2.91      0.3443              37.2                        1262.0   \n",
              "3         2.91      0.3443              37.2                        1262.0   \n",
              "4         2.91      0.3443              37.2                        1262.0   \n",
              "\n",
              "   perc_industry_agriculture_forestry  perc_industry_construction  \\\n",
              "0                            0.032565                    0.094689   \n",
              "1                            0.032565                    0.094689   \n",
              "2                            0.032565                    0.094689   \n",
              "3                            0.032565                    0.094689   \n",
              "4                            0.032565                    0.094689   \n",
              "\n",
              "   perc_industry_manufacturing  perc_industry_wholesale_trade  \\\n",
              "0                     0.160321                       0.029058   \n",
              "1                     0.160321                       0.029058   \n",
              "2                     0.160321                       0.029058   \n",
              "3                     0.160321                       0.029058   \n",
              "4                     0.160321                       0.029058   \n",
              "\n",
              "   perc_industry_retail_trade  perc_industry_transportation_utilities  \\\n",
              "0                    0.110721                                0.021543   \n",
              "1                    0.110721                                0.021543   \n",
              "2                    0.110721                                0.021543   \n",
              "3                    0.110721                                0.021543   \n",
              "4                    0.110721                                0.021543   \n",
              "\n",
              "   perc_industry_information  perc_industry_finance_real_estate  \\\n",
              "0                    0.01002                           0.034068   \n",
              "1                    0.01002                           0.034068   \n",
              "2                    0.01002                           0.034068   \n",
              "3                    0.01002                           0.034068   \n",
              "4                    0.01002                           0.034068   \n",
              "\n",
              "   perc_industry_prof_sci_mgmt_admin_waste  \\\n",
              "0                                 0.092685   \n",
              "1                                 0.092685   \n",
              "2                                 0.092685   \n",
              "3                                 0.092685   \n",
              "4                                 0.092685   \n",
              "\n",
              "   perc_industry_education_health_social  perc_industry_arts_ent_accom_food  \\\n",
              "0                               0.237976                           0.082164   \n",
              "1                               0.237976                           0.082164   \n",
              "2                               0.237976                           0.082164   \n",
              "3                               0.237976                           0.082164   \n",
              "4                               0.237976                           0.082164   \n",
              "\n",
              "   perc_industry_other_services  perc_industry_public_admin  \\\n",
              "0                      0.056112                    0.038076   \n",
              "1                      0.056112                    0.038076   \n",
              "2                      0.056112                    0.038076   \n",
              "3                      0.056112                    0.038076   \n",
              "4                      0.056112                    0.038076   \n",
              "\n",
              "   perc_hh_has_computing_devices  perc_hh_has_no_computing_devices  \\\n",
              "0                       0.944817                          0.055183   \n",
              "1                       0.944817                          0.055183   \n",
              "2                       0.944817                          0.055183   \n",
              "3                       0.944817                          0.055183   \n",
              "4                       0.944817                          0.055183   \n",
              "\n",
              "   perc_educ_8th_grade  perc_educ_9th_grade  perc_educ_10th_grade  \\\n",
              "0             0.001216             0.017018              0.003241   \n",
              "1             0.001216             0.017018              0.003241   \n",
              "2             0.001216             0.017018              0.003241   \n",
              "3             0.001216             0.017018              0.003241   \n",
              "4             0.001216             0.017018              0.003241   \n",
              "\n",
              "   perc_educ_11th_grade  perc_educ_12th_grade_no_diploma  \\\n",
              "0              0.009319                          0.01175   \n",
              "1              0.009319                          0.01175   \n",
              "2              0.009319                          0.01175   \n",
              "3              0.009319                          0.01175   \n",
              "4              0.009319                          0.01175   \n",
              "\n",
              "   perc_educ_high_school_diploma  perc_educ_ged  \\\n",
              "0                       0.237034       0.051864   \n",
              "1                       0.237034       0.051864   \n",
              "2                       0.237034       0.051864   \n",
              "3                       0.237034       0.051864   \n",
              "4                       0.237034       0.051864   \n",
              "\n",
              "   perc_educ_1_yr_college_no_degree  perc_educ_multi_yr_college_no_degree  \\\n",
              "0                          0.096029                              0.161264   \n",
              "1                          0.096029                              0.161264   \n",
              "2                          0.096029                              0.161264   \n",
              "3                          0.096029                              0.161264   \n",
              "4                          0.096029                              0.161264   \n",
              "\n",
              "   perc_educ_associates_degree  perc_educ_bachelors_degree  \\\n",
              "0                     0.080227                    0.216775   \n",
              "1                     0.080227                    0.216775   \n",
              "2                     0.080227                    0.216775   \n",
              "3                     0.080227                    0.216775   \n",
              "4                     0.080227                    0.216775   \n",
              "\n",
              "   perc_educ_masters_degree  perc_educ_professional_degree  \\\n",
              "0                  0.076175                       0.009319   \n",
              "1                  0.076175                       0.009319   \n",
              "2                  0.076175                       0.009319   \n",
              "3                  0.076175                       0.009319   \n",
              "4                  0.076175                       0.009319   \n",
              "\n",
              "   perc_educ_doctorate_degree  perc_pop_not_in_labor_force  \\\n",
              "0                    0.028768                     0.307488   \n",
              "1                    0.028768                     0.307488   \n",
              "2                    0.028768                     0.307488   \n",
              "3                    0.028768                     0.307488   \n",
              "4                    0.028768                     0.307488   \n",
              "\n",
              "   perc_pop_in_civ_labor_force_unemp  perc_hh_type_family_married  \\\n",
              "0                           0.040846                     0.655481   \n",
              "1                           0.040846                     0.655481   \n",
              "2                           0.040846                     0.655481   \n",
              "3                           0.040846                     0.655481   \n",
              "4                           0.040846                     0.655481   \n",
              "\n",
              "   perc_hh_type_single_parent  perc_hh_type_nonfamily_roommates  \\\n",
              "0                    0.117823                          0.046234   \n",
              "1                    0.117823                          0.046234   \n",
              "2                    0.117823                          0.046234   \n",
              "3                    0.117823                          0.046234   \n",
              "4                    0.117823                          0.046234   \n",
              "\n",
              "   perc_hh_type_nonfamily_bach  perc_health_ins_private  perc_native  \\\n",
              "0                     0.180462                 0.064112     0.835249   \n",
              "1                     0.180462                 0.064112     0.835249   \n",
              "2                     0.180462                 0.064112     0.835249   \n",
              "3                     0.180462                 0.064112     0.835249   \n",
              "4                     0.180462                 0.064112     0.835249   \n",
              "\n",
              "   perc_foreign_natur  perc_foreign_noncit  perc_work_transp_car  \\\n",
              "0            0.055939             0.108812              0.910594   \n",
              "1            0.055939             0.108812              0.910594   \n",
              "2            0.055939             0.108812              0.910594   \n",
              "3            0.055939             0.108812              0.910594   \n",
              "4            0.055939             0.108812              0.910594   \n",
              "\n",
              "   perc_work_transp_public  perc_mortgage_has_mort_2nd_only  \\\n",
              "0                 0.034625                         0.027265   \n",
              "1                 0.034625                         0.027265   \n",
              "2                 0.034625                         0.027265   \n",
              "3                 0.034625                         0.027265   \n",
              "4                 0.034625                         0.027265   \n",
              "\n",
              "   perc_mortgage_has_mort_heloc_only  perc_mortgage_has_mort_2nd_and_heloc  \\\n",
              "0                           0.077397                                   0.0   \n",
              "1                           0.077397                                   0.0   \n",
              "2                           0.077397                                   0.0   \n",
              "3                           0.077397                                   0.0   \n",
              "4                           0.077397                                   0.0   \n",
              "\n",
              "   perc_mortgage_has_mort_no_2nd_no_heloc  perc_hh_workers_none  \\\n",
              "0                                0.578716              0.199105   \n",
              "1                                0.578716              0.199105   \n",
              "2                                0.578716              0.199105   \n",
              "3                                0.578716              0.199105   \n",
              "4                                0.578716              0.199105   \n",
              "\n",
              "   perc_hh_workers_1  perc_hh_workers_2  perc_hh_workers_3ormore  \\\n",
              "0           0.367636           0.307979                  0.12528   \n",
              "1           0.367636           0.307979                  0.12528   \n",
              "2           0.367636           0.307979                  0.12528   \n",
              "3           0.367636           0.307979                  0.12528   \n",
              "4           0.367636           0.307979                  0.12528   \n",
              "\n",
              "   perc_poverty_lev_below  perc_hh_welfare_received  \\\n",
              "0                0.128834                  0.111111   \n",
              "1                0.128834                  0.111111   \n",
              "2                0.128834                  0.111111   \n",
              "3                0.128834                  0.111111   \n",
              "4                0.128834                  0.111111   \n",
              "\n",
              "   perc_hh_inc_to_pov_lev_0to0.5  perc_hh_inc_to_pov_lev_0.5to1  \\\n",
              "0                       0.043456                       0.085378   \n",
              "1                       0.043456                       0.085378   \n",
              "2                       0.043456                       0.085378   \n",
              "3                       0.043456                       0.085378   \n",
              "4                       0.043456                       0.085378   \n",
              "\n",
              "   perc_hh_inc_to_pov_lev_1to1.25  perc_hh_inc_to_pov_lev_1.25to1.5  \\\n",
              "0                        0.099949                          0.034254   \n",
              "1                        0.099949                          0.034254   \n",
              "2                        0.099949                          0.034254   \n",
              "3                        0.099949                          0.034254   \n",
              "4                        0.099949                          0.034254   \n",
              "\n",
              "   perc_hh_inc_to_pov_lev_1.5to1.85  perc_hh_inc_to_pov_lev_1.85to2  \\\n",
              "0                          0.013548                        0.012781   \n",
              "1                          0.013548                        0.012781   \n",
              "2                          0.013548                        0.012781   \n",
              "3                          0.013548                        0.012781   \n",
              "4                          0.013548                        0.012781   \n",
              "\n",
              "   perc_hh_inc_to_pov_lev_2andover  late  \n",
              "0                         0.710634     0  \n",
              "1                         0.710634     0  \n",
              "2                         0.710634     0  \n",
              "3                         0.710634     1  \n",
              "4                         0.710634     0  "
            ],
            "text/html": [
              "\n",
              "  <div id=\"df-3e89c9be-d549-40e0-9040-e37db08715ce\">\n",
              "    <div class=\"colab-df-container\">\n",
              "      <div>\n",
              "<style scoped>\n",
              "    .dataframe tbody tr th:only-of-type {\n",
              "        vertical-align: middle;\n",
              "    }\n",
              "\n",
              "    .dataframe tbody tr th {\n",
              "        vertical-align: top;\n",
              "    }\n",
              "\n",
              "    .dataframe thead th {\n",
              "        text-align: right;\n",
              "    }\n",
              "</style>\n",
              "<table border=\"1\" class=\"dataframe\">\n",
              "  <thead>\n",
              "    <tr style=\"text-align: right;\">\n",
              "      <th></th>\n",
              "      <th>Unnamed: 0</th>\n",
              "      <th>bill_id</th>\n",
              "      <th>account_id</th>\n",
              "      <th>billing_amount</th>\n",
              "      <th>current_balance</th>\n",
              "      <th>pay_cre_dt</th>\n",
              "      <th>due_dt</th>\n",
              "      <th>tender_type</th>\n",
              "      <th>tender_type_descr</th>\n",
              "      <th>has_email</th>\n",
              "      <th>bill_mailed</th>\n",
              "      <th>dwelling_type_desc</th>\n",
              "      <th>has_med_cert</th>\n",
              "      <th>is_equal_pay_acct</th>\n",
              "      <th>own_rent</th>\n",
              "      <th>is_renewable</th>\n",
              "      <th>is_web_registered</th>\n",
              "      <th>pge_account_months</th>\n",
              "      <th>pge_customer_months</th>\n",
              "      <th>premise_type_code</th>\n",
              "      <th>median_hh_income</th>\n",
              "      <th>median_age</th>\n",
              "      <th>avg_hh_size</th>\n",
              "      <th>gini_index</th>\n",
              "      <th>avg_hours_worked</th>\n",
              "      <th>median_monthly_housing_costs</th>\n",
              "      <th>perc_industry_agriculture_forestry</th>\n",
              "      <th>perc_industry_construction</th>\n",
              "      <th>perc_industry_manufacturing</th>\n",
              "      <th>perc_industry_wholesale_trade</th>\n",
              "      <th>perc_industry_retail_trade</th>\n",
              "      <th>perc_industry_transportation_utilities</th>\n",
              "      <th>perc_industry_information</th>\n",
              "      <th>perc_industry_finance_real_estate</th>\n",
              "      <th>perc_industry_prof_sci_mgmt_admin_waste</th>\n",
              "      <th>perc_industry_education_health_social</th>\n",
              "      <th>perc_industry_arts_ent_accom_food</th>\n",
              "      <th>perc_industry_other_services</th>\n",
              "      <th>perc_industry_public_admin</th>\n",
              "      <th>perc_hh_has_computing_devices</th>\n",
              "      <th>perc_hh_has_no_computing_devices</th>\n",
              "      <th>perc_educ_8th_grade</th>\n",
              "      <th>perc_educ_9th_grade</th>\n",
              "      <th>perc_educ_10th_grade</th>\n",
              "      <th>perc_educ_11th_grade</th>\n",
              "      <th>perc_educ_12th_grade_no_diploma</th>\n",
              "      <th>perc_educ_high_school_diploma</th>\n",
              "      <th>perc_educ_ged</th>\n",
              "      <th>perc_educ_1_yr_college_no_degree</th>\n",
              "      <th>perc_educ_multi_yr_college_no_degree</th>\n",
              "      <th>perc_educ_associates_degree</th>\n",
              "      <th>perc_educ_bachelors_degree</th>\n",
              "      <th>perc_educ_masters_degree</th>\n",
              "      <th>perc_educ_professional_degree</th>\n",
              "      <th>perc_educ_doctorate_degree</th>\n",
              "      <th>perc_pop_not_in_labor_force</th>\n",
              "      <th>perc_pop_in_civ_labor_force_unemp</th>\n",
              "      <th>perc_hh_type_family_married</th>\n",
              "      <th>perc_hh_type_single_parent</th>\n",
              "      <th>perc_hh_type_nonfamily_roommates</th>\n",
              "      <th>perc_hh_type_nonfamily_bach</th>\n",
              "      <th>perc_health_ins_private</th>\n",
              "      <th>perc_native</th>\n",
              "      <th>perc_foreign_natur</th>\n",
              "      <th>perc_foreign_noncit</th>\n",
              "      <th>perc_work_transp_car</th>\n",
              "      <th>perc_work_transp_public</th>\n",
              "      <th>perc_mortgage_has_mort_2nd_only</th>\n",
              "      <th>perc_mortgage_has_mort_heloc_only</th>\n",
              "      <th>perc_mortgage_has_mort_2nd_and_heloc</th>\n",
              "      <th>perc_mortgage_has_mort_no_2nd_no_heloc</th>\n",
              "      <th>perc_hh_workers_none</th>\n",
              "      <th>perc_hh_workers_1</th>\n",
              "      <th>perc_hh_workers_2</th>\n",
              "      <th>perc_hh_workers_3ormore</th>\n",
              "      <th>perc_poverty_lev_below</th>\n",
              "      <th>perc_hh_welfare_received</th>\n",
              "      <th>perc_hh_inc_to_pov_lev_0to0.5</th>\n",
              "      <th>perc_hh_inc_to_pov_lev_0.5to1</th>\n",
              "      <th>perc_hh_inc_to_pov_lev_1to1.25</th>\n",
              "      <th>perc_hh_inc_to_pov_lev_1.25to1.5</th>\n",
              "      <th>perc_hh_inc_to_pov_lev_1.5to1.85</th>\n",
              "      <th>perc_hh_inc_to_pov_lev_1.85to2</th>\n",
              "      <th>perc_hh_inc_to_pov_lev_2andover</th>\n",
              "      <th>late</th>\n",
              "    </tr>\n",
              "  </thead>\n",
              "  <tbody>\n",
              "    <tr>\n",
              "      <th>0</th>\n",
              "      <td>0</td>\n",
              "      <td>0</td>\n",
              "      <td>0</td>\n",
              "      <td>97.23</td>\n",
              "      <td>-81.50</td>\n",
              "      <td>2018-12-11 16:03:51</td>\n",
              "      <td>2018-12-19 00:00:00</td>\n",
              "      <td>CHCK</td>\n",
              "      <td>Check</td>\n",
              "      <td>True</td>\n",
              "      <td>1.0</td>\n",
              "      <td>SingleFamily</td>\n",
              "      <td>False</td>\n",
              "      <td>False</td>\n",
              "      <td>O</td>\n",
              "      <td>False</td>\n",
              "      <td>True</td>\n",
              "      <td>34.0</td>\n",
              "      <td>258.0</td>\n",
              "      <td>HOU</td>\n",
              "      <td>72031.0</td>\n",
              "      <td>38.7</td>\n",
              "      <td>2.91</td>\n",
              "      <td>0.3443</td>\n",
              "      <td>37.2</td>\n",
              "      <td>1262.0</td>\n",
              "      <td>0.032565</td>\n",
              "      <td>0.094689</td>\n",
              "      <td>0.160321</td>\n",
              "      <td>0.029058</td>\n",
              "      <td>0.110721</td>\n",
              "      <td>0.021543</td>\n",
              "      <td>0.01002</td>\n",
              "      <td>0.034068</td>\n",
              "      <td>0.092685</td>\n",
              "      <td>0.237976</td>\n",
              "      <td>0.082164</td>\n",
              "      <td>0.056112</td>\n",
              "      <td>0.038076</td>\n",
              "      <td>0.944817</td>\n",
              "      <td>0.055183</td>\n",
              "      <td>0.001216</td>\n",
              "      <td>0.017018</td>\n",
              "      <td>0.003241</td>\n",
              "      <td>0.009319</td>\n",
              "      <td>0.01175</td>\n",
              "      <td>0.237034</td>\n",
              "      <td>0.051864</td>\n",
              "      <td>0.096029</td>\n",
              "      <td>0.161264</td>\n",
              "      <td>0.080227</td>\n",
              "      <td>0.216775</td>\n",
              "      <td>0.076175</td>\n",
              "      <td>0.009319</td>\n",
              "      <td>0.028768</td>\n",
              "      <td>0.307488</td>\n",
              "      <td>0.040846</td>\n",
              "      <td>0.655481</td>\n",
              "      <td>0.117823</td>\n",
              "      <td>0.046234</td>\n",
              "      <td>0.180462</td>\n",
              "      <td>0.064112</td>\n",
              "      <td>0.835249</td>\n",
              "      <td>0.055939</td>\n",
              "      <td>0.108812</td>\n",
              "      <td>0.910594</td>\n",
              "      <td>0.034625</td>\n",
              "      <td>0.027265</td>\n",
              "      <td>0.077397</td>\n",
              "      <td>0.0</td>\n",
              "      <td>0.578716</td>\n",
              "      <td>0.199105</td>\n",
              "      <td>0.367636</td>\n",
              "      <td>0.307979</td>\n",
              "      <td>0.12528</td>\n",
              "      <td>0.128834</td>\n",
              "      <td>0.111111</td>\n",
              "      <td>0.043456</td>\n",
              "      <td>0.085378</td>\n",
              "      <td>0.099949</td>\n",
              "      <td>0.034254</td>\n",
              "      <td>0.013548</td>\n",
              "      <td>0.012781</td>\n",
              "      <td>0.710634</td>\n",
              "      <td>0</td>\n",
              "    </tr>\n",
              "    <tr>\n",
              "      <th>1</th>\n",
              "      <td>1</td>\n",
              "      <td>1</td>\n",
              "      <td>0</td>\n",
              "      <td>86.02</td>\n",
              "      <td>-97.23</td>\n",
              "      <td>2019-01-10 16:03:54</td>\n",
              "      <td>2019-01-22 00:00:00</td>\n",
              "      <td>CHCK</td>\n",
              "      <td>Check</td>\n",
              "      <td>True</td>\n",
              "      <td>1.0</td>\n",
              "      <td>SingleFamily</td>\n",
              "      <td>False</td>\n",
              "      <td>False</td>\n",
              "      <td>O</td>\n",
              "      <td>False</td>\n",
              "      <td>True</td>\n",
              "      <td>34.0</td>\n",
              "      <td>258.0</td>\n",
              "      <td>HOU</td>\n",
              "      <td>72031.0</td>\n",
              "      <td>38.7</td>\n",
              "      <td>2.91</td>\n",
              "      <td>0.3443</td>\n",
              "      <td>37.2</td>\n",
              "      <td>1262.0</td>\n",
              "      <td>0.032565</td>\n",
              "      <td>0.094689</td>\n",
              "      <td>0.160321</td>\n",
              "      <td>0.029058</td>\n",
              "      <td>0.110721</td>\n",
              "      <td>0.021543</td>\n",
              "      <td>0.01002</td>\n",
              "      <td>0.034068</td>\n",
              "      <td>0.092685</td>\n",
              "      <td>0.237976</td>\n",
              "      <td>0.082164</td>\n",
              "      <td>0.056112</td>\n",
              "      <td>0.038076</td>\n",
              "      <td>0.944817</td>\n",
              "      <td>0.055183</td>\n",
              "      <td>0.001216</td>\n",
              "      <td>0.017018</td>\n",
              "      <td>0.003241</td>\n",
              "      <td>0.009319</td>\n",
              "      <td>0.01175</td>\n",
              "      <td>0.237034</td>\n",
              "      <td>0.051864</td>\n",
              "      <td>0.096029</td>\n",
              "      <td>0.161264</td>\n",
              "      <td>0.080227</td>\n",
              "      <td>0.216775</td>\n",
              "      <td>0.076175</td>\n",
              "      <td>0.009319</td>\n",
              "      <td>0.028768</td>\n",
              "      <td>0.307488</td>\n",
              "      <td>0.040846</td>\n",
              "      <td>0.655481</td>\n",
              "      <td>0.117823</td>\n",
              "      <td>0.046234</td>\n",
              "      <td>0.180462</td>\n",
              "      <td>0.064112</td>\n",
              "      <td>0.835249</td>\n",
              "      <td>0.055939</td>\n",
              "      <td>0.108812</td>\n",
              "      <td>0.910594</td>\n",
              "      <td>0.034625</td>\n",
              "      <td>0.027265</td>\n",
              "      <td>0.077397</td>\n",
              "      <td>0.0</td>\n",
              "      <td>0.578716</td>\n",
              "      <td>0.199105</td>\n",
              "      <td>0.367636</td>\n",
              "      <td>0.307979</td>\n",
              "      <td>0.12528</td>\n",
              "      <td>0.128834</td>\n",
              "      <td>0.111111</td>\n",
              "      <td>0.043456</td>\n",
              "      <td>0.085378</td>\n",
              "      <td>0.099949</td>\n",
              "      <td>0.034254</td>\n",
              "      <td>0.013548</td>\n",
              "      <td>0.012781</td>\n",
              "      <td>0.710634</td>\n",
              "      <td>0</td>\n",
              "    </tr>\n",
              "    <tr>\n",
              "      <th>2</th>\n",
              "      <td>2</td>\n",
              "      <td>2</td>\n",
              "      <td>0</td>\n",
              "      <td>82.94</td>\n",
              "      <td>-86.02</td>\n",
              "      <td>2019-02-11 16:04:24</td>\n",
              "      <td>2019-02-20 00:00:00</td>\n",
              "      <td>CHCK</td>\n",
              "      <td>Check</td>\n",
              "      <td>True</td>\n",
              "      <td>1.0</td>\n",
              "      <td>SingleFamily</td>\n",
              "      <td>False</td>\n",
              "      <td>False</td>\n",
              "      <td>O</td>\n",
              "      <td>False</td>\n",
              "      <td>True</td>\n",
              "      <td>34.0</td>\n",
              "      <td>258.0</td>\n",
              "      <td>HOU</td>\n",
              "      <td>72031.0</td>\n",
              "      <td>38.7</td>\n",
              "      <td>2.91</td>\n",
              "      <td>0.3443</td>\n",
              "      <td>37.2</td>\n",
              "      <td>1262.0</td>\n",
              "      <td>0.032565</td>\n",
              "      <td>0.094689</td>\n",
              "      <td>0.160321</td>\n",
              "      <td>0.029058</td>\n",
              "      <td>0.110721</td>\n",
              "      <td>0.021543</td>\n",
              "      <td>0.01002</td>\n",
              "      <td>0.034068</td>\n",
              "      <td>0.092685</td>\n",
              "      <td>0.237976</td>\n",
              "      <td>0.082164</td>\n",
              "      <td>0.056112</td>\n",
              "      <td>0.038076</td>\n",
              "      <td>0.944817</td>\n",
              "      <td>0.055183</td>\n",
              "      <td>0.001216</td>\n",
              "      <td>0.017018</td>\n",
              "      <td>0.003241</td>\n",
              "      <td>0.009319</td>\n",
              "      <td>0.01175</td>\n",
              "      <td>0.237034</td>\n",
              "      <td>0.051864</td>\n",
              "      <td>0.096029</td>\n",
              "      <td>0.161264</td>\n",
              "      <td>0.080227</td>\n",
              "      <td>0.216775</td>\n",
              "      <td>0.076175</td>\n",
              "      <td>0.009319</td>\n",
              "      <td>0.028768</td>\n",
              "      <td>0.307488</td>\n",
              "      <td>0.040846</td>\n",
              "      <td>0.655481</td>\n",
              "      <td>0.117823</td>\n",
              "      <td>0.046234</td>\n",
              "      <td>0.180462</td>\n",
              "      <td>0.064112</td>\n",
              "      <td>0.835249</td>\n",
              "      <td>0.055939</td>\n",
              "      <td>0.108812</td>\n",
              "      <td>0.910594</td>\n",
              "      <td>0.034625</td>\n",
              "      <td>0.027265</td>\n",
              "      <td>0.077397</td>\n",
              "      <td>0.0</td>\n",
              "      <td>0.578716</td>\n",
              "      <td>0.199105</td>\n",
              "      <td>0.367636</td>\n",
              "      <td>0.307979</td>\n",
              "      <td>0.12528</td>\n",
              "      <td>0.128834</td>\n",
              "      <td>0.111111</td>\n",
              "      <td>0.043456</td>\n",
              "      <td>0.085378</td>\n",
              "      <td>0.099949</td>\n",
              "      <td>0.034254</td>\n",
              "      <td>0.013548</td>\n",
              "      <td>0.012781</td>\n",
              "      <td>0.710634</td>\n",
              "      <td>0</td>\n",
              "    </tr>\n",
              "    <tr>\n",
              "      <th>3</th>\n",
              "      <td>3</td>\n",
              "      <td>3</td>\n",
              "      <td>0</td>\n",
              "      <td>91.38</td>\n",
              "      <td>-82.94</td>\n",
              "      <td>2019-03-25 16:04:00</td>\n",
              "      <td>2019-03-21 00:00:00</td>\n",
              "      <td>CHCK</td>\n",
              "      <td>Check</td>\n",
              "      <td>True</td>\n",
              "      <td>1.0</td>\n",
              "      <td>SingleFamily</td>\n",
              "      <td>False</td>\n",
              "      <td>False</td>\n",
              "      <td>O</td>\n",
              "      <td>False</td>\n",
              "      <td>True</td>\n",
              "      <td>34.0</td>\n",
              "      <td>258.0</td>\n",
              "      <td>HOU</td>\n",
              "      <td>72031.0</td>\n",
              "      <td>38.7</td>\n",
              "      <td>2.91</td>\n",
              "      <td>0.3443</td>\n",
              "      <td>37.2</td>\n",
              "      <td>1262.0</td>\n",
              "      <td>0.032565</td>\n",
              "      <td>0.094689</td>\n",
              "      <td>0.160321</td>\n",
              "      <td>0.029058</td>\n",
              "      <td>0.110721</td>\n",
              "      <td>0.021543</td>\n",
              "      <td>0.01002</td>\n",
              "      <td>0.034068</td>\n",
              "      <td>0.092685</td>\n",
              "      <td>0.237976</td>\n",
              "      <td>0.082164</td>\n",
              "      <td>0.056112</td>\n",
              "      <td>0.038076</td>\n",
              "      <td>0.944817</td>\n",
              "      <td>0.055183</td>\n",
              "      <td>0.001216</td>\n",
              "      <td>0.017018</td>\n",
              "      <td>0.003241</td>\n",
              "      <td>0.009319</td>\n",
              "      <td>0.01175</td>\n",
              "      <td>0.237034</td>\n",
              "      <td>0.051864</td>\n",
              "      <td>0.096029</td>\n",
              "      <td>0.161264</td>\n",
              "      <td>0.080227</td>\n",
              "      <td>0.216775</td>\n",
              "      <td>0.076175</td>\n",
              "      <td>0.009319</td>\n",
              "      <td>0.028768</td>\n",
              "      <td>0.307488</td>\n",
              "      <td>0.040846</td>\n",
              "      <td>0.655481</td>\n",
              "      <td>0.117823</td>\n",
              "      <td>0.046234</td>\n",
              "      <td>0.180462</td>\n",
              "      <td>0.064112</td>\n",
              "      <td>0.835249</td>\n",
              "      <td>0.055939</td>\n",
              "      <td>0.108812</td>\n",
              "      <td>0.910594</td>\n",
              "      <td>0.034625</td>\n",
              "      <td>0.027265</td>\n",
              "      <td>0.077397</td>\n",
              "      <td>0.0</td>\n",
              "      <td>0.578716</td>\n",
              "      <td>0.199105</td>\n",
              "      <td>0.367636</td>\n",
              "      <td>0.307979</td>\n",
              "      <td>0.12528</td>\n",
              "      <td>0.128834</td>\n",
              "      <td>0.111111</td>\n",
              "      <td>0.043456</td>\n",
              "      <td>0.085378</td>\n",
              "      <td>0.099949</td>\n",
              "      <td>0.034254</td>\n",
              "      <td>0.013548</td>\n",
              "      <td>0.012781</td>\n",
              "      <td>0.710634</td>\n",
              "      <td>1</td>\n",
              "    </tr>\n",
              "    <tr>\n",
              "      <th>4</th>\n",
              "      <td>4</td>\n",
              "      <td>4</td>\n",
              "      <td>0</td>\n",
              "      <td>68.32</td>\n",
              "      <td>-91.38</td>\n",
              "      <td>2019-04-10 16:04:15</td>\n",
              "      <td>2019-04-19 00:00:00</td>\n",
              "      <td>CHCK</td>\n",
              "      <td>Check</td>\n",
              "      <td>True</td>\n",
              "      <td>1.0</td>\n",
              "      <td>SingleFamily</td>\n",
              "      <td>False</td>\n",
              "      <td>False</td>\n",
              "      <td>O</td>\n",
              "      <td>False</td>\n",
              "      <td>True</td>\n",
              "      <td>34.0</td>\n",
              "      <td>258.0</td>\n",
              "      <td>HOU</td>\n",
              "      <td>72031.0</td>\n",
              "      <td>38.7</td>\n",
              "      <td>2.91</td>\n",
              "      <td>0.3443</td>\n",
              "      <td>37.2</td>\n",
              "      <td>1262.0</td>\n",
              "      <td>0.032565</td>\n",
              "      <td>0.094689</td>\n",
              "      <td>0.160321</td>\n",
              "      <td>0.029058</td>\n",
              "      <td>0.110721</td>\n",
              "      <td>0.021543</td>\n",
              "      <td>0.01002</td>\n",
              "      <td>0.034068</td>\n",
              "      <td>0.092685</td>\n",
              "      <td>0.237976</td>\n",
              "      <td>0.082164</td>\n",
              "      <td>0.056112</td>\n",
              "      <td>0.038076</td>\n",
              "      <td>0.944817</td>\n",
              "      <td>0.055183</td>\n",
              "      <td>0.001216</td>\n",
              "      <td>0.017018</td>\n",
              "      <td>0.003241</td>\n",
              "      <td>0.009319</td>\n",
              "      <td>0.01175</td>\n",
              "      <td>0.237034</td>\n",
              "      <td>0.051864</td>\n",
              "      <td>0.096029</td>\n",
              "      <td>0.161264</td>\n",
              "      <td>0.080227</td>\n",
              "      <td>0.216775</td>\n",
              "      <td>0.076175</td>\n",
              "      <td>0.009319</td>\n",
              "      <td>0.028768</td>\n",
              "      <td>0.307488</td>\n",
              "      <td>0.040846</td>\n",
              "      <td>0.655481</td>\n",
              "      <td>0.117823</td>\n",
              "      <td>0.046234</td>\n",
              "      <td>0.180462</td>\n",
              "      <td>0.064112</td>\n",
              "      <td>0.835249</td>\n",
              "      <td>0.055939</td>\n",
              "      <td>0.108812</td>\n",
              "      <td>0.910594</td>\n",
              "      <td>0.034625</td>\n",
              "      <td>0.027265</td>\n",
              "      <td>0.077397</td>\n",
              "      <td>0.0</td>\n",
              "      <td>0.578716</td>\n",
              "      <td>0.199105</td>\n",
              "      <td>0.367636</td>\n",
              "      <td>0.307979</td>\n",
              "      <td>0.12528</td>\n",
              "      <td>0.128834</td>\n",
              "      <td>0.111111</td>\n",
              "      <td>0.043456</td>\n",
              "      <td>0.085378</td>\n",
              "      <td>0.099949</td>\n",
              "      <td>0.034254</td>\n",
              "      <td>0.013548</td>\n",
              "      <td>0.012781</td>\n",
              "      <td>0.710634</td>\n",
              "      <td>0</td>\n",
              "    </tr>\n",
              "  </tbody>\n",
              "</table>\n",
              "</div>\n",
              "      <button class=\"colab-df-convert\" onclick=\"convertToInteractive('df-3e89c9be-d549-40e0-9040-e37db08715ce')\"\n",
              "              title=\"Convert this dataframe to an interactive table.\"\n",
              "              style=\"display:none;\">\n",
              "        \n",
              "  <svg xmlns=\"http://www.w3.org/2000/svg\" height=\"24px\"viewBox=\"0 0 24 24\"\n",
              "       width=\"24px\">\n",
              "    <path d=\"M0 0h24v24H0V0z\" fill=\"none\"/>\n",
              "    <path d=\"M18.56 5.44l.94 2.06.94-2.06 2.06-.94-2.06-.94-.94-2.06-.94 2.06-2.06.94zm-11 1L8.5 8.5l.94-2.06 2.06-.94-2.06-.94L8.5 2.5l-.94 2.06-2.06.94zm10 10l.94 2.06.94-2.06 2.06-.94-2.06-.94-.94-2.06-.94 2.06-2.06.94z\"/><path d=\"M17.41 7.96l-1.37-1.37c-.4-.4-.92-.59-1.43-.59-.52 0-1.04.2-1.43.59L10.3 9.45l-7.72 7.72c-.78.78-.78 2.05 0 2.83L4 21.41c.39.39.9.59 1.41.59.51 0 1.02-.2 1.41-.59l7.78-7.78 2.81-2.81c.8-.78.8-2.07 0-2.86zM5.41 20L4 18.59l7.72-7.72 1.47 1.35L5.41 20z\"/>\n",
              "  </svg>\n",
              "      </button>\n",
              "      \n",
              "  <style>\n",
              "    .colab-df-container {\n",
              "      display:flex;\n",
              "      flex-wrap:wrap;\n",
              "      gap: 12px;\n",
              "    }\n",
              "\n",
              "    .colab-df-convert {\n",
              "      background-color: #E8F0FE;\n",
              "      border: none;\n",
              "      border-radius: 50%;\n",
              "      cursor: pointer;\n",
              "      display: none;\n",
              "      fill: #1967D2;\n",
              "      height: 32px;\n",
              "      padding: 0 0 0 0;\n",
              "      width: 32px;\n",
              "    }\n",
              "\n",
              "    .colab-df-convert:hover {\n",
              "      background-color: #E2EBFA;\n",
              "      box-shadow: 0px 1px 2px rgba(60, 64, 67, 0.3), 0px 1px 3px 1px rgba(60, 64, 67, 0.15);\n",
              "      fill: #174EA6;\n",
              "    }\n",
              "\n",
              "    [theme=dark] .colab-df-convert {\n",
              "      background-color: #3B4455;\n",
              "      fill: #D2E3FC;\n",
              "    }\n",
              "\n",
              "    [theme=dark] .colab-df-convert:hover {\n",
              "      background-color: #434B5C;\n",
              "      box-shadow: 0px 1px 3px 1px rgba(0, 0, 0, 0.15);\n",
              "      filter: drop-shadow(0px 1px 2px rgba(0, 0, 0, 0.3));\n",
              "      fill: #FFFFFF;\n",
              "    }\n",
              "  </style>\n",
              "\n",
              "      <script>\n",
              "        const buttonEl =\n",
              "          document.querySelector('#df-3e89c9be-d549-40e0-9040-e37db08715ce button.colab-df-convert');\n",
              "        buttonEl.style.display =\n",
              "          google.colab.kernel.accessAllowed ? 'block' : 'none';\n",
              "\n",
              "        async function convertToInteractive(key) {\n",
              "          const element = document.querySelector('#df-3e89c9be-d549-40e0-9040-e37db08715ce');\n",
              "          const dataTable =\n",
              "            await google.colab.kernel.invokeFunction('convertToInteractive',\n",
              "                                                     [key], {});\n",
              "          if (!dataTable) return;\n",
              "\n",
              "          const docLinkHtml = 'Like what you see? Visit the ' +\n",
              "            '<a target=\"_blank\" href=https://colab.research.google.com/notebooks/data_table.ipynb>data table notebook</a>'\n",
              "            + ' to learn more about interactive tables.';\n",
              "          element.innerHTML = '';\n",
              "          dataTable['output_type'] = 'display_data';\n",
              "          await google.colab.output.renderOutput(dataTable, element);\n",
              "          const docLink = document.createElement('div');\n",
              "          docLink.innerHTML = docLinkHtml;\n",
              "          element.appendChild(docLink);\n",
              "        }\n",
              "      </script>\n",
              "    </div>\n",
              "  </div>\n",
              "  "
            ]
          },
          "metadata": {},
          "execution_count": 4
        }
      ],
      "source": [
        "df=pd.read_csv(\"/content/drive/MyDrive/EDA PROJECT/file.csv\")\n",
        "df.head()"
      ]
    },
    {
      "cell_type": "code",
      "execution_count": 5,
      "id": "a9f03738",
      "metadata": {
        "id": "a9f03738",
        "outputId": "e7832276-b99c-45f6-8648-e2f328f5b650",
        "colab": {
          "base_uri": "https://localhost:8080/"
        }
      },
      "outputs": [
        {
          "output_type": "execute_result",
          "data": {
            "text/plain": [
              "(158363, 85)"
            ]
          },
          "metadata": {},
          "execution_count": 5
        }
      ],
      "source": [
        "df.shape"
      ]
    },
    {
      "cell_type": "markdown",
      "id": "680e52b3",
      "metadata": {
        "id": "680e52b3"
      },
      "source": [
        "There are total 85 columns\n",
        "Taking only important columns required for analysis\n",
        "drops = list(df.columns[19:])"
      ]
    },
    {
      "cell_type": "code",
      "execution_count": 7,
      "id": "ed769ad7",
      "metadata": {
        "id": "ed769ad7",
        "outputId": "c9ae6af0-d679-45de-fdeb-3274555f3870",
        "colab": {
          "base_uri": "https://localhost:8080/",
          "height": 444
        }
      },
      "outputs": [
        {
          "output_type": "execute_result",
          "data": {
            "text/plain": [
              "   bill_id  account_id  billing_amount  current_balance           pay_cre_dt  \\\n",
              "0        0           0           97.23           -81.50  2018-12-11 16:03:51   \n",
              "1        1           0           86.02           -97.23  2019-01-10 16:03:54   \n",
              "2        2           0           82.94           -86.02  2019-02-11 16:04:24   \n",
              "3        3           0           91.38           -82.94  2019-03-25 16:04:00   \n",
              "4        4           0           68.32           -91.38  2019-04-10 16:04:15   \n",
              "\n",
              "                due_dt tender_type tender_type_descr  has_email  bill_mailed  \\\n",
              "0  2018-12-19 00:00:00        CHCK             Check       True          1.0   \n",
              "1  2019-01-22 00:00:00        CHCK             Check       True          1.0   \n",
              "2  2019-02-20 00:00:00        CHCK             Check       True          1.0   \n",
              "3  2019-03-21 00:00:00        CHCK             Check       True          1.0   \n",
              "4  2019-04-19 00:00:00        CHCK             Check       True          1.0   \n",
              "\n",
              "  dwelling_type_desc  has_med_cert  is_equal_pay_acct own_rent  is_renewable  \\\n",
              "0       SingleFamily         False              False        O         False   \n",
              "1       SingleFamily         False              False        O         False   \n",
              "2       SingleFamily         False              False        O         False   \n",
              "3       SingleFamily         False              False        O         False   \n",
              "4       SingleFamily         False              False        O         False   \n",
              "\n",
              "   is_web_registered  pge_account_months  pge_customer_months  \\\n",
              "0               True                34.0                258.0   \n",
              "1               True                34.0                258.0   \n",
              "2               True                34.0                258.0   \n",
              "3               True                34.0                258.0   \n",
              "4               True                34.0                258.0   \n",
              "\n",
              "  premise_type_code  \n",
              "0          HOU       \n",
              "1          HOU       \n",
              "2          HOU       \n",
              "3          HOU       \n",
              "4          HOU       "
            ],
            "text/html": [
              "\n",
              "  <div id=\"df-95110eca-1c47-4a25-8754-7667e8541c6e\">\n",
              "    <div class=\"colab-df-container\">\n",
              "      <div>\n",
              "<style scoped>\n",
              "    .dataframe tbody tr th:only-of-type {\n",
              "        vertical-align: middle;\n",
              "    }\n",
              "\n",
              "    .dataframe tbody tr th {\n",
              "        vertical-align: top;\n",
              "    }\n",
              "\n",
              "    .dataframe thead th {\n",
              "        text-align: right;\n",
              "    }\n",
              "</style>\n",
              "<table border=\"1\" class=\"dataframe\">\n",
              "  <thead>\n",
              "    <tr style=\"text-align: right;\">\n",
              "      <th></th>\n",
              "      <th>bill_id</th>\n",
              "      <th>account_id</th>\n",
              "      <th>billing_amount</th>\n",
              "      <th>current_balance</th>\n",
              "      <th>pay_cre_dt</th>\n",
              "      <th>due_dt</th>\n",
              "      <th>tender_type</th>\n",
              "      <th>tender_type_descr</th>\n",
              "      <th>has_email</th>\n",
              "      <th>bill_mailed</th>\n",
              "      <th>dwelling_type_desc</th>\n",
              "      <th>has_med_cert</th>\n",
              "      <th>is_equal_pay_acct</th>\n",
              "      <th>own_rent</th>\n",
              "      <th>is_renewable</th>\n",
              "      <th>is_web_registered</th>\n",
              "      <th>pge_account_months</th>\n",
              "      <th>pge_customer_months</th>\n",
              "      <th>premise_type_code</th>\n",
              "    </tr>\n",
              "  </thead>\n",
              "  <tbody>\n",
              "    <tr>\n",
              "      <th>0</th>\n",
              "      <td>0</td>\n",
              "      <td>0</td>\n",
              "      <td>97.23</td>\n",
              "      <td>-81.50</td>\n",
              "      <td>2018-12-11 16:03:51</td>\n",
              "      <td>2018-12-19 00:00:00</td>\n",
              "      <td>CHCK</td>\n",
              "      <td>Check</td>\n",
              "      <td>True</td>\n",
              "      <td>1.0</td>\n",
              "      <td>SingleFamily</td>\n",
              "      <td>False</td>\n",
              "      <td>False</td>\n",
              "      <td>O</td>\n",
              "      <td>False</td>\n",
              "      <td>True</td>\n",
              "      <td>34.0</td>\n",
              "      <td>258.0</td>\n",
              "      <td>HOU</td>\n",
              "    </tr>\n",
              "    <tr>\n",
              "      <th>1</th>\n",
              "      <td>1</td>\n",
              "      <td>0</td>\n",
              "      <td>86.02</td>\n",
              "      <td>-97.23</td>\n",
              "      <td>2019-01-10 16:03:54</td>\n",
              "      <td>2019-01-22 00:00:00</td>\n",
              "      <td>CHCK</td>\n",
              "      <td>Check</td>\n",
              "      <td>True</td>\n",
              "      <td>1.0</td>\n",
              "      <td>SingleFamily</td>\n",
              "      <td>False</td>\n",
              "      <td>False</td>\n",
              "      <td>O</td>\n",
              "      <td>False</td>\n",
              "      <td>True</td>\n",
              "      <td>34.0</td>\n",
              "      <td>258.0</td>\n",
              "      <td>HOU</td>\n",
              "    </tr>\n",
              "    <tr>\n",
              "      <th>2</th>\n",
              "      <td>2</td>\n",
              "      <td>0</td>\n",
              "      <td>82.94</td>\n",
              "      <td>-86.02</td>\n",
              "      <td>2019-02-11 16:04:24</td>\n",
              "      <td>2019-02-20 00:00:00</td>\n",
              "      <td>CHCK</td>\n",
              "      <td>Check</td>\n",
              "      <td>True</td>\n",
              "      <td>1.0</td>\n",
              "      <td>SingleFamily</td>\n",
              "      <td>False</td>\n",
              "      <td>False</td>\n",
              "      <td>O</td>\n",
              "      <td>False</td>\n",
              "      <td>True</td>\n",
              "      <td>34.0</td>\n",
              "      <td>258.0</td>\n",
              "      <td>HOU</td>\n",
              "    </tr>\n",
              "    <tr>\n",
              "      <th>3</th>\n",
              "      <td>3</td>\n",
              "      <td>0</td>\n",
              "      <td>91.38</td>\n",
              "      <td>-82.94</td>\n",
              "      <td>2019-03-25 16:04:00</td>\n",
              "      <td>2019-03-21 00:00:00</td>\n",
              "      <td>CHCK</td>\n",
              "      <td>Check</td>\n",
              "      <td>True</td>\n",
              "      <td>1.0</td>\n",
              "      <td>SingleFamily</td>\n",
              "      <td>False</td>\n",
              "      <td>False</td>\n",
              "      <td>O</td>\n",
              "      <td>False</td>\n",
              "      <td>True</td>\n",
              "      <td>34.0</td>\n",
              "      <td>258.0</td>\n",
              "      <td>HOU</td>\n",
              "    </tr>\n",
              "    <tr>\n",
              "      <th>4</th>\n",
              "      <td>4</td>\n",
              "      <td>0</td>\n",
              "      <td>68.32</td>\n",
              "      <td>-91.38</td>\n",
              "      <td>2019-04-10 16:04:15</td>\n",
              "      <td>2019-04-19 00:00:00</td>\n",
              "      <td>CHCK</td>\n",
              "      <td>Check</td>\n",
              "      <td>True</td>\n",
              "      <td>1.0</td>\n",
              "      <td>SingleFamily</td>\n",
              "      <td>False</td>\n",
              "      <td>False</td>\n",
              "      <td>O</td>\n",
              "      <td>False</td>\n",
              "      <td>True</td>\n",
              "      <td>34.0</td>\n",
              "      <td>258.0</td>\n",
              "      <td>HOU</td>\n",
              "    </tr>\n",
              "  </tbody>\n",
              "</table>\n",
              "</div>\n",
              "      <button class=\"colab-df-convert\" onclick=\"convertToInteractive('df-95110eca-1c47-4a25-8754-7667e8541c6e')\"\n",
              "              title=\"Convert this dataframe to an interactive table.\"\n",
              "              style=\"display:none;\">\n",
              "        \n",
              "  <svg xmlns=\"http://www.w3.org/2000/svg\" height=\"24px\"viewBox=\"0 0 24 24\"\n",
              "       width=\"24px\">\n",
              "    <path d=\"M0 0h24v24H0V0z\" fill=\"none\"/>\n",
              "    <path d=\"M18.56 5.44l.94 2.06.94-2.06 2.06-.94-2.06-.94-.94-2.06-.94 2.06-2.06.94zm-11 1L8.5 8.5l.94-2.06 2.06-.94-2.06-.94L8.5 2.5l-.94 2.06-2.06.94zm10 10l.94 2.06.94-2.06 2.06-.94-2.06-.94-.94-2.06-.94 2.06-2.06.94z\"/><path d=\"M17.41 7.96l-1.37-1.37c-.4-.4-.92-.59-1.43-.59-.52 0-1.04.2-1.43.59L10.3 9.45l-7.72 7.72c-.78.78-.78 2.05 0 2.83L4 21.41c.39.39.9.59 1.41.59.51 0 1.02-.2 1.41-.59l7.78-7.78 2.81-2.81c.8-.78.8-2.07 0-2.86zM5.41 20L4 18.59l7.72-7.72 1.47 1.35L5.41 20z\"/>\n",
              "  </svg>\n",
              "      </button>\n",
              "      \n",
              "  <style>\n",
              "    .colab-df-container {\n",
              "      display:flex;\n",
              "      flex-wrap:wrap;\n",
              "      gap: 12px;\n",
              "    }\n",
              "\n",
              "    .colab-df-convert {\n",
              "      background-color: #E8F0FE;\n",
              "      border: none;\n",
              "      border-radius: 50%;\n",
              "      cursor: pointer;\n",
              "      display: none;\n",
              "      fill: #1967D2;\n",
              "      height: 32px;\n",
              "      padding: 0 0 0 0;\n",
              "      width: 32px;\n",
              "    }\n",
              "\n",
              "    .colab-df-convert:hover {\n",
              "      background-color: #E2EBFA;\n",
              "      box-shadow: 0px 1px 2px rgba(60, 64, 67, 0.3), 0px 1px 3px 1px rgba(60, 64, 67, 0.15);\n",
              "      fill: #174EA6;\n",
              "    }\n",
              "\n",
              "    [theme=dark] .colab-df-convert {\n",
              "      background-color: #3B4455;\n",
              "      fill: #D2E3FC;\n",
              "    }\n",
              "\n",
              "    [theme=dark] .colab-df-convert:hover {\n",
              "      background-color: #434B5C;\n",
              "      box-shadow: 0px 1px 3px 1px rgba(0, 0, 0, 0.15);\n",
              "      filter: drop-shadow(0px 1px 2px rgba(0, 0, 0, 0.3));\n",
              "      fill: #FFFFFF;\n",
              "    }\n",
              "  </style>\n",
              "\n",
              "      <script>\n",
              "        const buttonEl =\n",
              "          document.querySelector('#df-95110eca-1c47-4a25-8754-7667e8541c6e button.colab-df-convert');\n",
              "        buttonEl.style.display =\n",
              "          google.colab.kernel.accessAllowed ? 'block' : 'none';\n",
              "\n",
              "        async function convertToInteractive(key) {\n",
              "          const element = document.querySelector('#df-95110eca-1c47-4a25-8754-7667e8541c6e');\n",
              "          const dataTable =\n",
              "            await google.colab.kernel.invokeFunction('convertToInteractive',\n",
              "                                                     [key], {});\n",
              "          if (!dataTable) return;\n",
              "\n",
              "          const docLinkHtml = 'Like what you see? Visit the ' +\n",
              "            '<a target=\"_blank\" href=https://colab.research.google.com/notebooks/data_table.ipynb>data table notebook</a>'\n",
              "            + ' to learn more about interactive tables.';\n",
              "          element.innerHTML = '';\n",
              "          dataTable['output_type'] = 'display_data';\n",
              "          await google.colab.output.renderOutput(dataTable, element);\n",
              "          const docLink = document.createElement('div');\n",
              "          docLink.innerHTML = docLinkHtml;\n",
              "          element.appendChild(docLink);\n",
              "        }\n",
              "      </script>\n",
              "    </div>\n",
              "  </div>\n",
              "  "
            ]
          },
          "metadata": {},
          "execution_count": 7
        }
      ],
      "source": [
        "df = df[['bill_id','account_id','billing_amount','current_balance','pay_cre_dt','due_dt','tender_type','tender_type_descr','has_email','bill_mailed','dwelling_type_desc','has_med_cert','is_equal_pay_acct',\n",
        "      'own_rent','is_renewable','is_web_registered','pge_account_months','pge_customer_months','premise_type_code']]\n",
        "df.head()"
      ]
    },
    {
      "cell_type": "code",
      "execution_count": 6,
      "id": "131f036c",
      "metadata": {
        "id": "131f036c",
        "outputId": "db7ec6f4-ecf3-4c1a-ea86-00fb64909eb3",
        "colab": {
          "base_uri": "https://localhost:8080/"
        }
      },
      "outputs": [
        {
          "output_type": "execute_result",
          "data": {
            "text/plain": [
              "(158363, 85)"
            ]
          },
          "metadata": {},
          "execution_count": 6
        }
      ],
      "source": [
        "df.shape"
      ]
    },
    {
      "cell_type": "code",
      "execution_count": 8,
      "id": "53ffa757",
      "metadata": {
        "id": "53ffa757",
        "outputId": "e696b972-d38c-4c82-dd37-563d7755cb47",
        "colab": {
          "base_uri": "https://localhost:8080/"
        }
      },
      "outputs": [
        {
          "output_type": "stream",
          "name": "stdout",
          "text": [
            "<class 'pandas.core.frame.DataFrame'>\n",
            "RangeIndex: 158363 entries, 0 to 158362\n",
            "Data columns (total 19 columns):\n",
            " #   Column               Non-Null Count   Dtype  \n",
            "---  ------               --------------   -----  \n",
            " 0   bill_id              158363 non-null  int64  \n",
            " 1   account_id           158363 non-null  int64  \n",
            " 2   billing_amount       158363 non-null  float64\n",
            " 3   current_balance      158363 non-null  float64\n",
            " 4   pay_cre_dt           158363 non-null  object \n",
            " 5   due_dt               158363 non-null  object \n",
            " 6   tender_type          76507 non-null   object \n",
            " 7   tender_type_descr    76507 non-null   object \n",
            " 8   has_email            158363 non-null  bool   \n",
            " 9   bill_mailed          158363 non-null  float64\n",
            " 10  dwelling_type_desc   158329 non-null  object \n",
            " 11  has_med_cert         158363 non-null  bool   \n",
            " 12  is_equal_pay_acct    158363 non-null  bool   \n",
            " 13  own_rent             158363 non-null  object \n",
            " 14  is_renewable         158363 non-null  bool   \n",
            " 15  is_web_registered    158363 non-null  bool   \n",
            " 16  pge_account_months   158363 non-null  float64\n",
            " 17  pge_customer_months  158363 non-null  float64\n",
            " 18  premise_type_code    158363 non-null  object \n",
            "dtypes: bool(5), float64(5), int64(2), object(7)\n",
            "memory usage: 17.7+ MB\n"
          ]
        }
      ],
      "source": [
        "df.info()"
      ]
    },
    {
      "cell_type": "markdown",
      "id": "7ced332e",
      "metadata": {
        "id": "7ced332e"
      },
      "source": [
        "# descriptive statstics"
      ]
    },
    {
      "cell_type": "code",
      "execution_count": 10,
      "id": "0e95b1ae",
      "metadata": {
        "id": "0e95b1ae",
        "outputId": "56866e01-eb8e-4e33-89b9-6baaaa79fc93",
        "colab": {
          "base_uri": "https://localhost:8080/",
          "height": 300
        }
      },
      "outputs": [
        {
          "output_type": "execute_result",
          "data": {
            "text/plain": [
              "             bill_id     account_id  billing_amount  current_balance  \\\n",
              "count  158363.000000  158363.000000   158363.000000    158363.000000   \n",
              "mean    79181.000000    4961.583545      115.968180       -77.913308   \n",
              "std     45715.604677    2868.275677       88.959604       229.985583   \n",
              "min         0.000000       0.000000      -20.810000    -25027.850000   \n",
              "25%     39590.500000    2479.000000       64.570000      -130.360000   \n",
              "50%     79181.000000    4947.000000       93.860000       -80.680000   \n",
              "75%    118771.500000    7443.500000      141.180000       -44.240000   \n",
              "max    158362.000000    9932.000000     2492.960000     20522.850000   \n",
              "\n",
              "         bill_mailed  pge_account_months  pge_customer_months  \n",
              "count  158363.000000       158363.000000        158363.000000  \n",
              "mean        0.525325          137.889457           210.082892  \n",
              "std         0.499360          131.509690           167.050376  \n",
              "min         0.000000            3.000000             4.000000  \n",
              "25%         0.000000           39.000000            81.000000  \n",
              "50%         1.000000           84.000000           201.000000  \n",
              "75%         1.000000          201.000000           268.000000  \n",
              "max         1.000000          725.000000           845.000000  "
            ],
            "text/html": [
              "\n",
              "  <div id=\"df-c3f0969c-4d0b-475d-aac8-0a5bbca0d5ed\">\n",
              "    <div class=\"colab-df-container\">\n",
              "      <div>\n",
              "<style scoped>\n",
              "    .dataframe tbody tr th:only-of-type {\n",
              "        vertical-align: middle;\n",
              "    }\n",
              "\n",
              "    .dataframe tbody tr th {\n",
              "        vertical-align: top;\n",
              "    }\n",
              "\n",
              "    .dataframe thead th {\n",
              "        text-align: right;\n",
              "    }\n",
              "</style>\n",
              "<table border=\"1\" class=\"dataframe\">\n",
              "  <thead>\n",
              "    <tr style=\"text-align: right;\">\n",
              "      <th></th>\n",
              "      <th>bill_id</th>\n",
              "      <th>account_id</th>\n",
              "      <th>billing_amount</th>\n",
              "      <th>current_balance</th>\n",
              "      <th>bill_mailed</th>\n",
              "      <th>pge_account_months</th>\n",
              "      <th>pge_customer_months</th>\n",
              "    </tr>\n",
              "  </thead>\n",
              "  <tbody>\n",
              "    <tr>\n",
              "      <th>count</th>\n",
              "      <td>158363.000000</td>\n",
              "      <td>158363.000000</td>\n",
              "      <td>158363.000000</td>\n",
              "      <td>158363.000000</td>\n",
              "      <td>158363.000000</td>\n",
              "      <td>158363.000000</td>\n",
              "      <td>158363.000000</td>\n",
              "    </tr>\n",
              "    <tr>\n",
              "      <th>mean</th>\n",
              "      <td>79181.000000</td>\n",
              "      <td>4961.583545</td>\n",
              "      <td>115.968180</td>\n",
              "      <td>-77.913308</td>\n",
              "      <td>0.525325</td>\n",
              "      <td>137.889457</td>\n",
              "      <td>210.082892</td>\n",
              "    </tr>\n",
              "    <tr>\n",
              "      <th>std</th>\n",
              "      <td>45715.604677</td>\n",
              "      <td>2868.275677</td>\n",
              "      <td>88.959604</td>\n",
              "      <td>229.985583</td>\n",
              "      <td>0.499360</td>\n",
              "      <td>131.509690</td>\n",
              "      <td>167.050376</td>\n",
              "    </tr>\n",
              "    <tr>\n",
              "      <th>min</th>\n",
              "      <td>0.000000</td>\n",
              "      <td>0.000000</td>\n",
              "      <td>-20.810000</td>\n",
              "      <td>-25027.850000</td>\n",
              "      <td>0.000000</td>\n",
              "      <td>3.000000</td>\n",
              "      <td>4.000000</td>\n",
              "    </tr>\n",
              "    <tr>\n",
              "      <th>25%</th>\n",
              "      <td>39590.500000</td>\n",
              "      <td>2479.000000</td>\n",
              "      <td>64.570000</td>\n",
              "      <td>-130.360000</td>\n",
              "      <td>0.000000</td>\n",
              "      <td>39.000000</td>\n",
              "      <td>81.000000</td>\n",
              "    </tr>\n",
              "    <tr>\n",
              "      <th>50%</th>\n",
              "      <td>79181.000000</td>\n",
              "      <td>4947.000000</td>\n",
              "      <td>93.860000</td>\n",
              "      <td>-80.680000</td>\n",
              "      <td>1.000000</td>\n",
              "      <td>84.000000</td>\n",
              "      <td>201.000000</td>\n",
              "    </tr>\n",
              "    <tr>\n",
              "      <th>75%</th>\n",
              "      <td>118771.500000</td>\n",
              "      <td>7443.500000</td>\n",
              "      <td>141.180000</td>\n",
              "      <td>-44.240000</td>\n",
              "      <td>1.000000</td>\n",
              "      <td>201.000000</td>\n",
              "      <td>268.000000</td>\n",
              "    </tr>\n",
              "    <tr>\n",
              "      <th>max</th>\n",
              "      <td>158362.000000</td>\n",
              "      <td>9932.000000</td>\n",
              "      <td>2492.960000</td>\n",
              "      <td>20522.850000</td>\n",
              "      <td>1.000000</td>\n",
              "      <td>725.000000</td>\n",
              "      <td>845.000000</td>\n",
              "    </tr>\n",
              "  </tbody>\n",
              "</table>\n",
              "</div>\n",
              "      <button class=\"colab-df-convert\" onclick=\"convertToInteractive('df-c3f0969c-4d0b-475d-aac8-0a5bbca0d5ed')\"\n",
              "              title=\"Convert this dataframe to an interactive table.\"\n",
              "              style=\"display:none;\">\n",
              "        \n",
              "  <svg xmlns=\"http://www.w3.org/2000/svg\" height=\"24px\"viewBox=\"0 0 24 24\"\n",
              "       width=\"24px\">\n",
              "    <path d=\"M0 0h24v24H0V0z\" fill=\"none\"/>\n",
              "    <path d=\"M18.56 5.44l.94 2.06.94-2.06 2.06-.94-2.06-.94-.94-2.06-.94 2.06-2.06.94zm-11 1L8.5 8.5l.94-2.06 2.06-.94-2.06-.94L8.5 2.5l-.94 2.06-2.06.94zm10 10l.94 2.06.94-2.06 2.06-.94-2.06-.94-.94-2.06-.94 2.06-2.06.94z\"/><path d=\"M17.41 7.96l-1.37-1.37c-.4-.4-.92-.59-1.43-.59-.52 0-1.04.2-1.43.59L10.3 9.45l-7.72 7.72c-.78.78-.78 2.05 0 2.83L4 21.41c.39.39.9.59 1.41.59.51 0 1.02-.2 1.41-.59l7.78-7.78 2.81-2.81c.8-.78.8-2.07 0-2.86zM5.41 20L4 18.59l7.72-7.72 1.47 1.35L5.41 20z\"/>\n",
              "  </svg>\n",
              "      </button>\n",
              "      \n",
              "  <style>\n",
              "    .colab-df-container {\n",
              "      display:flex;\n",
              "      flex-wrap:wrap;\n",
              "      gap: 12px;\n",
              "    }\n",
              "\n",
              "    .colab-df-convert {\n",
              "      background-color: #E8F0FE;\n",
              "      border: none;\n",
              "      border-radius: 50%;\n",
              "      cursor: pointer;\n",
              "      display: none;\n",
              "      fill: #1967D2;\n",
              "      height: 32px;\n",
              "      padding: 0 0 0 0;\n",
              "      width: 32px;\n",
              "    }\n",
              "\n",
              "    .colab-df-convert:hover {\n",
              "      background-color: #E2EBFA;\n",
              "      box-shadow: 0px 1px 2px rgba(60, 64, 67, 0.3), 0px 1px 3px 1px rgba(60, 64, 67, 0.15);\n",
              "      fill: #174EA6;\n",
              "    }\n",
              "\n",
              "    [theme=dark] .colab-df-convert {\n",
              "      background-color: #3B4455;\n",
              "      fill: #D2E3FC;\n",
              "    }\n",
              "\n",
              "    [theme=dark] .colab-df-convert:hover {\n",
              "      background-color: #434B5C;\n",
              "      box-shadow: 0px 1px 3px 1px rgba(0, 0, 0, 0.15);\n",
              "      filter: drop-shadow(0px 1px 2px rgba(0, 0, 0, 0.3));\n",
              "      fill: #FFFFFF;\n",
              "    }\n",
              "  </style>\n",
              "\n",
              "      <script>\n",
              "        const buttonEl =\n",
              "          document.querySelector('#df-c3f0969c-4d0b-475d-aac8-0a5bbca0d5ed button.colab-df-convert');\n",
              "        buttonEl.style.display =\n",
              "          google.colab.kernel.accessAllowed ? 'block' : 'none';\n",
              "\n",
              "        async function convertToInteractive(key) {\n",
              "          const element = document.querySelector('#df-c3f0969c-4d0b-475d-aac8-0a5bbca0d5ed');\n",
              "          const dataTable =\n",
              "            await google.colab.kernel.invokeFunction('convertToInteractive',\n",
              "                                                     [key], {});\n",
              "          if (!dataTable) return;\n",
              "\n",
              "          const docLinkHtml = 'Like what you see? Visit the ' +\n",
              "            '<a target=\"_blank\" href=https://colab.research.google.com/notebooks/data_table.ipynb>data table notebook</a>'\n",
              "            + ' to learn more about interactive tables.';\n",
              "          element.innerHTML = '';\n",
              "          dataTable['output_type'] = 'display_data';\n",
              "          await google.colab.output.renderOutput(dataTable, element);\n",
              "          const docLink = document.createElement('div');\n",
              "          docLink.innerHTML = docLinkHtml;\n",
              "          element.appendChild(docLink);\n",
              "        }\n",
              "      </script>\n",
              "    </div>\n",
              "  </div>\n",
              "  "
            ]
          },
          "metadata": {},
          "execution_count": 10
        }
      ],
      "source": [
        "df.describe()"
      ]
    },
    {
      "cell_type": "code",
      "execution_count": 14,
      "id": "4fbbaf2d",
      "metadata": {
        "id": "4fbbaf2d",
        "outputId": "310e27a9-f196-435c-c359-20ae3687aaf6",
        "colab": {
          "base_uri": "https://localhost:8080/"
        }
      },
      "outputs": [
        {
          "output_type": "execute_result",
          "data": {
            "text/plain": [
              "0         False\n",
              "1         False\n",
              "2         False\n",
              "3         False\n",
              "4         False\n",
              "          ...  \n",
              "158358    False\n",
              "158359    False\n",
              "158360    False\n",
              "158361    False\n",
              "158362    False\n",
              "Length: 158363, dtype: bool"
            ]
          },
          "metadata": {},
          "execution_count": 14
        }
      ],
      "source": [
        "## Checking duplicate Values\n",
        "df.duplicated()\n"
      ]
    },
    {
      "cell_type": "code",
      "execution_count": 12,
      "id": "4761263f",
      "metadata": {
        "id": "4761263f",
        "outputId": "0e3d6f36-8ca7-4633-ec2f-ff0c197f1582",
        "colab": {
          "base_uri": "https://localhost:8080/"
        }
      },
      "outputs": [
        {
          "output_type": "execute_result",
          "data": {
            "text/plain": [
              "0"
            ]
          },
          "metadata": {},
          "execution_count": 12
        }
      ],
      "source": [
        "df.duplicated().sum()"
      ]
    },
    {
      "cell_type": "code",
      "execution_count": 15,
      "id": "bc9b9fd3",
      "metadata": {
        "id": "bc9b9fd3",
        "outputId": "6a30ee56-4ce6-4df8-8eed-1c62d67a5d3e",
        "colab": {
          "base_uri": "https://localhost:8080/"
        }
      },
      "outputs": [
        {
          "output_type": "stream",
          "name": "stdout",
          "text": [
            "bill_id                    0\n",
            "account_id                 0\n",
            "billing_amount             0\n",
            "current_balance            0\n",
            "pay_cre_dt                 0\n",
            "due_dt                     0\n",
            "tender_type            81856\n",
            "tender_type_descr      81856\n",
            "has_email                  0\n",
            "bill_mailed                0\n",
            "dwelling_type_desc        34\n",
            "has_med_cert               0\n",
            "is_equal_pay_acct          0\n",
            "own_rent                   0\n",
            "is_renewable               0\n",
            "is_web_registered          0\n",
            "pge_account_months         0\n",
            "pge_customer_months        0\n",
            "premise_type_code          0\n",
            "dtype: int64\n"
          ]
        }
      ],
      "source": [
        "## Checking Missing Values\n",
        "print(df.isnull().sum()) "
      ]
    },
    {
      "cell_type": "code",
      "source": [
        "plt.figure(figsize=(10, 8))\n",
        "sns.heatmap(df.isna())"
      ],
      "metadata": {
        "colab": {
          "base_uri": "https://localhost:8080/",
          "height": 608
        },
        "id": "ihQGWliDrerU",
        "outputId": "1074a84a-418d-4351-df44-7cb78ec8cf00"
      },
      "id": "ihQGWliDrerU",
      "execution_count": 16,
      "outputs": [
        {
          "output_type": "execute_result",
          "data": {
            "text/plain": [
              "<matplotlib.axes._subplots.AxesSubplot at 0x7f6021750790>"
            ]
          },
          "metadata": {},
          "execution_count": 16
        },
        {
          "output_type": "display_data",
          "data": {
            "text/plain": [
              "<Figure size 720x576 with 2 Axes>"
            ],
            "image/png": "[encoded data removed]"
          },
          "metadata": {
            "needs_background": "light"
          }
        }
      ]
    },
    {
      "cell_type": "markdown",
      "source": [
        "# **Handling Null values**"
      ],
      "metadata": {
        "id": "q9yBE4bwrt15"
      },
      "id": "q9yBE4bwrt15"
    },
    {
      "cell_type": "code",
      "source": [
        "df[\"tender_type\"].isnull().sum()"
      ],
      "metadata": {
        "colab": {
          "base_uri": "https://localhost:8080/"
        },
        "id": "CshSIhSXr9DO",
        "outputId": "8ffb49f6-b865-4acb-d16e-0c1fea5aa3a1"
      },
      "id": "CshSIhSXr9DO",
      "execution_count": 18,
      "outputs": [
        {
          "output_type": "execute_result",
          "data": {
            "text/plain": [
              "81856"
            ]
          },
          "metadata": {},
          "execution_count": 18
        }
      ]
    },
    {
      "cell_type": "code",
      "source": [
        "mode= df.tender_type.mode()\n",
        "mode\n",
        "#The most common payment method is through Check"
      ],
      "metadata": {
        "colab": {
          "base_uri": "https://localhost:8080/"
        },
        "id": "cwORuhcZr9Px",
        "outputId": "1edc4801-a418-493f-edbd-efa045f853b8"
      },
      "id": "cwORuhcZr9Px",
      "execution_count": 19,
      "outputs": [
        {
          "output_type": "execute_result",
          "data": {
            "text/plain": [
              "0    CHCK\n",
              "dtype: object"
            ]
          },
          "metadata": {},
          "execution_count": 19
        }
      ]
    },
    {
      "cell_type": "code",
      "source": [
        "df.groupby(['tender_type']).size()"
      ],
      "metadata": {
        "colab": {
          "base_uri": "https://localhost:8080/"
        },
        "id": "SQeUojmcr9dc",
        "outputId": "37bb51aa-cf25-4e2a-daa3-1221d06dfbe7"
      },
      "id": "SQeUojmcr9dc",
      "execution_count": 20,
      "outputs": [
        {
          "output_type": "execute_result",
          "data": {
            "text/plain": [
              "tender_type\n",
              "CACK        7\n",
              "CASH     4281\n",
              "CC        256\n",
              "CHCK    70451\n",
              "CMT      1365\n",
              "DEBT       39\n",
              "MO        108\n",
              "dtype: int64"
            ]
          },
          "metadata": {},
          "execution_count": 20
        }
      ]
    },
    {
      "cell_type": "code",
      "source": [
        "#let's fill the NULLs with \"CHCK\" value\n",
        "df['tender_type_filled'] =df['tender_type'].fillna(value='CHCK')\n",
        "df['tender_type_filled'].isnull().sum()"
      ],
      "metadata": {
        "colab": {
          "base_uri": "https://localhost:8080/"
        },
        "id": "2G6NB8QHsFxp",
        "outputId": "178458aa-cb23-4a36-9c59-a6e23d422119"
      },
      "id": "2G6NB8QHsFxp",
      "execution_count": 21,
      "outputs": [
        {
          "output_type": "execute_result",
          "data": {
            "text/plain": [
              "0"
            ]
          },
          "metadata": {},
          "execution_count": 21
        }
      ]
    },
    {
      "cell_type": "code",
      "source": [
        "df.groupby(['tender_type_filled']).size()"
      ],
      "metadata": {
        "colab": {
          "base_uri": "https://localhost:8080/"
        },
        "id": "Q_IKCXWmsF0w",
        "outputId": "cd46ab83-a2c7-4a29-a361-9b9296ff6dae"
      },
      "id": "Q_IKCXWmsF0w",
      "execution_count": 22,
      "outputs": [
        {
          "output_type": "execute_result",
          "data": {
            "text/plain": [
              "tender_type_filled\n",
              "CACK         7\n",
              "CASH      4281\n",
              "CC         256\n",
              "CHCK    152307\n",
              "CMT       1365\n",
              "DEBT        39\n",
              "MO         108\n",
              "dtype: int64"
            ]
          },
          "metadata": {},
          "execution_count": 22
        }
      ]
    },
    {
      "cell_type": "code",
      "source": [
        "df[\"tender_type_descr\"].isnull().sum()"
      ],
      "metadata": {
        "colab": {
          "base_uri": "https://localhost:8080/"
        },
        "id": "WUBtKroEsF3j",
        "outputId": "b73fe53f-decc-4c94-ee8d-21368ae7acd9"
      },
      "id": "WUBtKroEsF3j",
      "execution_count": 23,
      "outputs": [
        {
          "output_type": "execute_result",
          "data": {
            "text/plain": [
              "81856"
            ]
          },
          "metadata": {},
          "execution_count": 23
        }
      ]
    },
    {
      "cell_type": "code",
      "source": [
        "df.groupby(['tender_type_descr']).size()\n",
        "#The most common payment method is through Check"
      ],
      "metadata": {
        "colab": {
          "base_uri": "https://localhost:8080/"
        },
        "id": "_596Ls2VsF68",
        "outputId": "ad00b5e0-7d63-44be-9073-d3306ca5e188"
      },
      "id": "_596Ls2VsF68",
      "execution_count": 24,
      "outputs": [
        {
          "output_type": "execute_result",
          "data": {
            "text/plain": [
              "tender_type_descr\n",
              "Cash                4281\n",
              "Cashier's Check        7\n",
              "Check              70451\n",
              "Commitment          1365\n",
              "Credit Card          256\n",
              "Debit Card            39\n",
              "Money Order          108\n",
              "dtype: int64"
            ]
          },
          "metadata": {},
          "execution_count": 24
        }
      ]
    },
    {
      "cell_type": "code",
      "source": [
        "# Filling the null values with the most common value \"check \"\n",
        "df['tender_type_descr1'] =df['tender_type_descr'].fillna(value='check')\n",
        "df['tender_type_descr1'].isnull().sum()"
      ],
      "metadata": {
        "colab": {
          "base_uri": "https://localhost:8080/"
        },
        "id": "zRfDZkK2r9g0",
        "outputId": "d404bb44-6429-4aa8-9dda-e28528345583"
      },
      "id": "zRfDZkK2r9g0",
      "execution_count": 25,
      "outputs": [
        {
          "output_type": "execute_result",
          "data": {
            "text/plain": [
              "0"
            ]
          },
          "metadata": {},
          "execution_count": 25
        }
      ]
    },
    {
      "cell_type": "code",
      "source": [
        "df[\"dwelling_type_desc\"].isnull().sum()"
      ],
      "metadata": {
        "colab": {
          "base_uri": "https://localhost:8080/"
        },
        "id": "Ba9fDydSsS7o",
        "outputId": "2b78bff2-1b36-447d-ce5f-19090348f77c"
      },
      "id": "Ba9fDydSsS7o",
      "execution_count": 26,
      "outputs": [
        {
          "output_type": "execute_result",
          "data": {
            "text/plain": [
              "34"
            ]
          },
          "metadata": {},
          "execution_count": 26
        }
      ]
    },
    {
      "cell_type": "code",
      "source": [
        "df.groupby(['dwelling_type_desc']).size()"
      ],
      "metadata": {
        "colab": {
          "base_uri": "https://localhost:8080/"
        },
        "id": "7sUJtmtlsS-j",
        "outputId": "60e12b4b-5d91-4ed9-c0a9-314fa39e41a1"
      },
      "id": "7sUJtmtlsS-j",
      "execution_count": 27,
      "outputs": [
        {
          "output_type": "execute_result",
          "data": {
            "text/plain": [
              "dwelling_type_desc\n",
              "Manufactured      7652\n",
              "MultiFamily      45931\n",
              "Other              189\n",
              "SingleFamily    104557\n",
              "dtype: int64"
            ]
          },
          "metadata": {},
          "execution_count": 27
        }
      ]
    },
    {
      "cell_type": "code",
      "source": [
        "# Filling the null values with the most common value \"MultiFamily\"\n",
        "df['dwelling_type_filled'] =df['dwelling_type_desc'].fillna(value='MultiFamily')\n",
        "df['dwelling_type_filled'].isnull().sum()"
      ],
      "metadata": {
        "colab": {
          "base_uri": "https://localhost:8080/"
        },
        "id": "kTYqTrBVsTBs",
        "outputId": "b59d3e4c-6c08-4dd1-835e-be9a05a07be6"
      },
      "id": "kTYqTrBVsTBs",
      "execution_count": 28,
      "outputs": [
        {
          "output_type": "execute_result",
          "data": {
            "text/plain": [
              "0"
            ]
          },
          "metadata": {},
          "execution_count": 28
        }
      ]
    },
    {
      "cell_type": "code",
      "execution_count": 37,
      "id": "707807f5",
      "metadata": {
        "id": "707807f5",
        "outputId": "b4248444-a33f-4585-9e55-3b916da8327d",
        "colab": {
          "base_uri": "https://localhost:8080/",
          "height": 175
        }
      },
      "outputs": [
        {
          "output_type": "execute_result",
          "data": {
            "text/plain": [
              "                        count        mean         std       min     25%  \\\n",
              "billing_amount       158363.0  115.968180   88.959604    -20.81   64.57   \n",
              "current_balance      158363.0  -77.913308  229.985583 -25027.85 -130.36   \n",
              "pge_account_months   158363.0  137.889457  131.509690      3.00   39.00   \n",
              "pge_customer_months  158363.0  210.082892  167.050376      4.00   81.00   \n",
              "\n",
              "                        50%     75%       max  \n",
              "billing_amount        93.86  141.18   2492.96  \n",
              "current_balance      -80.68  -44.24  20522.85  \n",
              "pge_account_months    84.00  201.00    725.00  \n",
              "pge_customer_months  201.00  268.00    845.00  "
            ],
            "text/html": [
              "\n",
              "  <div id=\"df-a2a12fee-5d7a-4022-9549-768d829e4232\">\n",
              "    <div class=\"colab-df-container\">\n",
              "      <div>\n",
              "<style scoped>\n",
              "    .dataframe tbody tr th:only-of-type {\n",
              "        vertical-align: middle;\n",
              "    }\n",
              "\n",
              "    .dataframe tbody tr th {\n",
              "        vertical-align: top;\n",
              "    }\n",
              "\n",
              "    .dataframe thead th {\n",
              "        text-align: right;\n",
              "    }\n",
              "</style>\n",
              "<table border=\"1\" class=\"dataframe\">\n",
              "  <thead>\n",
              "    <tr style=\"text-align: right;\">\n",
              "      <th></th>\n",
              "      <th>count</th>\n",
              "      <th>mean</th>\n",
              "      <th>std</th>\n",
              "      <th>min</th>\n",
              "      <th>25%</th>\n",
              "      <th>50%</th>\n",
              "      <th>75%</th>\n",
              "      <th>max</th>\n",
              "    </tr>\n",
              "  </thead>\n",
              "  <tbody>\n",
              "    <tr>\n",
              "      <th>billing_amount</th>\n",
              "      <td>158363.0</td>\n",
              "      <td>115.968180</td>\n",
              "      <td>88.959604</td>\n",
              "      <td>-20.81</td>\n",
              "      <td>64.57</td>\n",
              "      <td>93.86</td>\n",
              "      <td>141.18</td>\n",
              "      <td>2492.96</td>\n",
              "    </tr>\n",
              "    <tr>\n",
              "      <th>current_balance</th>\n",
              "      <td>158363.0</td>\n",
              "      <td>-77.913308</td>\n",
              "      <td>229.985583</td>\n",
              "      <td>-25027.85</td>\n",
              "      <td>-130.36</td>\n",
              "      <td>-80.68</td>\n",
              "      <td>-44.24</td>\n",
              "      <td>20522.85</td>\n",
              "    </tr>\n",
              "    <tr>\n",
              "      <th>pge_account_months</th>\n",
              "      <td>158363.0</td>\n",
              "      <td>137.889457</td>\n",
              "      <td>131.509690</td>\n",
              "      <td>3.00</td>\n",
              "      <td>39.00</td>\n",
              "      <td>84.00</td>\n",
              "      <td>201.00</td>\n",
              "      <td>725.00</td>\n",
              "    </tr>\n",
              "    <tr>\n",
              "      <th>pge_customer_months</th>\n",
              "      <td>158363.0</td>\n",
              "      <td>210.082892</td>\n",
              "      <td>167.050376</td>\n",
              "      <td>4.00</td>\n",
              "      <td>81.00</td>\n",
              "      <td>201.00</td>\n",
              "      <td>268.00</td>\n",
              "      <td>845.00</td>\n",
              "    </tr>\n",
              "  </tbody>\n",
              "</table>\n",
              "</div>\n",
              "      <button class=\"colab-df-convert\" onclick=\"convertToInteractive('df-a2a12fee-5d7a-4022-9549-768d829e4232')\"\n",
              "              title=\"Convert this dataframe to an interactive table.\"\n",
              "              style=\"display:none;\">\n",
              "        \n",
              "  <svg xmlns=\"http://www.w3.org/2000/svg\" height=\"24px\"viewBox=\"0 0 24 24\"\n",
              "       width=\"24px\">\n",
              "    <path d=\"M0 0h24v24H0V0z\" fill=\"none\"/>\n",
              "    <path d=\"M18.56 5.44l.94 2.06.94-2.06 2.06-.94-2.06-.94-.94-2.06-.94 2.06-2.06.94zm-11 1L8.5 8.5l.94-2.06 2.06-.94-2.06-.94L8.5 2.5l-.94 2.06-2.06.94zm10 10l.94 2.06.94-2.06 2.06-.94-2.06-.94-.94-2.06-.94 2.06-2.06.94z\"/><path d=\"M17.41 7.96l-1.37-1.37c-.4-.4-.92-.59-1.43-.59-.52 0-1.04.2-1.43.59L10.3 9.45l-7.72 7.72c-.78.78-.78 2.05 0 2.83L4 21.41c.39.39.9.59 1.41.59.51 0 1.02-.2 1.41-.59l7.78-7.78 2.81-2.81c.8-.78.8-2.07 0-2.86zM5.41 20L4 18.59l7.72-7.72 1.47 1.35L5.41 20z\"/>\n",
              "  </svg>\n",
              "      </button>\n",
              "      \n",
              "  <style>\n",
              "    .colab-df-container {\n",
              "      display:flex;\n",
              "      flex-wrap:wrap;\n",
              "      gap: 12px;\n",
              "    }\n",
              "\n",
              "    .colab-df-convert {\n",
              "      background-color: #E8F0FE;\n",
              "      border: none;\n",
              "      border-radius: 50%;\n",
              "      cursor: pointer;\n",
              "      display: none;\n",
              "      fill: #1967D2;\n",
              "      height: 32px;\n",
              "      padding: 0 0 0 0;\n",
              "      width: 32px;\n",
              "    }\n",
              "\n",
              "    .colab-df-convert:hover {\n",
              "      background-color: #E2EBFA;\n",
              "      box-shadow: 0px 1px 2px rgba(60, 64, 67, 0.3), 0px 1px 3px 1px rgba(60, 64, 67, 0.15);\n",
              "      fill: #174EA6;\n",
              "    }\n",
              "\n",
              "    [theme=dark] .colab-df-convert {\n",
              "      background-color: #3B4455;\n",
              "      fill: #D2E3FC;\n",
              "    }\n",
              "\n",
              "    [theme=dark] .colab-df-convert:hover {\n",
              "      background-color: #434B5C;\n",
              "      box-shadow: 0px 1px 3px 1px rgba(0, 0, 0, 0.15);\n",
              "      filter: drop-shadow(0px 1px 2px rgba(0, 0, 0, 0.3));\n",
              "      fill: #FFFFFF;\n",
              "    }\n",
              "  </style>\n",
              "\n",
              "      <script>\n",
              "        const buttonEl =\n",
              "          document.querySelector('#df-a2a12fee-5d7a-4022-9549-768d829e4232 button.colab-df-convert');\n",
              "        buttonEl.style.display =\n",
              "          google.colab.kernel.accessAllowed ? 'block' : 'none';\n",
              "\n",
              "        async function convertToInteractive(key) {\n",
              "          const element = document.querySelector('#df-a2a12fee-5d7a-4022-9549-768d829e4232');\n",
              "          const dataTable =\n",
              "            await google.colab.kernel.invokeFunction('convertToInteractive',\n",
              "                                                     [key], {});\n",
              "          if (!dataTable) return;\n",
              "\n",
              "          const docLinkHtml = 'Like what you see? Visit the ' +\n",
              "            '<a target=\"_blank\" href=https://colab.research.google.com/notebooks/data_table.ipynb>data table notebook</a>'\n",
              "            + ' to learn more about interactive tables.';\n",
              "          element.innerHTML = '';\n",
              "          dataTable['output_type'] = 'display_data';\n",
              "          await google.colab.output.renderOutput(dataTable, element);\n",
              "          const docLink = document.createElement('div');\n",
              "          docLink.innerHTML = docLinkHtml;\n",
              "          element.appendChild(docLink);\n",
              "        }\n",
              "      </script>\n",
              "    </div>\n",
              "  </div>\n",
              "  "
            ]
          },
          "metadata": {},
          "execution_count": 37
        }
      ],
      "source": [
        "### Summary Statistics ###\n",
        "df_summary = df[['billing_amount','current_balance','pge_account_months','pge_customer_months']]\n",
        "df_summary.describe().transpose()"
      ]
    },
    {
      "cell_type": "markdown",
      "source": [
        "## **Univariate analysis**"
      ],
      "metadata": {
        "id": "tX-wH6Kqse2_"
      },
      "id": "tX-wH6Kqse2_"
    },
    {
      "cell_type": "code",
      "execution_count": 29,
      "id": "78cdf5b9",
      "metadata": {
        "id": "78cdf5b9",
        "outputId": "c20e5688-baa5-472b-f299-bfe3fb3c06fa",
        "colab": {
          "base_uri": "https://localhost:8080/",
          "height": 352
        }
      },
      "outputs": [
        {
          "output_type": "stream",
          "name": "stderr",
          "text": [
            "/usr/local/lib/python3.7/dist-packages/seaborn/distributions.py:2619: FutureWarning: `distplot` is a deprecated function and will be removed in a future version. Please adapt your code to use either `displot` (a figure-level function with similar flexibility) or `histplot` (an axes-level function for histograms).\n",
            "  warnings.warn(msg, FutureWarning)\n"
          ]
        },
        {
          "output_type": "execute_result",
          "data": {
            "text/plain": [
              "<matplotlib.axes._subplots.AxesSubplot at 0x7f601e6db0d0>"
            ]
          },
          "metadata": {},
          "execution_count": 29
        },
        {
          "output_type": "display_data",
          "data": {
            "text/plain": [
              "<Figure size 432x288 with 1 Axes>"
            ],
            "image/png": "[encoded data removed]"
          },
          "metadata": {
            "needs_background": "light"
          }
        }
      ],
      "source": [
        "## Checking underlying distributions of numerical variables##\n",
        "sns.distplot(df[\"billing_amount\"],bins = \"auto\")"
      ]
    },
    {
      "cell_type": "code",
      "execution_count": 30,
      "id": "04d8e589",
      "metadata": {
        "id": "04d8e589",
        "outputId": "23cdbcb9-5fdc-472d-ff3c-e198f0321ee7",
        "colab": {
          "base_uri": "https://localhost:8080/",
          "height": 352
        }
      },
      "outputs": [
        {
          "output_type": "stream",
          "name": "stderr",
          "text": [
            "/usr/local/lib/python3.7/dist-packages/seaborn/distributions.py:2619: FutureWarning: `distplot` is a deprecated function and will be removed in a future version. Please adapt your code to use either `displot` (a figure-level function with similar flexibility) or `histplot` (an axes-level function for histograms).\n",
            "  warnings.warn(msg, FutureWarning)\n"
          ]
        },
        {
          "output_type": "execute_result",
          "data": {
            "text/plain": [
              "<matplotlib.axes._subplots.AxesSubplot at 0x7f601dcd5fd0>"
            ]
          },
          "metadata": {},
          "execution_count": 30
        },
        {
          "output_type": "display_data",
          "data": {
            "text/plain": [
              "<Figure size 432x288 with 1 Axes>"
            ],
            "image/png": "[encoded data removed]"
          },
          "metadata": {
            "needs_background": "light"
          }
        }
      ],
      "source": [
        "sns.distplot(df[\"current_balance\"],bins = \"auto\")"
      ]
    },
    {
      "cell_type": "code",
      "execution_count": 31,
      "id": "7322d473",
      "metadata": {
        "id": "7322d473",
        "outputId": "ce443a52-d4e6-4e27-a841-b2e4b3623435",
        "colab": {
          "base_uri": "https://localhost:8080/",
          "height": 352
        }
      },
      "outputs": [
        {
          "output_type": "stream",
          "name": "stderr",
          "text": [
            "/usr/local/lib/python3.7/dist-packages/seaborn/distributions.py:2619: FutureWarning: `distplot` is a deprecated function and will be removed in a future version. Please adapt your code to use either `displot` (a figure-level function with similar flexibility) or `histplot` (an axes-level function for histograms).\n",
            "  warnings.warn(msg, FutureWarning)\n"
          ]
        },
        {
          "output_type": "execute_result",
          "data": {
            "text/plain": [
              "<matplotlib.axes._subplots.AxesSubplot at 0x7f60145fb7d0>"
            ]
          },
          "metadata": {},
          "execution_count": 31
        },
        {
          "output_type": "display_data",
          "data": {
            "text/plain": [
              "<Figure size 432x288 with 1 Axes>"
            ],
            "image/png": "[encoded data removed]"
          },
          "metadata": {
            "needs_background": "light"
          }
        }
      ],
      "source": [
        "sns.distplot(df[\"pge_account_months\"],bins = \"auto\")"
      ]
    },
    {
      "cell_type": "code",
      "execution_count": 32,
      "id": "5ac6762a",
      "metadata": {
        "id": "5ac6762a",
        "outputId": "9b3aede7-4ce6-45a2-f248-fd81e3769208",
        "colab": {
          "base_uri": "https://localhost:8080/",
          "height": 352
        }
      },
      "outputs": [
        {
          "output_type": "stream",
          "name": "stderr",
          "text": [
            "/usr/local/lib/python3.7/dist-packages/seaborn/distributions.py:2619: FutureWarning: `distplot` is a deprecated function and will be removed in a future version. Please adapt your code to use either `displot` (a figure-level function with similar flexibility) or `histplot` (an axes-level function for histograms).\n",
            "  warnings.warn(msg, FutureWarning)\n"
          ]
        },
        {
          "output_type": "execute_result",
          "data": {
            "text/plain": [
              "<matplotlib.axes._subplots.AxesSubplot at 0x7f6013e45250>"
            ]
          },
          "metadata": {},
          "execution_count": 32
        },
        {
          "output_type": "display_data",
          "data": {
            "text/plain": [
              "<Figure size 432x288 with 1 Axes>"
            ],
            "image/png": "[encoded data removed]"
          },
          "metadata": {
            "needs_background": "light"
          }
        }
      ],
      "source": [
        "sns.distplot(df[\"pge_customer_months\"],bins = \"auto\")"
      ]
    },
    {
      "cell_type": "code",
      "source": [
        "### box plots to check if there are any outliers in numerical variables ###\n",
        "sns.boxplot(x=df['billing_amount'])"
      ],
      "metadata": {
        "colab": {
          "base_uri": "https://localhost:8080/",
          "height": 297
        },
        "id": "DyjyF8OGtIir",
        "outputId": "9a5d716d-ee58-437c-ba1e-c7ddc6918e1d"
      },
      "id": "DyjyF8OGtIir",
      "execution_count": 34,
      "outputs": [
        {
          "output_type": "execute_result",
          "data": {
            "text/plain": [
              "<matplotlib.axes._subplots.AxesSubplot at 0x7f6013f66bd0>"
            ]
          },
          "metadata": {},
          "execution_count": 34
        },
        {
          "output_type": "display_data",
          "data": {
            "text/plain": [
              "<Figure size 432x288 with 1 Axes>"
            ],
            "image/png": "[encoded data removed]"
          },
          "metadata": {
            "needs_background": "light"
          }
        }
      ]
    },
    {
      "cell_type": "code",
      "execution_count": 38,
      "id": "4aba7240",
      "metadata": {
        "id": "4aba7240",
        "colab": {
          "base_uri": "https://localhost:8080/",
          "height": 338
        },
        "outputId": "7cb58e85-0bf6-4ec1-9c6c-74251f9f07e0"
      },
      "outputs": [
        {
          "output_type": "execute_result",
          "data": {
            "text/plain": [
              "<matplotlib.axes._subplots.AxesSubplot at 0x7f6013e9b4d0>"
            ]
          },
          "metadata": {},
          "execution_count": 38
        },
        {
          "output_type": "display_data",
          "data": {
            "text/plain": [
              "<Figure size 720x360 with 1 Axes>"
            ],
            "image/png": "[encoded data removed]"
          },
          "metadata": {
            "needs_background": "light"
          }
        }
      ],
      "source": [
        "plt.figure(figsize=(10,5))\n",
        "sns.boxplot(data = df_summary)"
      ]
    },
    {
      "cell_type": "code",
      "source": [
        "### checking correlations among numerical variables ##\n",
        "sns.pairplot(df_summary)"
      ],
      "metadata": {
        "colab": {
          "base_uri": "https://localhost:8080/",
          "height": 743
        },
        "id": "hp_101L6tQA3",
        "outputId": "50f3d1a7-dabc-4f1e-b727-8116dc61a53c"
      },
      "id": "hp_101L6tQA3",
      "execution_count": 39,
      "outputs": [
        {
          "output_type": "execute_result",
          "data": {
            "text/plain": [
              "<seaborn.axisgrid.PairGrid at 0x7f601c342890>"
            ]
          },
          "metadata": {},
          "execution_count": 39
        },
        {
          "output_type": "display_data",
          "data": {
            "text/plain": [
              "<Figure size 720x720 with 20 Axes>"
            ],
            "image/png": "[encoded data removed]"
          },
          "metadata": {
            "needs_background": "light"
          }
        }
      ]
    },
    {
      "cell_type": "code",
      "source": [
        "sns.heatmap(df_summary.corr())"
      ],
      "metadata": {
        "colab": {
          "base_uri": "https://localhost:8080/",
          "height": 389
        },
        "id": "vieKf9rjtZNU",
        "outputId": "58d463a7-8ddf-4b71-82b4-6b8e2a5a2b88"
      },
      "id": "vieKf9rjtZNU",
      "execution_count": 40,
      "outputs": [
        {
          "output_type": "execute_result",
          "data": {
            "text/plain": [
              "<matplotlib.axes._subplots.AxesSubplot at 0x7f601156e910>"
            ]
          },
          "metadata": {},
          "execution_count": 40
        },
        {
          "output_type": "display_data",
          "data": {
            "text/plain": [
              "<Figure size 432x288 with 2 Axes>"
            ],
            "image/png": "[encoded data removed]"
          },
          "metadata": {
            "needs_background": "light"
          }
        }
      ]
    },
    {
      "cell_type": "code",
      "source": [
        "### checking the min and max date due_date column ##\n",
        "print(df['due_dt'].min())\n",
        "print(df['due_dt'].max())"
      ],
      "metadata": {
        "colab": {
          "base_uri": "https://localhost:8080/"
        },
        "id": "KkMvd8miteSC",
        "outputId": "393c2484-f8fd-4098-a457-e2875d4c613c"
      },
      "id": "KkMvd8miteSC",
      "execution_count": 41,
      "outputs": [
        {
          "output_type": "stream",
          "name": "stdout",
          "text": [
            "2018-10-03 00:00:00\n",
            "2020-05-13 00:00:00\n"
          ]
        }
      ]
    },
    {
      "cell_type": "code",
      "source": [
        "### checking the no of unique account level id's ###\n",
        "unique_ac_id = len(df['account_id'].unique().tolist())\n",
        "unique_ac_id"
      ],
      "metadata": {
        "colab": {
          "base_uri": "https://localhost:8080/"
        },
        "id": "SDq4hlH8teY0",
        "outputId": "30d3c9ab-fbbf-4f1d-9395-f57a7f45648e"
      },
      "id": "SDq4hlH8teY0",
      "execution_count": 42,
      "outputs": [
        {
          "output_type": "execute_result",
          "data": {
            "text/plain": [
              "9933"
            ]
          },
          "metadata": {},
          "execution_count": 42
        }
      ]
    }
  ],
  "metadata": {
    "kernelspec": {
      "display_name": "Python 3 (ipykernel)",
      "language": "python",
      "name": "python3"
    },
    "language_info": {
      "codemirror_mode": {
        "name": "ipython",
        "version": 3
      },
      "file_extension": ".py",
      "mimetype": "text/x-python",
      "name": "python",
      "nbconvert_exporter": "python",
      "pygments_lexer": "ipython3",
      "version": "3.9.7"
    },
    "colab": {
      "provenance": [],
      "toc_visible": true,
      "include_colab_link": true
    }
  },
  "nbformat": 4,
  "nbformat_minor": 5
}