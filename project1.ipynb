{
  "cells": [
    {
      "cell_type": "markdown",
      "metadata": {
        "id": "view-in-github",
        "colab_type": "text"
      },
      "source": [
        "<a href=\"https://colab.research.google.com/github/Suchithrareddyn/Electricity-Bills/blob/main/project1.ipynb\" target=\"_parent\"><img src=\"https://colab.research.google.com/assets/colab-badge.svg\" alt=\"Open In Colab\"/></a>"
      ]
    },
    {
      "cell_type": "markdown",
      "id": "4c379d95",
      "metadata": {
        "id": "4c379d95"
      },
      "source": [
        "# **Environment setup**"
      ]
    },
    {
      "cell_type": "code",
      "source": [
        "from google.colab import drive\n",
        "drive.mount('/content/drive')"
      ],
      "metadata": {
        "colab": {
          "base_uri": "https://localhost:8080/"
        },
        "id": "L6TsIQL350X6",
        "outputId": "f7a69f0a-0734-46f6-f33f-e157ff0b0e2c"
      },
      "id": "L6TsIQL350X6",
      "execution_count": 1,
      "outputs": [
        {
          "output_type": "stream",
          "name": "stdout",
          "text": [
            "Mounted at /content/drive\n"
          ]
        }
      ]
    },
    {
      "cell_type": "code",
      "execution_count": 19,
      "id": "1a5c376b",
      "metadata": {
        "id": "1a5c376b"
      },
      "outputs": [],
      "source": [
        "import pandas as pd\n",
        "import numpy as np\n",
        "import matplotlib.pyplot as plt\n",
        "import seaborn as sns\n",
        "import warnings \n",
        "warnings.filterwarnings('ignore')\n",
        "pd.set_option('display.max_columns', None)"
      ]
    },
    {
      "cell_type": "markdown",
      "id": "f4bd04c7",
      "metadata": {
        "id": "f4bd04c7"
      },
      "source": [
        "# **Data loading**"
      ]
    },
    {
      "cell_type": "code",
      "execution_count": 3,
      "id": "b2f477c4",
      "metadata": {
        "colab": {
          "base_uri": "https://localhost:8080/",
          "height": 461
        },
        "id": "b2f477c4",
        "outputId": "7e62158b-8c92-4804-b66b-5b9541c1860a"
      },
      "outputs": [
        {
          "output_type": "execute_result",
          "data": {
            "text/plain": [
              "   Unnamed: 0  bill_id  account_id  billing_amount  current_balance  \\\n",
              "0           0        0           0           97.23           -81.50   \n",
              "1           1        1           0           86.02           -97.23   \n",
              "2           2        2           0           82.94           -86.02   \n",
              "3           3        3           0           91.38           -82.94   \n",
              "4           4        4           0           68.32           -91.38   \n",
              "\n",
              "         pay_cre_dt            due_dt tender_type tender_type_descr  \\\n",
              "0  11-12-2018 16:03  19-12-2018 00:00        CHCK             Check   \n",
              "1  10-01-2019 16:03  22-01-2019 00:00        CHCK             Check   \n",
              "2  11-02-2019 16:04  20-02-2019 00:00        CHCK             Check   \n",
              "3  25-03-2019 16:04  21-03-2019 00:00        CHCK             Check   \n",
              "4  10-04-2019 16:04  19-04-2019 00:00        CHCK             Check   \n",
              "\n",
              "   has_email  bill_mailed dwelling_type_desc  has_med_cert  is_equal_pay_acct  \\\n",
              "0       True            1       SingleFamily         False              False   \n",
              "1       True            1       SingleFamily         False              False   \n",
              "2       True            1       SingleFamily         False              False   \n",
              "3       True            1       SingleFamily         False              False   \n",
              "4       True            1       SingleFamily         False              False   \n",
              "\n",
              "  own_rent  is_renewable  is_web_registered  account_months  customer_months  \\\n",
              "0        O         False               True              34              258   \n",
              "1        O         False               True              34              258   \n",
              "2        O         False               True              34              258   \n",
              "3        O         False               True              34              258   \n",
              "4        O         False               True              34              258   \n",
              "\n",
              "  premise_type_code  median_hh_income  median_age  avg_hh_size  gini_index  \\\n",
              "0          HOU                  72031        38.7         2.91      0.3443   \n",
              "1          HOU                  72031        38.7         2.91      0.3443   \n",
              "2          HOU                  72031        38.7         2.91      0.3443   \n",
              "3          HOU                  72031        38.7         2.91      0.3443   \n",
              "4          HOU                  72031        38.7         2.91      0.3443   \n",
              "\n",
              "   avg_hours_worked  median_monthly_housing_costs  \\\n",
              "0              37.2                          1262   \n",
              "1              37.2                          1262   \n",
              "2              37.2                          1262   \n",
              "3              37.2                          1262   \n",
              "4              37.2                          1262   \n",
              "\n",
              "   perc_industry_agriculture_forestry  perc_industry_construction  \\\n",
              "0                            0.032565                    0.094689   \n",
              "1                            0.032565                    0.094689   \n",
              "2                            0.032565                    0.094689   \n",
              "3                            0.032565                    0.094689   \n",
              "4                            0.032565                    0.094689   \n",
              "\n",
              "   perc_industry_manufacturing  perc_industry_wholesale_trade  \\\n",
              "0                     0.160321                       0.029058   \n",
              "1                     0.160321                       0.029058   \n",
              "2                     0.160321                       0.029058   \n",
              "3                     0.160321                       0.029058   \n",
              "4                     0.160321                       0.029058   \n",
              "\n",
              "   perc_industry_retail_trade  perc_industry_transportation_utilities  \\\n",
              "0                    0.110721                                0.021543   \n",
              "1                    0.110721                                0.021543   \n",
              "2                    0.110721                                0.021543   \n",
              "3                    0.110721                                0.021543   \n",
              "4                    0.110721                                0.021543   \n",
              "\n",
              "   perc_industry_information  perc_industry_finance_real_estate  \\\n",
              "0                    0.01002                           0.034068   \n",
              "1                    0.01002                           0.034068   \n",
              "2                    0.01002                           0.034068   \n",
              "3                    0.01002                           0.034068   \n",
              "4                    0.01002                           0.034068   \n",
              "\n",
              "   perc_industry_prof_sci_mgmt_admin_waste  \\\n",
              "0                                 0.092685   \n",
              "1                                 0.092685   \n",
              "2                                 0.092685   \n",
              "3                                 0.092685   \n",
              "4                                 0.092685   \n",
              "\n",
              "   perc_industry_education_health_social  perc_industry_arts_ent_accom_food  \\\n",
              "0                               0.237976                           0.082164   \n",
              "1                               0.237976                           0.082164   \n",
              "2                               0.237976                           0.082164   \n",
              "3                               0.237976                           0.082164   \n",
              "4                               0.237976                           0.082164   \n",
              "\n",
              "   perc_industry_other_services  perc_industry_public_admin  \\\n",
              "0                      0.056112                    0.038076   \n",
              "1                      0.056112                    0.038076   \n",
              "2                      0.056112                    0.038076   \n",
              "3                      0.056112                    0.038076   \n",
              "4                      0.056112                    0.038076   \n",
              "\n",
              "   perc_hh_has_computing_devices  perc_hh_has_no_computing_devices  \\\n",
              "0                       0.944817                          0.055183   \n",
              "1                       0.944817                          0.055183   \n",
              "2                       0.944817                          0.055183   \n",
              "3                       0.944817                          0.055183   \n",
              "4                       0.944817                          0.055183   \n",
              "\n",
              "   perc_educ_8th_grade  perc_educ_9th_grade  perc_educ_10th_grade  \\\n",
              "0             0.001216             0.017018              0.003241   \n",
              "1             0.001216             0.017018              0.003241   \n",
              "2             0.001216             0.017018              0.003241   \n",
              "3             0.001216             0.017018              0.003241   \n",
              "4             0.001216             0.017018              0.003241   \n",
              "\n",
              "   perc_educ_11th_grade  perc_educ_12th_grade_no_diploma  \\\n",
              "0              0.009319                          0.01175   \n",
              "1              0.009319                          0.01175   \n",
              "2              0.009319                          0.01175   \n",
              "3              0.009319                          0.01175   \n",
              "4              0.009319                          0.01175   \n",
              "\n",
              "   perc_educ_high_school_diploma  perc_educ_ged  \\\n",
              "0                       0.237034       0.051864   \n",
              "1                       0.237034       0.051864   \n",
              "2                       0.237034       0.051864   \n",
              "3                       0.237034       0.051864   \n",
              "4                       0.237034       0.051864   \n",
              "\n",
              "   perc_educ_1_yr_college_no_degree  perc_educ_multi_yr_college_no_degree  \\\n",
              "0                          0.096029                              0.161264   \n",
              "1                          0.096029                              0.161264   \n",
              "2                          0.096029                              0.161264   \n",
              "3                          0.096029                              0.161264   \n",
              "4                          0.096029                              0.161264   \n",
              "\n",
              "   perc_educ_associates_degree  perc_educ_bachelors_degree  \\\n",
              "0                     0.080227                    0.216775   \n",
              "1                     0.080227                    0.216775   \n",
              "2                     0.080227                    0.216775   \n",
              "3                     0.080227                    0.216775   \n",
              "4                     0.080227                    0.216775   \n",
              "\n",
              "   perc_educ_masters_degree  perc_educ_professional_degree  \\\n",
              "0                  0.076175                       0.009319   \n",
              "1                  0.076175                       0.009319   \n",
              "2                  0.076175                       0.009319   \n",
              "3                  0.076175                       0.009319   \n",
              "4                  0.076175                       0.009319   \n",
              "\n",
              "   perc_educ_doctorate_degree  perc_pop_not_in_labor_force  \\\n",
              "0                    0.028768                     0.307488   \n",
              "1                    0.028768                     0.307488   \n",
              "2                    0.028768                     0.307488   \n",
              "3                    0.028768                     0.307488   \n",
              "4                    0.028768                     0.307488   \n",
              "\n",
              "   perc_pop_in_civ_labor_force_unemp  perc_hh_type_family_married  \\\n",
              "0                           0.040846                     0.655481   \n",
              "1                           0.040846                     0.655481   \n",
              "2                           0.040846                     0.655481   \n",
              "3                           0.040846                     0.655481   \n",
              "4                           0.040846                     0.655481   \n",
              "\n",
              "   perc_hh_type_single_parent  perc_hh_type_nonfamily_roommates  \\\n",
              "0                    0.117823                          0.046234   \n",
              "1                    0.117823                          0.046234   \n",
              "2                    0.117823                          0.046234   \n",
              "3                    0.117823                          0.046234   \n",
              "4                    0.117823                          0.046234   \n",
              "\n",
              "   perc_hh_type_nonfamily_bach  perc_health_ins_private  perc_native  \\\n",
              "0                     0.180462                 0.064112     0.835249   \n",
              "1                     0.180462                 0.064112     0.835249   \n",
              "2                     0.180462                 0.064112     0.835249   \n",
              "3                     0.180462                 0.064112     0.835249   \n",
              "4                     0.180462                 0.064112     0.835249   \n",
              "\n",
              "   perc_foreign_natur  perc_foreign_noncit  perc_work_transp_car  \\\n",
              "0            0.055939             0.108812              0.910594   \n",
              "1            0.055939             0.108812              0.910594   \n",
              "2            0.055939             0.108812              0.910594   \n",
              "3            0.055939             0.108812              0.910594   \n",
              "4            0.055939             0.108812              0.910594   \n",
              "\n",
              "   perc_work_transp_public  perc_mortgage_has_mort_2nd_only  \\\n",
              "0                 0.034625                         0.027265   \n",
              "1                 0.034625                         0.027265   \n",
              "2                 0.034625                         0.027265   \n",
              "3                 0.034625                         0.027265   \n",
              "4                 0.034625                         0.027265   \n",
              "\n",
              "   perc_mortgage_has_mort_heloc_only  perc_mortgage_has_mort_2nd_and_heloc  \\\n",
              "0                           0.077397                                   0.0   \n",
              "1                           0.077397                                   0.0   \n",
              "2                           0.077397                                   0.0   \n",
              "3                           0.077397                                   0.0   \n",
              "4                           0.077397                                   0.0   \n",
              "\n",
              "   perc_mortgage_has_mort_no_2nd_no_heloc  perc_hh_workers_none  \\\n",
              "0                                0.578716              0.199105   \n",
              "1                                0.578716              0.199105   \n",
              "2                                0.578716              0.199105   \n",
              "3                                0.578716              0.199105   \n",
              "4                                0.578716              0.199105   \n",
              "\n",
              "   perc_hh_workers_1  perc_hh_workers_2  perc_hh_workers_3ormore  \\\n",
              "0           0.367636           0.307979                  0.12528   \n",
              "1           0.367636           0.307979                  0.12528   \n",
              "2           0.367636           0.307979                  0.12528   \n",
              "3           0.367636           0.307979                  0.12528   \n",
              "4           0.367636           0.307979                  0.12528   \n",
              "\n",
              "   perc_poverty_lev_below  perc_hh_welfare_received  \\\n",
              "0                0.128834                  0.111111   \n",
              "1                0.128834                  0.111111   \n",
              "2                0.128834                  0.111111   \n",
              "3                0.128834                  0.111111   \n",
              "4                0.128834                  0.111111   \n",
              "\n",
              "   perc_hh_inc_to_pov_lev_0to0.5  perc_hh_inc_to_pov_lev_0.5to1  \\\n",
              "0                       0.043456                       0.085378   \n",
              "1                       0.043456                       0.085378   \n",
              "2                       0.043456                       0.085378   \n",
              "3                       0.043456                       0.085378   \n",
              "4                       0.043456                       0.085378   \n",
              "\n",
              "   perc_hh_inc_to_pov_lev_1to1.25  perc_hh_inc_to_pov_lev_1.25to1.5  \\\n",
              "0                        0.099949                          0.034254   \n",
              "1                        0.099949                          0.034254   \n",
              "2                        0.099949                          0.034254   \n",
              "3                        0.099949                          0.034254   \n",
              "4                        0.099949                          0.034254   \n",
              "\n",
              "   perc_hh_inc_to_pov_lev_1.5to1.85  perc_hh_inc_to_pov_lev_1.85to2  \\\n",
              "0                          0.013548                        0.012781   \n",
              "1                          0.013548                        0.012781   \n",
              "2                          0.013548                        0.012781   \n",
              "3                          0.013548                        0.012781   \n",
              "4                          0.013548                        0.012781   \n",
              "\n",
              "   perc_hh_inc_to_pov_lev_2andover  late  \n",
              "0                         0.710634     0  \n",
              "1                         0.710634     0  \n",
              "2                         0.710634     0  \n",
              "3                         0.710634     1  \n",
              "4                         0.710634     0  "
            ],
            "text/html": [
              "\n",
              "  <div id=\"df-c5bb2efc-af79-4b01-9cf8-0b9f751db862\">\n",
              "    <div class=\"colab-df-container\">\n",
              "      <div>\n",
              "<style scoped>\n",
              "    .dataframe tbody tr th:only-of-type {\n",
              "        vertical-align: middle;\n",
              "    }\n",
              "\n",
              "    .dataframe tbody tr th {\n",
              "        vertical-align: top;\n",
              "    }\n",
              "\n",
              "    .dataframe thead th {\n",
              "        text-align: right;\n",
              "    }\n",
              "</style>\n",
              "<table border=\"1\" class=\"dataframe\">\n",
              "  <thead>\n",
              "    <tr style=\"text-align: right;\">\n",
              "      <th></th>\n",
              "      <th>Unnamed: 0</th>\n",
              "      <th>bill_id</th>\n",
              "      <th>account_id</th>\n",
              "      <th>billing_amount</th>\n",
              "      <th>current_balance</th>\n",
              "      <th>pay_cre_dt</th>\n",
              "      <th>due_dt</th>\n",
              "      <th>tender_type</th>\n",
              "      <th>tender_type_descr</th>\n",
              "      <th>has_email</th>\n",
              "      <th>bill_mailed</th>\n",
              "      <th>dwelling_type_desc</th>\n",
              "      <th>has_med_cert</th>\n",
              "      <th>is_equal_pay_acct</th>\n",
              "      <th>own_rent</th>\n",
              "      <th>is_renewable</th>\n",
              "      <th>is_web_registered</th>\n",
              "      <th>account_months</th>\n",
              "      <th>customer_months</th>\n",
              "      <th>premise_type_code</th>\n",
              "      <th>median_hh_income</th>\n",
              "      <th>median_age</th>\n",
              "      <th>avg_hh_size</th>\n",
              "      <th>gini_index</th>\n",
              "      <th>avg_hours_worked</th>\n",
              "      <th>median_monthly_housing_costs</th>\n",
              "      <th>perc_industry_agriculture_forestry</th>\n",
              "      <th>perc_industry_construction</th>\n",
              "      <th>perc_industry_manufacturing</th>\n",
              "      <th>perc_industry_wholesale_trade</th>\n",
              "      <th>perc_industry_retail_trade</th>\n",
              "      <th>perc_industry_transportation_utilities</th>\n",
              "      <th>perc_industry_information</th>\n",
              "      <th>perc_industry_finance_real_estate</th>\n",
              "      <th>perc_industry_prof_sci_mgmt_admin_waste</th>\n",
              "      <th>perc_industry_education_health_social</th>\n",
              "      <th>perc_industry_arts_ent_accom_food</th>\n",
              "      <th>perc_industry_other_services</th>\n",
              "      <th>perc_industry_public_admin</th>\n",
              "      <th>perc_hh_has_computing_devices</th>\n",
              "      <th>perc_hh_has_no_computing_devices</th>\n",
              "      <th>perc_educ_8th_grade</th>\n",
              "      <th>perc_educ_9th_grade</th>\n",
              "      <th>perc_educ_10th_grade</th>\n",
              "      <th>perc_educ_11th_grade</th>\n",
              "      <th>perc_educ_12th_grade_no_diploma</th>\n",
              "      <th>perc_educ_high_school_diploma</th>\n",
              "      <th>perc_educ_ged</th>\n",
              "      <th>perc_educ_1_yr_college_no_degree</th>\n",
              "      <th>perc_educ_multi_yr_college_no_degree</th>\n",
              "      <th>perc_educ_associates_degree</th>\n",
              "      <th>perc_educ_bachelors_degree</th>\n",
              "      <th>perc_educ_masters_degree</th>\n",
              "      <th>perc_educ_professional_degree</th>\n",
              "      <th>perc_educ_doctorate_degree</th>\n",
              "      <th>perc_pop_not_in_labor_force</th>\n",
              "      <th>perc_pop_in_civ_labor_force_unemp</th>\n",
              "      <th>perc_hh_type_family_married</th>\n",
              "      <th>perc_hh_type_single_parent</th>\n",
              "      <th>perc_hh_type_nonfamily_roommates</th>\n",
              "      <th>perc_hh_type_nonfamily_bach</th>\n",
              "      <th>perc_health_ins_private</th>\n",
              "      <th>perc_native</th>\n",
              "      <th>perc_foreign_natur</th>\n",
              "      <th>perc_foreign_noncit</th>\n",
              "      <th>perc_work_transp_car</th>\n",
              "      <th>perc_work_transp_public</th>\n",
              "      <th>perc_mortgage_has_mort_2nd_only</th>\n",
              "      <th>perc_mortgage_has_mort_heloc_only</th>\n",
              "      <th>perc_mortgage_has_mort_2nd_and_heloc</th>\n",
              "      <th>perc_mortgage_has_mort_no_2nd_no_heloc</th>\n",
              "      <th>perc_hh_workers_none</th>\n",
              "      <th>perc_hh_workers_1</th>\n",
              "      <th>perc_hh_workers_2</th>\n",
              "      <th>perc_hh_workers_3ormore</th>\n",
              "      <th>perc_poverty_lev_below</th>\n",
              "      <th>perc_hh_welfare_received</th>\n",
              "      <th>perc_hh_inc_to_pov_lev_0to0.5</th>\n",
              "      <th>perc_hh_inc_to_pov_lev_0.5to1</th>\n",
              "      <th>perc_hh_inc_to_pov_lev_1to1.25</th>\n",
              "      <th>perc_hh_inc_to_pov_lev_1.25to1.5</th>\n",
              "      <th>perc_hh_inc_to_pov_lev_1.5to1.85</th>\n",
              "      <th>perc_hh_inc_to_pov_lev_1.85to2</th>\n",
              "      <th>perc_hh_inc_to_pov_lev_2andover</th>\n",
              "      <th>late</th>\n",
              "    </tr>\n",
              "  </thead>\n",
              "  <tbody>\n",
              "    <tr>\n",
              "      <th>0</th>\n",
              "      <td>0</td>\n",
              "      <td>0</td>\n",
              "      <td>0</td>\n",
              "      <td>97.23</td>\n",
              "      <td>-81.50</td>\n",
              "      <td>11-12-2018 16:03</td>\n",
              "      <td>19-12-2018 00:00</td>\n",
              "      <td>CHCK</td>\n",
              "      <td>Check</td>\n",
              "      <td>True</td>\n",
              "      <td>1</td>\n",
              "      <td>SingleFamily</td>\n",
              "      <td>False</td>\n",
              "      <td>False</td>\n",
              "      <td>O</td>\n",
              "      <td>False</td>\n",
              "      <td>True</td>\n",
              "      <td>34</td>\n",
              "      <td>258</td>\n",
              "      <td>HOU</td>\n",
              "      <td>72031</td>\n",
              "      <td>38.7</td>\n",
              "      <td>2.91</td>\n",
              "      <td>0.3443</td>\n",
              "      <td>37.2</td>\n",
              "      <td>1262</td>\n",
              "      <td>0.032565</td>\n",
              "      <td>0.094689</td>\n",
              "      <td>0.160321</td>\n",
              "      <td>0.029058</td>\n",
              "      <td>0.110721</td>\n",
              "      <td>0.021543</td>\n",
              "      <td>0.01002</td>\n",
              "      <td>0.034068</td>\n",
              "      <td>0.092685</td>\n",
              "      <td>0.237976</td>\n",
              "      <td>0.082164</td>\n",
              "      <td>0.056112</td>\n",
              "      <td>0.038076</td>\n",
              "      <td>0.944817</td>\n",
              "      <td>0.055183</td>\n",
              "      <td>0.001216</td>\n",
              "      <td>0.017018</td>\n",
              "      <td>0.003241</td>\n",
              "      <td>0.009319</td>\n",
              "      <td>0.01175</td>\n",
              "      <td>0.237034</td>\n",
              "      <td>0.051864</td>\n",
              "      <td>0.096029</td>\n",
              "      <td>0.161264</td>\n",
              "      <td>0.080227</td>\n",
              "      <td>0.216775</td>\n",
              "      <td>0.076175</td>\n",
              "      <td>0.009319</td>\n",
              "      <td>0.028768</td>\n",
              "      <td>0.307488</td>\n",
              "      <td>0.040846</td>\n",
              "      <td>0.655481</td>\n",
              "      <td>0.117823</td>\n",
              "      <td>0.046234</td>\n",
              "      <td>0.180462</td>\n",
              "      <td>0.064112</td>\n",
              "      <td>0.835249</td>\n",
              "      <td>0.055939</td>\n",
              "      <td>0.108812</td>\n",
              "      <td>0.910594</td>\n",
              "      <td>0.034625</td>\n",
              "      <td>0.027265</td>\n",
              "      <td>0.077397</td>\n",
              "      <td>0.0</td>\n",
              "      <td>0.578716</td>\n",
              "      <td>0.199105</td>\n",
              "      <td>0.367636</td>\n",
              "      <td>0.307979</td>\n",
              "      <td>0.12528</td>\n",
              "      <td>0.128834</td>\n",
              "      <td>0.111111</td>\n",
              "      <td>0.043456</td>\n",
              "      <td>0.085378</td>\n",
              "      <td>0.099949</td>\n",
              "      <td>0.034254</td>\n",
              "      <td>0.013548</td>\n",
              "      <td>0.012781</td>\n",
              "      <td>0.710634</td>\n",
              "      <td>0</td>\n",
              "    </tr>\n",
              "    <tr>\n",
              "      <th>1</th>\n",
              "      <td>1</td>\n",
              "      <td>1</td>\n",
              "      <td>0</td>\n",
              "      <td>86.02</td>\n",
              "      <td>-97.23</td>\n",
              "      <td>10-01-2019 16:03</td>\n",
              "      <td>22-01-2019 00:00</td>\n",
              "      <td>CHCK</td>\n",
              "      <td>Check</td>\n",
              "      <td>True</td>\n",
              "      <td>1</td>\n",
              "      <td>SingleFamily</td>\n",
              "      <td>False</td>\n",
              "      <td>False</td>\n",
              "      <td>O</td>\n",
              "      <td>False</td>\n",
              "      <td>True</td>\n",
              "      <td>34</td>\n",
              "      <td>258</td>\n",
              "      <td>HOU</td>\n",
              "      <td>72031</td>\n",
              "      <td>38.7</td>\n",
              "      <td>2.91</td>\n",
              "      <td>0.3443</td>\n",
              "      <td>37.2</td>\n",
              "      <td>1262</td>\n",
              "      <td>0.032565</td>\n",
              "      <td>0.094689</td>\n",
              "      <td>0.160321</td>\n",
              "      <td>0.029058</td>\n",
              "      <td>0.110721</td>\n",
              "      <td>0.021543</td>\n",
              "      <td>0.01002</td>\n",
              "      <td>0.034068</td>\n",
              "      <td>0.092685</td>\n",
              "      <td>0.237976</td>\n",
              "      <td>0.082164</td>\n",
              "      <td>0.056112</td>\n",
              "      <td>0.038076</td>\n",
              "      <td>0.944817</td>\n",
              "      <td>0.055183</td>\n",
              "      <td>0.001216</td>\n",
              "      <td>0.017018</td>\n",
              "      <td>0.003241</td>\n",
              "      <td>0.009319</td>\n",
              "      <td>0.01175</td>\n",
              "      <td>0.237034</td>\n",
              "      <td>0.051864</td>\n",
              "      <td>0.096029</td>\n",
              "      <td>0.161264</td>\n",
              "      <td>0.080227</td>\n",
              "      <td>0.216775</td>\n",
              "      <td>0.076175</td>\n",
              "      <td>0.009319</td>\n",
              "      <td>0.028768</td>\n",
              "      <td>0.307488</td>\n",
              "      <td>0.040846</td>\n",
              "      <td>0.655481</td>\n",
              "      <td>0.117823</td>\n",
              "      <td>0.046234</td>\n",
              "      <td>0.180462</td>\n",
              "      <td>0.064112</td>\n",
              "      <td>0.835249</td>\n",
              "      <td>0.055939</td>\n",
              "      <td>0.108812</td>\n",
              "      <td>0.910594</td>\n",
              "      <td>0.034625</td>\n",
              "      <td>0.027265</td>\n",
              "      <td>0.077397</td>\n",
              "      <td>0.0</td>\n",
              "      <td>0.578716</td>\n",
              "      <td>0.199105</td>\n",
              "      <td>0.367636</td>\n",
              "      <td>0.307979</td>\n",
              "      <td>0.12528</td>\n",
              "      <td>0.128834</td>\n",
              "      <td>0.111111</td>\n",
              "      <td>0.043456</td>\n",
              "      <td>0.085378</td>\n",
              "      <td>0.099949</td>\n",
              "      <td>0.034254</td>\n",
              "      <td>0.013548</td>\n",
              "      <td>0.012781</td>\n",
              "      <td>0.710634</td>\n",
              "      <td>0</td>\n",
              "    </tr>\n",
              "    <tr>\n",
              "      <th>2</th>\n",
              "      <td>2</td>\n",
              "      <td>2</td>\n",
              "      <td>0</td>\n",
              "      <td>82.94</td>\n",
              "      <td>-86.02</td>\n",
              "      <td>11-02-2019 16:04</td>\n",
              "      <td>20-02-2019 00:00</td>\n",
              "      <td>CHCK</td>\n",
              "      <td>Check</td>\n",
              "      <td>True</td>\n",
              "      <td>1</td>\n",
              "      <td>SingleFamily</td>\n",
              "      <td>False</td>\n",
              "      <td>False</td>\n",
              "      <td>O</td>\n",
              "      <td>False</td>\n",
              "      <td>True</td>\n",
              "      <td>34</td>\n",
              "      <td>258</td>\n",
              "      <td>HOU</td>\n",
              "      <td>72031</td>\n",
              "      <td>38.7</td>\n",
              "      <td>2.91</td>\n",
              "      <td>0.3443</td>\n",
              "      <td>37.2</td>\n",
              "      <td>1262</td>\n",
              "      <td>0.032565</td>\n",
              "      <td>0.094689</td>\n",
              "      <td>0.160321</td>\n",
              "      <td>0.029058</td>\n",
              "      <td>0.110721</td>\n",
              "      <td>0.021543</td>\n",
              "      <td>0.01002</td>\n",
              "      <td>0.034068</td>\n",
              "      <td>0.092685</td>\n",
              "      <td>0.237976</td>\n",
              "      <td>0.082164</td>\n",
              "      <td>0.056112</td>\n",
              "      <td>0.038076</td>\n",
              "      <td>0.944817</td>\n",
              "      <td>0.055183</td>\n",
              "      <td>0.001216</td>\n",
              "      <td>0.017018</td>\n",
              "      <td>0.003241</td>\n",
              "      <td>0.009319</td>\n",
              "      <td>0.01175</td>\n",
              "      <td>0.237034</td>\n",
              "      <td>0.051864</td>\n",
              "      <td>0.096029</td>\n",
              "      <td>0.161264</td>\n",
              "      <td>0.080227</td>\n",
              "      <td>0.216775</td>\n",
              "      <td>0.076175</td>\n",
              "      <td>0.009319</td>\n",
              "      <td>0.028768</td>\n",
              "      <td>0.307488</td>\n",
              "      <td>0.040846</td>\n",
              "      <td>0.655481</td>\n",
              "      <td>0.117823</td>\n",
              "      <td>0.046234</td>\n",
              "      <td>0.180462</td>\n",
              "      <td>0.064112</td>\n",
              "      <td>0.835249</td>\n",
              "      <td>0.055939</td>\n",
              "      <td>0.108812</td>\n",
              "      <td>0.910594</td>\n",
              "      <td>0.034625</td>\n",
              "      <td>0.027265</td>\n",
              "      <td>0.077397</td>\n",
              "      <td>0.0</td>\n",
              "      <td>0.578716</td>\n",
              "      <td>0.199105</td>\n",
              "      <td>0.367636</td>\n",
              "      <td>0.307979</td>\n",
              "      <td>0.12528</td>\n",
              "      <td>0.128834</td>\n",
              "      <td>0.111111</td>\n",
              "      <td>0.043456</td>\n",
              "      <td>0.085378</td>\n",
              "      <td>0.099949</td>\n",
              "      <td>0.034254</td>\n",
              "      <td>0.013548</td>\n",
              "      <td>0.012781</td>\n",
              "      <td>0.710634</td>\n",
              "      <td>0</td>\n",
              "    </tr>\n",
              "    <tr>\n",
              "      <th>3</th>\n",
              "      <td>3</td>\n",
              "      <td>3</td>\n",
              "      <td>0</td>\n",
              "      <td>91.38</td>\n",
              "      <td>-82.94</td>\n",
              "      <td>25-03-2019 16:04</td>\n",
              "      <td>21-03-2019 00:00</td>\n",
              "      <td>CHCK</td>\n",
              "      <td>Check</td>\n",
              "      <td>True</td>\n",
              "      <td>1</td>\n",
              "      <td>SingleFamily</td>\n",
              "      <td>False</td>\n",
              "      <td>False</td>\n",
              "      <td>O</td>\n",
              "      <td>False</td>\n",
              "      <td>True</td>\n",
              "      <td>34</td>\n",
              "      <td>258</td>\n",
              "      <td>HOU</td>\n",
              "      <td>72031</td>\n",
              "      <td>38.7</td>\n",
              "      <td>2.91</td>\n",
              "      <td>0.3443</td>\n",
              "      <td>37.2</td>\n",
              "      <td>1262</td>\n",
              "      <td>0.032565</td>\n",
              "      <td>0.094689</td>\n",
              "      <td>0.160321</td>\n",
              "      <td>0.029058</td>\n",
              "      <td>0.110721</td>\n",
              "      <td>0.021543</td>\n",
              "      <td>0.01002</td>\n",
              "      <td>0.034068</td>\n",
              "      <td>0.092685</td>\n",
              "      <td>0.237976</td>\n",
              "      <td>0.082164</td>\n",
              "      <td>0.056112</td>\n",
              "      <td>0.038076</td>\n",
              "      <td>0.944817</td>\n",
              "      <td>0.055183</td>\n",
              "      <td>0.001216</td>\n",
              "      <td>0.017018</td>\n",
              "      <td>0.003241</td>\n",
              "      <td>0.009319</td>\n",
              "      <td>0.01175</td>\n",
              "      <td>0.237034</td>\n",
              "      <td>0.051864</td>\n",
              "      <td>0.096029</td>\n",
              "      <td>0.161264</td>\n",
              "      <td>0.080227</td>\n",
              "      <td>0.216775</td>\n",
              "      <td>0.076175</td>\n",
              "      <td>0.009319</td>\n",
              "      <td>0.028768</td>\n",
              "      <td>0.307488</td>\n",
              "      <td>0.040846</td>\n",
              "      <td>0.655481</td>\n",
              "      <td>0.117823</td>\n",
              "      <td>0.046234</td>\n",
              "      <td>0.180462</td>\n",
              "      <td>0.064112</td>\n",
              "      <td>0.835249</td>\n",
              "      <td>0.055939</td>\n",
              "      <td>0.108812</td>\n",
              "      <td>0.910594</td>\n",
              "      <td>0.034625</td>\n",
              "      <td>0.027265</td>\n",
              "      <td>0.077397</td>\n",
              "      <td>0.0</td>\n",
              "      <td>0.578716</td>\n",
              "      <td>0.199105</td>\n",
              "      <td>0.367636</td>\n",
              "      <td>0.307979</td>\n",
              "      <td>0.12528</td>\n",
              "      <td>0.128834</td>\n",
              "      <td>0.111111</td>\n",
              "      <td>0.043456</td>\n",
              "      <td>0.085378</td>\n",
              "      <td>0.099949</td>\n",
              "      <td>0.034254</td>\n",
              "      <td>0.013548</td>\n",
              "      <td>0.012781</td>\n",
              "      <td>0.710634</td>\n",
              "      <td>1</td>\n",
              "    </tr>\n",
              "    <tr>\n",
              "      <th>4</th>\n",
              "      <td>4</td>\n",
              "      <td>4</td>\n",
              "      <td>0</td>\n",
              "      <td>68.32</td>\n",
              "      <td>-91.38</td>\n",
              "      <td>10-04-2019 16:04</td>\n",
              "      <td>19-04-2019 00:00</td>\n",
              "      <td>CHCK</td>\n",
              "      <td>Check</td>\n",
              "      <td>True</td>\n",
              "      <td>1</td>\n",
              "      <td>SingleFamily</td>\n",
              "      <td>False</td>\n",
              "      <td>False</td>\n",
              "      <td>O</td>\n",
              "      <td>False</td>\n",
              "      <td>True</td>\n",
              "      <td>34</td>\n",
              "      <td>258</td>\n",
              "      <td>HOU</td>\n",
              "      <td>72031</td>\n",
              "      <td>38.7</td>\n",
              "      <td>2.91</td>\n",
              "      <td>0.3443</td>\n",
              "      <td>37.2</td>\n",
              "      <td>1262</td>\n",
              "      <td>0.032565</td>\n",
              "      <td>0.094689</td>\n",
              "      <td>0.160321</td>\n",
              "      <td>0.029058</td>\n",
              "      <td>0.110721</td>\n",
              "      <td>0.021543</td>\n",
              "      <td>0.01002</td>\n",
              "      <td>0.034068</td>\n",
              "      <td>0.092685</td>\n",
              "      <td>0.237976</td>\n",
              "      <td>0.082164</td>\n",
              "      <td>0.056112</td>\n",
              "      <td>0.038076</td>\n",
              "      <td>0.944817</td>\n",
              "      <td>0.055183</td>\n",
              "      <td>0.001216</td>\n",
              "      <td>0.017018</td>\n",
              "      <td>0.003241</td>\n",
              "      <td>0.009319</td>\n",
              "      <td>0.01175</td>\n",
              "      <td>0.237034</td>\n",
              "      <td>0.051864</td>\n",
              "      <td>0.096029</td>\n",
              "      <td>0.161264</td>\n",
              "      <td>0.080227</td>\n",
              "      <td>0.216775</td>\n",
              "      <td>0.076175</td>\n",
              "      <td>0.009319</td>\n",
              "      <td>0.028768</td>\n",
              "      <td>0.307488</td>\n",
              "      <td>0.040846</td>\n",
              "      <td>0.655481</td>\n",
              "      <td>0.117823</td>\n",
              "      <td>0.046234</td>\n",
              "      <td>0.180462</td>\n",
              "      <td>0.064112</td>\n",
              "      <td>0.835249</td>\n",
              "      <td>0.055939</td>\n",
              "      <td>0.108812</td>\n",
              "      <td>0.910594</td>\n",
              "      <td>0.034625</td>\n",
              "      <td>0.027265</td>\n",
              "      <td>0.077397</td>\n",
              "      <td>0.0</td>\n",
              "      <td>0.578716</td>\n",
              "      <td>0.199105</td>\n",
              "      <td>0.367636</td>\n",
              "      <td>0.307979</td>\n",
              "      <td>0.12528</td>\n",
              "      <td>0.128834</td>\n",
              "      <td>0.111111</td>\n",
              "      <td>0.043456</td>\n",
              "      <td>0.085378</td>\n",
              "      <td>0.099949</td>\n",
              "      <td>0.034254</td>\n",
              "      <td>0.013548</td>\n",
              "      <td>0.012781</td>\n",
              "      <td>0.710634</td>\n",
              "      <td>0</td>\n",
              "    </tr>\n",
              "  </tbody>\n",
              "</table>\n",
              "</div>\n",
              "      <button class=\"colab-df-convert\" onclick=\"convertToInteractive('df-c5bb2efc-af79-4b01-9cf8-0b9f751db862')\"\n",
              "              title=\"Convert this dataframe to an interactive table.\"\n",
              "              style=\"display:none;\">\n",
              "        \n",
              "  <svg xmlns=\"http://www.w3.org/2000/svg\" height=\"24px\"viewBox=\"0 0 24 24\"\n",
              "       width=\"24px\">\n",
              "    <path d=\"M0 0h24v24H0V0z\" fill=\"none\"/>\n",
              "    <path d=\"M18.56 5.44l.94 2.06.94-2.06 2.06-.94-2.06-.94-.94-2.06-.94 2.06-2.06.94zm-11 1L8.5 8.5l.94-2.06 2.06-.94-2.06-.94L8.5 2.5l-.94 2.06-2.06.94zm10 10l.94 2.06.94-2.06 2.06-.94-2.06-.94-.94-2.06-.94 2.06-2.06.94z\"/><path d=\"M17.41 7.96l-1.37-1.37c-.4-.4-.92-.59-1.43-.59-.52 0-1.04.2-1.43.59L10.3 9.45l-7.72 7.72c-.78.78-.78 2.05 0 2.83L4 21.41c.39.39.9.59 1.41.59.51 0 1.02-.2 1.41-.59l7.78-7.78 2.81-2.81c.8-.78.8-2.07 0-2.86zM5.41 20L4 18.59l7.72-7.72 1.47 1.35L5.41 20z\"/>\n",
              "  </svg>\n",
              "      </button>\n",
              "      \n",
              "  <style>\n",
              "    .colab-df-container {\n",
              "      display:flex;\n",
              "      flex-wrap:wrap;\n",
              "      gap: 12px;\n",
              "    }\n",
              "\n",
              "    .colab-df-convert {\n",
              "      background-color: #E8F0FE;\n",
              "      border: none;\n",
              "      border-radius: 50%;\n",
              "      cursor: pointer;\n",
              "      display: none;\n",
              "      fill: #1967D2;\n",
              "      height: 32px;\n",
              "      padding: 0 0 0 0;\n",
              "      width: 32px;\n",
              "    }\n",
              "\n",
              "    .colab-df-convert:hover {\n",
              "      background-color: #E2EBFA;\n",
              "      box-shadow: 0px 1px 2px rgba(60, 64, 67, 0.3), 0px 1px 3px 1px rgba(60, 64, 67, 0.15);\n",
              "      fill: #174EA6;\n",
              "    }\n",
              "\n",
              "    [theme=dark] .colab-df-convert {\n",
              "      background-color: #3B4455;\n",
              "      fill: #D2E3FC;\n",
              "    }\n",
              "\n",
              "    [theme=dark] .colab-df-convert:hover {\n",
              "      background-color: #434B5C;\n",
              "      box-shadow: 0px 1px 3px 1px rgba(0, 0, 0, 0.15);\n",
              "      filter: drop-shadow(0px 1px 2px rgba(0, 0, 0, 0.3));\n",
              "      fill: #FFFFFF;\n",
              "    }\n",
              "  </style>\n",
              "\n",
              "      <script>\n",
              "        const buttonEl =\n",
              "          document.querySelector('#df-c5bb2efc-af79-4b01-9cf8-0b9f751db862 button.colab-df-convert');\n",
              "        buttonEl.style.display =\n",
              "          google.colab.kernel.accessAllowed ? 'block' : 'none';\n",
              "\n",
              "        async function convertToInteractive(key) {\n",
              "          const element = document.querySelector('#df-c5bb2efc-af79-4b01-9cf8-0b9f751db862');\n",
              "          const dataTable =\n",
              "            await google.colab.kernel.invokeFunction('convertToInteractive',\n",
              "                                                     [key], {});\n",
              "          if (!dataTable) return;\n",
              "\n",
              "          const docLinkHtml = 'Like what you see? Visit the ' +\n",
              "            '<a target=\"_blank\" href=https://colab.research.google.com/notebooks/data_table.ipynb>data table notebook</a>'\n",
              "            + ' to learn more about interactive tables.';\n",
              "          element.innerHTML = '';\n",
              "          dataTable['output_type'] = 'display_data';\n",
              "          await google.colab.output.renderOutput(dataTable, element);\n",
              "          const docLink = document.createElement('div');\n",
              "          docLink.innerHTML = docLinkHtml;\n",
              "          element.appendChild(docLink);\n",
              "        }\n",
              "      </script>\n",
              "    </div>\n",
              "  </div>\n",
              "  "
            ]
          },
          "metadata": {},
          "execution_count": 3
        }
      ],
      "source": [
        "df=pd.read_csv(\"/content/drive/MyDrive/Electricity bills 1.csv\")\n",
        "df.head()"
      ]
    },
    {
      "cell_type": "code",
      "execution_count": 5,
      "id": "a9f03738",
      "metadata": {
        "id": "a9f03738",
        "outputId": "9568f67d-cb8d-424a-bb9e-0020bbb7ea03",
        "colab": {
          "base_uri": "https://localhost:8080/"
        }
      },
      "outputs": [
        {
          "output_type": "execute_result",
          "data": {
            "text/plain": [
              "(158363, 85)"
            ]
          },
          "metadata": {},
          "execution_count": 5
        }
      ],
      "source": [
        "df.shape"
      ]
    },
    {
      "cell_type": "markdown",
      "id": "680e52b3",
      "metadata": {
        "id": "680e52b3"
      },
      "source": [
        "There are total 85 columns\n",
        "Taking only important columns required for analysis\n",
        "drops = list(df.columns[19:])"
      ]
    },
    {
      "cell_type": "code",
      "execution_count": 7,
      "id": "ed769ad7",
      "metadata": {
        "id": "ed769ad7",
        "outputId": "ac8ecd37-65c0-46a9-fa53-a80d308bd54d",
        "colab": {
          "base_uri": "https://localhost:8080/",
          "height": 444
        }
      },
      "outputs": [
        {
          "output_type": "execute_result",
          "data": {
            "text/plain": [
              "   bill_id  account_id  billing_amount  current_balance        pay_cre_dt  \\\n",
              "0        0           0           97.23           -81.50  11-12-2018 16:03   \n",
              "1        1           0           86.02           -97.23  10-01-2019 16:03   \n",
              "2        2           0           82.94           -86.02  11-02-2019 16:04   \n",
              "3        3           0           91.38           -82.94  25-03-2019 16:04   \n",
              "4        4           0           68.32           -91.38  10-04-2019 16:04   \n",
              "\n",
              "             due_dt tender_type tender_type_descr  has_email  bill_mailed  \\\n",
              "0  19-12-2018 00:00        CHCK             Check       True            1   \n",
              "1  22-01-2019 00:00        CHCK             Check       True            1   \n",
              "2  20-02-2019 00:00        CHCK             Check       True            1   \n",
              "3  21-03-2019 00:00        CHCK             Check       True            1   \n",
              "4  19-04-2019 00:00        CHCK             Check       True            1   \n",
              "\n",
              "  dwelling_type_desc  has_med_cert  is_equal_pay_acct own_rent  is_renewable  \\\n",
              "0       SingleFamily         False              False        O         False   \n",
              "1       SingleFamily         False              False        O         False   \n",
              "2       SingleFamily         False              False        O         False   \n",
              "3       SingleFamily         False              False        O         False   \n",
              "4       SingleFamily         False              False        O         False   \n",
              "\n",
              "   is_web_registered  account_months  customer_months premise_type_code  \n",
              "0               True              34              258          HOU       \n",
              "1               True              34              258          HOU       \n",
              "2               True              34              258          HOU       \n",
              "3               True              34              258          HOU       \n",
              "4               True              34              258          HOU       "
            ],
            "text/html": [
              "\n",
              "  <div id=\"df-0ffbe2c0-1f9f-4780-8a73-9b659b9746b1\">\n",
              "    <div class=\"colab-df-container\">\n",
              "      <div>\n",
              "<style scoped>\n",
              "    .dataframe tbody tr th:only-of-type {\n",
              "        vertical-align: middle;\n",
              "    }\n",
              "\n",
              "    .dataframe tbody tr th {\n",
              "        vertical-align: top;\n",
              "    }\n",
              "\n",
              "    .dataframe thead th {\n",
              "        text-align: right;\n",
              "    }\n",
              "</style>\n",
              "<table border=\"1\" class=\"dataframe\">\n",
              "  <thead>\n",
              "    <tr style=\"text-align: right;\">\n",
              "      <th></th>\n",
              "      <th>bill_id</th>\n",
              "      <th>account_id</th>\n",
              "      <th>billing_amount</th>\n",
              "      <th>current_balance</th>\n",
              "      <th>pay_cre_dt</th>\n",
              "      <th>due_dt</th>\n",
              "      <th>tender_type</th>\n",
              "      <th>tender_type_descr</th>\n",
              "      <th>has_email</th>\n",
              "      <th>bill_mailed</th>\n",
              "      <th>dwelling_type_desc</th>\n",
              "      <th>has_med_cert</th>\n",
              "      <th>is_equal_pay_acct</th>\n",
              "      <th>own_rent</th>\n",
              "      <th>is_renewable</th>\n",
              "      <th>is_web_registered</th>\n",
              "      <th>account_months</th>\n",
              "      <th>customer_months</th>\n",
              "      <th>premise_type_code</th>\n",
              "    </tr>\n",
              "  </thead>\n",
              "  <tbody>\n",
              "    <tr>\n",
              "      <th>0</th>\n",
              "      <td>0</td>\n",
              "      <td>0</td>\n",
              "      <td>97.23</td>\n",
              "      <td>-81.50</td>\n",
              "      <td>11-12-2018 16:03</td>\n",
              "      <td>19-12-2018 00:00</td>\n",
              "      <td>CHCK</td>\n",
              "      <td>Check</td>\n",
              "      <td>True</td>\n",
              "      <td>1</td>\n",
              "      <td>SingleFamily</td>\n",
              "      <td>False</td>\n",
              "      <td>False</td>\n",
              "      <td>O</td>\n",
              "      <td>False</td>\n",
              "      <td>True</td>\n",
              "      <td>34</td>\n",
              "      <td>258</td>\n",
              "      <td>HOU</td>\n",
              "    </tr>\n",
              "    <tr>\n",
              "      <th>1</th>\n",
              "      <td>1</td>\n",
              "      <td>0</td>\n",
              "      <td>86.02</td>\n",
              "      <td>-97.23</td>\n",
              "      <td>10-01-2019 16:03</td>\n",
              "      <td>22-01-2019 00:00</td>\n",
              "      <td>CHCK</td>\n",
              "      <td>Check</td>\n",
              "      <td>True</td>\n",
              "      <td>1</td>\n",
              "      <td>SingleFamily</td>\n",
              "      <td>False</td>\n",
              "      <td>False</td>\n",
              "      <td>O</td>\n",
              "      <td>False</td>\n",
              "      <td>True</td>\n",
              "      <td>34</td>\n",
              "      <td>258</td>\n",
              "      <td>HOU</td>\n",
              "    </tr>\n",
              "    <tr>\n",
              "      <th>2</th>\n",
              "      <td>2</td>\n",
              "      <td>0</td>\n",
              "      <td>82.94</td>\n",
              "      <td>-86.02</td>\n",
              "      <td>11-02-2019 16:04</td>\n",
              "      <td>20-02-2019 00:00</td>\n",
              "      <td>CHCK</td>\n",
              "      <td>Check</td>\n",
              "      <td>True</td>\n",
              "      <td>1</td>\n",
              "      <td>SingleFamily</td>\n",
              "      <td>False</td>\n",
              "      <td>False</td>\n",
              "      <td>O</td>\n",
              "      <td>False</td>\n",
              "      <td>True</td>\n",
              "      <td>34</td>\n",
              "      <td>258</td>\n",
              "      <td>HOU</td>\n",
              "    </tr>\n",
              "    <tr>\n",
              "      <th>3</th>\n",
              "      <td>3</td>\n",
              "      <td>0</td>\n",
              "      <td>91.38</td>\n",
              "      <td>-82.94</td>\n",
              "      <td>25-03-2019 16:04</td>\n",
              "      <td>21-03-2019 00:00</td>\n",
              "      <td>CHCK</td>\n",
              "      <td>Check</td>\n",
              "      <td>True</td>\n",
              "      <td>1</td>\n",
              "      <td>SingleFamily</td>\n",
              "      <td>False</td>\n",
              "      <td>False</td>\n",
              "      <td>O</td>\n",
              "      <td>False</td>\n",
              "      <td>True</td>\n",
              "      <td>34</td>\n",
              "      <td>258</td>\n",
              "      <td>HOU</td>\n",
              "    </tr>\n",
              "    <tr>\n",
              "      <th>4</th>\n",
              "      <td>4</td>\n",
              "      <td>0</td>\n",
              "      <td>68.32</td>\n",
              "      <td>-91.38</td>\n",
              "      <td>10-04-2019 16:04</td>\n",
              "      <td>19-04-2019 00:00</td>\n",
              "      <td>CHCK</td>\n",
              "      <td>Check</td>\n",
              "      <td>True</td>\n",
              "      <td>1</td>\n",
              "      <td>SingleFamily</td>\n",
              "      <td>False</td>\n",
              "      <td>False</td>\n",
              "      <td>O</td>\n",
              "      <td>False</td>\n",
              "      <td>True</td>\n",
              "      <td>34</td>\n",
              "      <td>258</td>\n",
              "      <td>HOU</td>\n",
              "    </tr>\n",
              "  </tbody>\n",
              "</table>\n",
              "</div>\n",
              "      <button class=\"colab-df-convert\" onclick=\"convertToInteractive('df-0ffbe2c0-1f9f-4780-8a73-9b659b9746b1')\"\n",
              "              title=\"Convert this dataframe to an interactive table.\"\n",
              "              style=\"display:none;\">\n",
              "        \n",
              "  <svg xmlns=\"http://www.w3.org/2000/svg\" height=\"24px\"viewBox=\"0 0 24 24\"\n",
              "       width=\"24px\">\n",
              "    <path d=\"M0 0h24v24H0V0z\" fill=\"none\"/>\n",
              "    <path d=\"M18.56 5.44l.94 2.06.94-2.06 2.06-.94-2.06-.94-.94-2.06-.94 2.06-2.06.94zm-11 1L8.5 8.5l.94-2.06 2.06-.94-2.06-.94L8.5 2.5l-.94 2.06-2.06.94zm10 10l.94 2.06.94-2.06 2.06-.94-2.06-.94-.94-2.06-.94 2.06-2.06.94z\"/><path d=\"M17.41 7.96l-1.37-1.37c-.4-.4-.92-.59-1.43-.59-.52 0-1.04.2-1.43.59L10.3 9.45l-7.72 7.72c-.78.78-.78 2.05 0 2.83L4 21.41c.39.39.9.59 1.41.59.51 0 1.02-.2 1.41-.59l7.78-7.78 2.81-2.81c.8-.78.8-2.07 0-2.86zM5.41 20L4 18.59l7.72-7.72 1.47 1.35L5.41 20z\"/>\n",
              "  </svg>\n",
              "      </button>\n",
              "      \n",
              "  <style>\n",
              "    .colab-df-container {\n",
              "      display:flex;\n",
              "      flex-wrap:wrap;\n",
              "      gap: 12px;\n",
              "    }\n",
              "\n",
              "    .colab-df-convert {\n",
              "      background-color: #E8F0FE;\n",
              "      border: none;\n",
              "      border-radius: 50%;\n",
              "      cursor: pointer;\n",
              "      display: none;\n",
              "      fill: #1967D2;\n",
              "      height: 32px;\n",
              "      padding: 0 0 0 0;\n",
              "      width: 32px;\n",
              "    }\n",
              "\n",
              "    .colab-df-convert:hover {\n",
              "      background-color: #E2EBFA;\n",
              "      box-shadow: 0px 1px 2px rgba(60, 64, 67, 0.3), 0px 1px 3px 1px rgba(60, 64, 67, 0.15);\n",
              "      fill: #174EA6;\n",
              "    }\n",
              "\n",
              "    [theme=dark] .colab-df-convert {\n",
              "      background-color: #3B4455;\n",
              "      fill: #D2E3FC;\n",
              "    }\n",
              "\n",
              "    [theme=dark] .colab-df-convert:hover {\n",
              "      background-color: #434B5C;\n",
              "      box-shadow: 0px 1px 3px 1px rgba(0, 0, 0, 0.15);\n",
              "      filter: drop-shadow(0px 1px 2px rgba(0, 0, 0, 0.3));\n",
              "      fill: #FFFFFF;\n",
              "    }\n",
              "  </style>\n",
              "\n",
              "      <script>\n",
              "        const buttonEl =\n",
              "          document.querySelector('#df-0ffbe2c0-1f9f-4780-8a73-9b659b9746b1 button.colab-df-convert');\n",
              "        buttonEl.style.display =\n",
              "          google.colab.kernel.accessAllowed ? 'block' : 'none';\n",
              "\n",
              "        async function convertToInteractive(key) {\n",
              "          const element = document.querySelector('#df-0ffbe2c0-1f9f-4780-8a73-9b659b9746b1');\n",
              "          const dataTable =\n",
              "            await google.colab.kernel.invokeFunction('convertToInteractive',\n",
              "                                                     [key], {});\n",
              "          if (!dataTable) return;\n",
              "\n",
              "          const docLinkHtml = 'Like what you see? Visit the ' +\n",
              "            '<a target=\"_blank\" href=https://colab.research.google.com/notebooks/data_table.ipynb>data table notebook</a>'\n",
              "            + ' to learn more about interactive tables.';\n",
              "          element.innerHTML = '';\n",
              "          dataTable['output_type'] = 'display_data';\n",
              "          await google.colab.output.renderOutput(dataTable, element);\n",
              "          const docLink = document.createElement('div');\n",
              "          docLink.innerHTML = docLinkHtml;\n",
              "          element.appendChild(docLink);\n",
              "        }\n",
              "      </script>\n",
              "    </div>\n",
              "  </div>\n",
              "  "
            ]
          },
          "metadata": {},
          "execution_count": 7
        }
      ],
      "source": [
        "df = df[['bill_id','account_id','billing_amount','current_balance','pay_cre_dt','due_dt','tender_type','tender_type_descr','has_email','bill_mailed','dwelling_type_desc','has_med_cert','is_equal_pay_acct',\n",
        "      'own_rent','is_renewable','is_web_registered','account_months','customer_months','premise_type_code']]\n",
        "df.head()"
      ]
    },
    {
      "cell_type": "code",
      "execution_count": 8,
      "id": "131f036c",
      "metadata": {
        "id": "131f036c",
        "outputId": "61c78bed-2e9a-4acd-e808-10c94e49120d",
        "colab": {
          "base_uri": "https://localhost:8080/"
        }
      },
      "outputs": [
        {
          "output_type": "execute_result",
          "data": {
            "text/plain": [
              "(158363, 19)"
            ]
          },
          "metadata": {},
          "execution_count": 8
        }
      ],
      "source": [
        "df.shape"
      ]
    },
    {
      "cell_type": "code",
      "execution_count": 9,
      "id": "53ffa757",
      "metadata": {
        "id": "53ffa757",
        "outputId": "119a7ac0-cc3b-4542-d54f-9c9ceb160620",
        "colab": {
          "base_uri": "https://localhost:8080/"
        }
      },
      "outputs": [
        {
          "output_type": "stream",
          "name": "stdout",
          "text": [
            "<class 'pandas.core.frame.DataFrame'>\n",
            "RangeIndex: 158363 entries, 0 to 158362\n",
            "Data columns (total 19 columns):\n",
            " #   Column              Non-Null Count   Dtype  \n",
            "---  ------              --------------   -----  \n",
            " 0   bill_id             158363 non-null  int64  \n",
            " 1   account_id          158363 non-null  int64  \n",
            " 2   billing_amount      158363 non-null  float64\n",
            " 3   current_balance     158363 non-null  float64\n",
            " 4   pay_cre_dt          158363 non-null  object \n",
            " 5   due_dt              158363 non-null  object \n",
            " 6   tender_type         76507 non-null   object \n",
            " 7   tender_type_descr   76507 non-null   object \n",
            " 8   has_email           158363 non-null  bool   \n",
            " 9   bill_mailed         158363 non-null  int64  \n",
            " 10  dwelling_type_desc  158329 non-null  object \n",
            " 11  has_med_cert        158363 non-null  bool   \n",
            " 12  is_equal_pay_acct   158363 non-null  bool   \n",
            " 13  own_rent            158363 non-null  object \n",
            " 14  is_renewable        158363 non-null  bool   \n",
            " 15  is_web_registered   158363 non-null  bool   \n",
            " 16  account_months      158363 non-null  int64  \n",
            " 17  customer_months     158363 non-null  int64  \n",
            " 18  premise_type_code   158363 non-null  object \n",
            "dtypes: bool(5), float64(2), int64(5), object(7)\n",
            "memory usage: 17.7+ MB\n"
          ]
        }
      ],
      "source": [
        "df.info()"
      ]
    },
    {
      "cell_type": "markdown",
      "id": "7ced332e",
      "metadata": {
        "id": "7ced332e"
      },
      "source": [
        "# **Descriptive statstics**"
      ]
    },
    {
      "cell_type": "code",
      "execution_count": 10,
      "id": "0e95b1ae",
      "metadata": {
        "id": "0e95b1ae",
        "outputId": "a9c84937-fe8c-444e-b271-e01e4d2a8104",
        "colab": {
          "base_uri": "https://localhost:8080/",
          "height": 493
        }
      },
      "outputs": [
        {
          "output_type": "execute_result",
          "data": {
            "text/plain": [
              "              bill_id     account_id  billing_amount  current_balance  \\\n",
              "count   158363.000000  158363.000000   158363.000000    158363.000000   \n",
              "unique            NaN            NaN             NaN              NaN   \n",
              "top               NaN            NaN             NaN              NaN   \n",
              "freq              NaN            NaN             NaN              NaN   \n",
              "mean     79181.000000    4961.583545      115.968180       -77.913308   \n",
              "std      45715.604677    2868.275677       88.959604       229.985583   \n",
              "min          0.000000       0.000000      -20.810000    -25027.850000   \n",
              "25%      39590.500000    2479.000000       64.570000      -130.360000   \n",
              "50%      79181.000000    4947.000000       93.860000       -80.680000   \n",
              "75%     118771.500000    7443.500000      141.180000       -44.240000   \n",
              "max     158362.000000    9932.000000     2492.960000     20522.850000   \n",
              "\n",
              "              pay_cre_dt            due_dt tender_type tender_type_descr  \\\n",
              "count             158363            158363       76507             76507   \n",
              "unique             38035               391           7                 7   \n",
              "top     01-02-2019 19:42  05-02-2020 00:00        CHCK             Check   \n",
              "freq                 238               933       70451             70451   \n",
              "mean                 NaN               NaN         NaN               NaN   \n",
              "std                  NaN               NaN         NaN               NaN   \n",
              "min                  NaN               NaN         NaN               NaN   \n",
              "25%                  NaN               NaN         NaN               NaN   \n",
              "50%                  NaN               NaN         NaN               NaN   \n",
              "75%                  NaN               NaN         NaN               NaN   \n",
              "max                  NaN               NaN         NaN               NaN   \n",
              "\n",
              "       has_email    bill_mailed dwelling_type_desc has_med_cert  \\\n",
              "count     158363  158363.000000             158329       158363   \n",
              "unique         2            NaN                  4            2   \n",
              "top         True            NaN       SingleFamily        False   \n",
              "freq      120083            NaN             104557       157725   \n",
              "mean         NaN       0.525325                NaN          NaN   \n",
              "std          NaN       0.499360                NaN          NaN   \n",
              "min          NaN       0.000000                NaN          NaN   \n",
              "25%          NaN       0.000000                NaN          NaN   \n",
              "50%          NaN       1.000000                NaN          NaN   \n",
              "75%          NaN       1.000000                NaN          NaN   \n",
              "max          NaN       1.000000                NaN          NaN   \n",
              "\n",
              "       is_equal_pay_acct own_rent is_renewable is_web_registered  \\\n",
              "count             158363   158363       158363            158363   \n",
              "unique                 2        2            2                 2   \n",
              "top                False        O        False              True   \n",
              "freq              143995    82310       111837            115051   \n",
              "mean                 NaN      NaN          NaN               NaN   \n",
              "std                  NaN      NaN          NaN               NaN   \n",
              "min                  NaN      NaN          NaN               NaN   \n",
              "25%                  NaN      NaN          NaN               NaN   \n",
              "50%                  NaN      NaN          NaN               NaN   \n",
              "75%                  NaN      NaN          NaN               NaN   \n",
              "max                  NaN      NaN          NaN               NaN   \n",
              "\n",
              "        account_months  customer_months premise_type_code  \n",
              "count    158363.000000    158363.000000            158363  \n",
              "unique             NaN              NaN                 8  \n",
              "top                NaN              NaN          HOU       \n",
              "freq               NaN              NaN            104557  \n",
              "mean        137.889457       210.082892               NaN  \n",
              "std         131.509690       167.050376               NaN  \n",
              "min           3.000000         4.000000               NaN  \n",
              "25%          39.000000        81.000000               NaN  \n",
              "50%          84.000000       201.000000               NaN  \n",
              "75%         201.000000       268.000000               NaN  \n",
              "max         725.000000       845.000000               NaN  "
            ],
            "text/html": [
              "\n",
              "  <div id=\"df-95eca991-9215-4200-ac09-0709fa36bb19\">\n",
              "    <div class=\"colab-df-container\">\n",
              "      <div>\n",
              "<style scoped>\n",
              "    .dataframe tbody tr th:only-of-type {\n",
              "        vertical-align: middle;\n",
              "    }\n",
              "\n",
              "    .dataframe tbody tr th {\n",
              "        vertical-align: top;\n",
              "    }\n",
              "\n",
              "    .dataframe thead th {\n",
              "        text-align: right;\n",
              "    }\n",
              "</style>\n",
              "<table border=\"1\" class=\"dataframe\">\n",
              "  <thead>\n",
              "    <tr style=\"text-align: right;\">\n",
              "      <th></th>\n",
              "      <th>bill_id</th>\n",
              "      <th>account_id</th>\n",
              "      <th>billing_amount</th>\n",
              "      <th>current_balance</th>\n",
              "      <th>pay_cre_dt</th>\n",
              "      <th>due_dt</th>\n",
              "      <th>tender_type</th>\n",
              "      <th>tender_type_descr</th>\n",
              "      <th>has_email</th>\n",
              "      <th>bill_mailed</th>\n",
              "      <th>dwelling_type_desc</th>\n",
              "      <th>has_med_cert</th>\n",
              "      <th>is_equal_pay_acct</th>\n",
              "      <th>own_rent</th>\n",
              "      <th>is_renewable</th>\n",
              "      <th>is_web_registered</th>\n",
              "      <th>account_months</th>\n",
              "      <th>customer_months</th>\n",
              "      <th>premise_type_code</th>\n",
              "    </tr>\n",
              "  </thead>\n",
              "  <tbody>\n",
              "    <tr>\n",
              "      <th>count</th>\n",
              "      <td>158363.000000</td>\n",
              "      <td>158363.000000</td>\n",
              "      <td>158363.000000</td>\n",
              "      <td>158363.000000</td>\n",
              "      <td>158363</td>\n",
              "      <td>158363</td>\n",
              "      <td>76507</td>\n",
              "      <td>76507</td>\n",
              "      <td>158363</td>\n",
              "      <td>158363.000000</td>\n",
              "      <td>158329</td>\n",
              "      <td>158363</td>\n",
              "      <td>158363</td>\n",
              "      <td>158363</td>\n",
              "      <td>158363</td>\n",
              "      <td>158363</td>\n",
              "      <td>158363.000000</td>\n",
              "      <td>158363.000000</td>\n",
              "      <td>158363</td>\n",
              "    </tr>\n",
              "    <tr>\n",
              "      <th>unique</th>\n",
              "      <td>NaN</td>\n",
              "      <td>NaN</td>\n",
              "      <td>NaN</td>\n",
              "      <td>NaN</td>\n",
              "      <td>38035</td>\n",
              "      <td>391</td>\n",
              "      <td>7</td>\n",
              "      <td>7</td>\n",
              "      <td>2</td>\n",
              "      <td>NaN</td>\n",
              "      <td>4</td>\n",
              "      <td>2</td>\n",
              "      <td>2</td>\n",
              "      <td>2</td>\n",
              "      <td>2</td>\n",
              "      <td>2</td>\n",
              "      <td>NaN</td>\n",
              "      <td>NaN</td>\n",
              "      <td>8</td>\n",
              "    </tr>\n",
              "    <tr>\n",
              "      <th>top</th>\n",
              "      <td>NaN</td>\n",
              "      <td>NaN</td>\n",
              "      <td>NaN</td>\n",
              "      <td>NaN</td>\n",
              "      <td>01-02-2019 19:42</td>\n",
              "      <td>05-02-2020 00:00</td>\n",
              "      <td>CHCK</td>\n",
              "      <td>Check</td>\n",
              "      <td>True</td>\n",
              "      <td>NaN</td>\n",
              "      <td>SingleFamily</td>\n",
              "      <td>False</td>\n",
              "      <td>False</td>\n",
              "      <td>O</td>\n",
              "      <td>False</td>\n",
              "      <td>True</td>\n",
              "      <td>NaN</td>\n",
              "      <td>NaN</td>\n",
              "      <td>HOU</td>\n",
              "    </tr>\n",
              "    <tr>\n",
              "      <th>freq</th>\n",
              "      <td>NaN</td>\n",
              "      <td>NaN</td>\n",
              "      <td>NaN</td>\n",
              "      <td>NaN</td>\n",
              "      <td>238</td>\n",
              "      <td>933</td>\n",
              "      <td>70451</td>\n",
              "      <td>70451</td>\n",
              "      <td>120083</td>\n",
              "      <td>NaN</td>\n",
              "      <td>104557</td>\n",
              "      <td>157725</td>\n",
              "      <td>143995</td>\n",
              "      <td>82310</td>\n",
              "      <td>111837</td>\n",
              "      <td>115051</td>\n",
              "      <td>NaN</td>\n",
              "      <td>NaN</td>\n",
              "      <td>104557</td>\n",
              "    </tr>\n",
              "    <tr>\n",
              "      <th>mean</th>\n",
              "      <td>79181.000000</td>\n",
              "      <td>4961.583545</td>\n",
              "      <td>115.968180</td>\n",
              "      <td>-77.913308</td>\n",
              "      <td>NaN</td>\n",
              "      <td>NaN</td>\n",
              "      <td>NaN</td>\n",
              "      <td>NaN</td>\n",
              "      <td>NaN</td>\n",
              "      <td>0.525325</td>\n",
              "      <td>NaN</td>\n",
              "      <td>NaN</td>\n",
              "      <td>NaN</td>\n",
              "      <td>NaN</td>\n",
              "      <td>NaN</td>\n",
              "      <td>NaN</td>\n",
              "      <td>137.889457</td>\n",
              "      <td>210.082892</td>\n",
              "      <td>NaN</td>\n",
              "    </tr>\n",
              "    <tr>\n",
              "      <th>std</th>\n",
              "      <td>45715.604677</td>\n",
              "      <td>2868.275677</td>\n",
              "      <td>88.959604</td>\n",
              "      <td>229.985583</td>\n",
              "      <td>NaN</td>\n",
              "      <td>NaN</td>\n",
              "      <td>NaN</td>\n",
              "      <td>NaN</td>\n",
              "      <td>NaN</td>\n",
              "      <td>0.499360</td>\n",
              "      <td>NaN</td>\n",
              "      <td>NaN</td>\n",
              "      <td>NaN</td>\n",
              "      <td>NaN</td>\n",
              "      <td>NaN</td>\n",
              "      <td>NaN</td>\n",
              "      <td>131.509690</td>\n",
              "      <td>167.050376</td>\n",
              "      <td>NaN</td>\n",
              "    </tr>\n",
              "    <tr>\n",
              "      <th>min</th>\n",
              "      <td>0.000000</td>\n",
              "      <td>0.000000</td>\n",
              "      <td>-20.810000</td>\n",
              "      <td>-25027.850000</td>\n",
              "      <td>NaN</td>\n",
              "      <td>NaN</td>\n",
              "      <td>NaN</td>\n",
              "      <td>NaN</td>\n",
              "      <td>NaN</td>\n",
              "      <td>0.000000</td>\n",
              "      <td>NaN</td>\n",
              "      <td>NaN</td>\n",
              "      <td>NaN</td>\n",
              "      <td>NaN</td>\n",
              "      <td>NaN</td>\n",
              "      <td>NaN</td>\n",
              "      <td>3.000000</td>\n",
              "      <td>4.000000</td>\n",
              "      <td>NaN</td>\n",
              "    </tr>\n",
              "    <tr>\n",
              "      <th>25%</th>\n",
              "      <td>39590.500000</td>\n",
              "      <td>2479.000000</td>\n",
              "      <td>64.570000</td>\n",
              "      <td>-130.360000</td>\n",
              "      <td>NaN</td>\n",
              "      <td>NaN</td>\n",
              "      <td>NaN</td>\n",
              "      <td>NaN</td>\n",
              "      <td>NaN</td>\n",
              "      <td>0.000000</td>\n",
              "      <td>NaN</td>\n",
              "      <td>NaN</td>\n",
              "      <td>NaN</td>\n",
              "      <td>NaN</td>\n",
              "      <td>NaN</td>\n",
              "      <td>NaN</td>\n",
              "      <td>39.000000</td>\n",
              "      <td>81.000000</td>\n",
              "      <td>NaN</td>\n",
              "    </tr>\n",
              "    <tr>\n",
              "      <th>50%</th>\n",
              "      <td>79181.000000</td>\n",
              "      <td>4947.000000</td>\n",
              "      <td>93.860000</td>\n",
              "      <td>-80.680000</td>\n",
              "      <td>NaN</td>\n",
              "      <td>NaN</td>\n",
              "      <td>NaN</td>\n",
              "      <td>NaN</td>\n",
              "      <td>NaN</td>\n",
              "      <td>1.000000</td>\n",
              "      <td>NaN</td>\n",
              "      <td>NaN</td>\n",
              "      <td>NaN</td>\n",
              "      <td>NaN</td>\n",
              "      <td>NaN</td>\n",
              "      <td>NaN</td>\n",
              "      <td>84.000000</td>\n",
              "      <td>201.000000</td>\n",
              "      <td>NaN</td>\n",
              "    </tr>\n",
              "    <tr>\n",
              "      <th>75%</th>\n",
              "      <td>118771.500000</td>\n",
              "      <td>7443.500000</td>\n",
              "      <td>141.180000</td>\n",
              "      <td>-44.240000</td>\n",
              "      <td>NaN</td>\n",
              "      <td>NaN</td>\n",
              "      <td>NaN</td>\n",
              "      <td>NaN</td>\n",
              "      <td>NaN</td>\n",
              "      <td>1.000000</td>\n",
              "      <td>NaN</td>\n",
              "      <td>NaN</td>\n",
              "      <td>NaN</td>\n",
              "      <td>NaN</td>\n",
              "      <td>NaN</td>\n",
              "      <td>NaN</td>\n",
              "      <td>201.000000</td>\n",
              "      <td>268.000000</td>\n",
              "      <td>NaN</td>\n",
              "    </tr>\n",
              "    <tr>\n",
              "      <th>max</th>\n",
              "      <td>158362.000000</td>\n",
              "      <td>9932.000000</td>\n",
              "      <td>2492.960000</td>\n",
              "      <td>20522.850000</td>\n",
              "      <td>NaN</td>\n",
              "      <td>NaN</td>\n",
              "      <td>NaN</td>\n",
              "      <td>NaN</td>\n",
              "      <td>NaN</td>\n",
              "      <td>1.000000</td>\n",
              "      <td>NaN</td>\n",
              "      <td>NaN</td>\n",
              "      <td>NaN</td>\n",
              "      <td>NaN</td>\n",
              "      <td>NaN</td>\n",
              "      <td>NaN</td>\n",
              "      <td>725.000000</td>\n",
              "      <td>845.000000</td>\n",
              "      <td>NaN</td>\n",
              "    </tr>\n",
              "  </tbody>\n",
              "</table>\n",
              "</div>\n",
              "      <button class=\"colab-df-convert\" onclick=\"convertToInteractive('df-95eca991-9215-4200-ac09-0709fa36bb19')\"\n",
              "              title=\"Convert this dataframe to an interactive table.\"\n",
              "              style=\"display:none;\">\n",
              "        \n",
              "  <svg xmlns=\"http://www.w3.org/2000/svg\" height=\"24px\"viewBox=\"0 0 24 24\"\n",
              "       width=\"24px\">\n",
              "    <path d=\"M0 0h24v24H0V0z\" fill=\"none\"/>\n",
              "    <path d=\"M18.56 5.44l.94 2.06.94-2.06 2.06-.94-2.06-.94-.94-2.06-.94 2.06-2.06.94zm-11 1L8.5 8.5l.94-2.06 2.06-.94-2.06-.94L8.5 2.5l-.94 2.06-2.06.94zm10 10l.94 2.06.94-2.06 2.06-.94-2.06-.94-.94-2.06-.94 2.06-2.06.94z\"/><path d=\"M17.41 7.96l-1.37-1.37c-.4-.4-.92-.59-1.43-.59-.52 0-1.04.2-1.43.59L10.3 9.45l-7.72 7.72c-.78.78-.78 2.05 0 2.83L4 21.41c.39.39.9.59 1.41.59.51 0 1.02-.2 1.41-.59l7.78-7.78 2.81-2.81c.8-.78.8-2.07 0-2.86zM5.41 20L4 18.59l7.72-7.72 1.47 1.35L5.41 20z\"/>\n",
              "  </svg>\n",
              "      </button>\n",
              "      \n",
              "  <style>\n",
              "    .colab-df-container {\n",
              "      display:flex;\n",
              "      flex-wrap:wrap;\n",
              "      gap: 12px;\n",
              "    }\n",
              "\n",
              "    .colab-df-convert {\n",
              "      background-color: #E8F0FE;\n",
              "      border: none;\n",
              "      border-radius: 50%;\n",
              "      cursor: pointer;\n",
              "      display: none;\n",
              "      fill: #1967D2;\n",
              "      height: 32px;\n",
              "      padding: 0 0 0 0;\n",
              "      width: 32px;\n",
              "    }\n",
              "\n",
              "    .colab-df-convert:hover {\n",
              "      background-color: #E2EBFA;\n",
              "      box-shadow: 0px 1px 2px rgba(60, 64, 67, 0.3), 0px 1px 3px 1px rgba(60, 64, 67, 0.15);\n",
              "      fill: #174EA6;\n",
              "    }\n",
              "\n",
              "    [theme=dark] .colab-df-convert {\n",
              "      background-color: #3B4455;\n",
              "      fill: #D2E3FC;\n",
              "    }\n",
              "\n",
              "    [theme=dark] .colab-df-convert:hover {\n",
              "      background-color: #434B5C;\n",
              "      box-shadow: 0px 1px 3px 1px rgba(0, 0, 0, 0.15);\n",
              "      filter: drop-shadow(0px 1px 2px rgba(0, 0, 0, 0.3));\n",
              "      fill: #FFFFFF;\n",
              "    }\n",
              "  </style>\n",
              "\n",
              "      <script>\n",
              "        const buttonEl =\n",
              "          document.querySelector('#df-95eca991-9215-4200-ac09-0709fa36bb19 button.colab-df-convert');\n",
              "        buttonEl.style.display =\n",
              "          google.colab.kernel.accessAllowed ? 'block' : 'none';\n",
              "\n",
              "        async function convertToInteractive(key) {\n",
              "          const element = document.querySelector('#df-95eca991-9215-4200-ac09-0709fa36bb19');\n",
              "          const dataTable =\n",
              "            await google.colab.kernel.invokeFunction('convertToInteractive',\n",
              "                                                     [key], {});\n",
              "          if (!dataTable) return;\n",
              "\n",
              "          const docLinkHtml = 'Like what you see? Visit the ' +\n",
              "            '<a target=\"_blank\" href=https://colab.research.google.com/notebooks/data_table.ipynb>data table notebook</a>'\n",
              "            + ' to learn more about interactive tables.';\n",
              "          element.innerHTML = '';\n",
              "          dataTable['output_type'] = 'display_data';\n",
              "          await google.colab.output.renderOutput(dataTable, element);\n",
              "          const docLink = document.createElement('div');\n",
              "          docLink.innerHTML = docLinkHtml;\n",
              "          element.appendChild(docLink);\n",
              "        }\n",
              "      </script>\n",
              "    </div>\n",
              "  </div>\n",
              "  "
            ]
          },
          "metadata": {},
          "execution_count": 10
        }
      ],
      "source": [
        "df.describe(include=\"all\")"
      ]
    },
    {
      "cell_type": "code",
      "execution_count": 11,
      "id": "4fbbaf2d",
      "metadata": {
        "id": "4fbbaf2d",
        "outputId": "bae470a4-19bd-4a68-8b08-ac9834e0265b",
        "colab": {
          "base_uri": "https://localhost:8080/"
        }
      },
      "outputs": [
        {
          "output_type": "execute_result",
          "data": {
            "text/plain": [
              "0         False\n",
              "1         False\n",
              "2         False\n",
              "3         False\n",
              "4         False\n",
              "          ...  \n",
              "158358    False\n",
              "158359    False\n",
              "158360    False\n",
              "158361    False\n",
              "158362    False\n",
              "Length: 158363, dtype: bool"
            ]
          },
          "metadata": {},
          "execution_count": 11
        }
      ],
      "source": [
        "## Checking duplicate Values\n",
        "df.duplicated()\n"
      ]
    },
    {
      "cell_type": "code",
      "execution_count": 12,
      "id": "4761263f",
      "metadata": {
        "id": "4761263f",
        "outputId": "019b1144-1c3a-4663-bcf3-1a5fa566cb98",
        "colab": {
          "base_uri": "https://localhost:8080/"
        }
      },
      "outputs": [
        {
          "output_type": "execute_result",
          "data": {
            "text/plain": [
              "0"
            ]
          },
          "metadata": {},
          "execution_count": 12
        }
      ],
      "source": [
        "df.duplicated().sum()"
      ]
    },
    {
      "cell_type": "code",
      "execution_count": 13,
      "id": "bc9b9fd3",
      "metadata": {
        "id": "bc9b9fd3",
        "outputId": "4a572a99-1668-4e7e-a8e4-53089a34819c",
        "colab": {
          "base_uri": "https://localhost:8080/"
        }
      },
      "outputs": [
        {
          "output_type": "stream",
          "name": "stdout",
          "text": [
            "bill_id                   0\n",
            "account_id                0\n",
            "billing_amount            0\n",
            "current_balance           0\n",
            "pay_cre_dt                0\n",
            "due_dt                    0\n",
            "tender_type           81856\n",
            "tender_type_descr     81856\n",
            "has_email                 0\n",
            "bill_mailed               0\n",
            "dwelling_type_desc       34\n",
            "has_med_cert              0\n",
            "is_equal_pay_acct         0\n",
            "own_rent                  0\n",
            "is_renewable              0\n",
            "is_web_registered         0\n",
            "account_months            0\n",
            "customer_months           0\n",
            "premise_type_code         0\n",
            "dtype: int64\n"
          ]
        }
      ],
      "source": [
        "## Checking Missing Values\n",
        "print(df.isnull().sum()) "
      ]
    },
    {
      "cell_type": "code",
      "source": [
        "plt.figure(figsize=(10, 8))\n",
        "sns.heatmap(df.isna())"
      ],
      "metadata": {
        "colab": {
          "base_uri": "https://localhost:8080/",
          "height": 592
        },
        "id": "AxRLiJt0jrK8",
        "outputId": "6e942724-fb3b-4c29-8e05-b1d322ffda41"
      },
      "id": "AxRLiJt0jrK8",
      "execution_count": 14,
      "outputs": [
        {
          "output_type": "execute_result",
          "data": {
            "text/plain": [
              "<matplotlib.axes._subplots.AxesSubplot at 0x7f0225c050d0>"
            ]
          },
          "metadata": {},
          "execution_count": 14
        },
        {
          "output_type": "display_data",
          "data": {
            "text/plain": [
              "<Figure size 720x576 with 2 Axes>"
            ],
            "image/png": "[encoded data removed]"
          },
          "metadata": {
            "needs_background": "light"
          }
        }
      ]
    },
    {
      "cell_type": "markdown",
      "source": [
        "## **Handling Null values**"
      ],
      "metadata": {
        "id": "MoCX_G0JjveS"
      },
      "id": "MoCX_G0JjveS"
    },
    {
      "cell_type": "code",
      "source": [
        "df[\"tender_type\"].isnull().sum()"
      ],
      "metadata": {
        "colab": {
          "base_uri": "https://localhost:8080/"
        },
        "id": "uqxMoaewkNCZ",
        "outputId": "77d96dbd-80ca-40d6-eb6d-73b178f9e4f1"
      },
      "id": "uqxMoaewkNCZ",
      "execution_count": 17,
      "outputs": [
        {
          "output_type": "execute_result",
          "data": {
            "text/plain": [
              "81856"
            ]
          },
          "metadata": {},
          "execution_count": 17
        }
      ]
    },
    {
      "cell_type": "code",
      "source": [
        "mode= df.tender_type.mode()\n",
        "mode\n",
        "#The most common payment method is through Check"
      ],
      "metadata": {
        "colab": {
          "base_uri": "https://localhost:8080/"
        },
        "id": "10jB2mNEkNNy",
        "outputId": "e9db3797-4670-4918-f79a-580bbc016ca2"
      },
      "id": "10jB2mNEkNNy",
      "execution_count": 15,
      "outputs": [
        {
          "output_type": "execute_result",
          "data": {
            "text/plain": [
              "0    CHCK\n",
              "dtype: object"
            ]
          },
          "metadata": {},
          "execution_count": 15
        }
      ]
    },
    {
      "cell_type": "code",
      "source": [
        "df.groupby(['tender_type']).size()"
      ],
      "metadata": {
        "colab": {
          "base_uri": "https://localhost:8080/"
        },
        "id": "G7eyJAIzkNUR",
        "outputId": "5572f320-817f-40ee-e785-751820216f8d"
      },
      "id": "G7eyJAIzkNUR",
      "execution_count": 16,
      "outputs": [
        {
          "output_type": "execute_result",
          "data": {
            "text/plain": [
              "tender_type\n",
              "CACK        7\n",
              "CASH     4281\n",
              "CC        256\n",
              "CHCK    70451\n",
              "CMT      1365\n",
              "DEBT       39\n",
              "MO        108\n",
              "dtype: int64"
            ]
          },
          "metadata": {},
          "execution_count": 16
        }
      ]
    },
    {
      "cell_type": "code",
      "source": [
        "#let's fill the NULLs with \"CHCK\" value\n",
        "df['tender_type_filled'] =df['tender_type'].fillna(value='CHCK')\n",
        "df['tender_type_filled'].isnull().sum()"
      ],
      "metadata": {
        "colab": {
          "base_uri": "https://localhost:8080/"
        },
        "id": "msAOVbFPkNch",
        "outputId": "33d1a1b2-6f63-4032-93bc-db1b9668ed00"
      },
      "id": "msAOVbFPkNch",
      "execution_count": 20,
      "outputs": [
        {
          "output_type": "execute_result",
          "data": {
            "text/plain": [
              "0"
            ]
          },
          "metadata": {},
          "execution_count": 20
        }
      ]
    },
    {
      "cell_type": "code",
      "source": [
        "df.groupby(['tender_type_filled']).size()"
      ],
      "metadata": {
        "colab": {
          "base_uri": "https://localhost:8080/"
        },
        "id": "5ctxt0EKkNmD",
        "outputId": "f4ad381b-de1f-48d4-c986-fa7419019827"
      },
      "id": "5ctxt0EKkNmD",
      "execution_count": 21,
      "outputs": [
        {
          "output_type": "execute_result",
          "data": {
            "text/plain": [
              "tender_type_filled\n",
              "CACK         7\n",
              "CASH      4281\n",
              "CC         256\n",
              "CHCK    152307\n",
              "CMT       1365\n",
              "DEBT        39\n",
              "MO         108\n",
              "dtype: int64"
            ]
          },
          "metadata": {},
          "execution_count": 21
        }
      ]
    },
    {
      "cell_type": "code",
      "source": [
        "df[\"tender_type_descr\"].isnull().sum()"
      ],
      "metadata": {
        "colab": {
          "base_uri": "https://localhost:8080/"
        },
        "id": "1rP4xvhUlUN6",
        "outputId": "d8a9be23-cbcd-43e5-e147-ba9b1589cfb2"
      },
      "id": "1rP4xvhUlUN6",
      "execution_count": 22,
      "outputs": [
        {
          "output_type": "execute_result",
          "data": {
            "text/plain": [
              "81856"
            ]
          },
          "metadata": {},
          "execution_count": 22
        }
      ]
    },
    {
      "cell_type": "code",
      "source": [
        "df.groupby(['tender_type_descr']).size()\n",
        "#The most common payment method is through Check"
      ],
      "metadata": {
        "colab": {
          "base_uri": "https://localhost:8080/"
        },
        "id": "nnai4w_rlUQ_",
        "outputId": "312bc2d5-9acb-4e06-9796-b50ea0f0fea7"
      },
      "id": "nnai4w_rlUQ_",
      "execution_count": 23,
      "outputs": [
        {
          "output_type": "execute_result",
          "data": {
            "text/plain": [
              "tender_type_descr\n",
              "Cash                4281\n",
              "Cashier's Check        7\n",
              "Check              70451\n",
              "Commitment          1365\n",
              "Credit Card          256\n",
              "Debit Card            39\n",
              "Money Order          108\n",
              "dtype: int64"
            ]
          },
          "metadata": {},
          "execution_count": 23
        }
      ]
    },
    {
      "cell_type": "code",
      "source": [
        "# Filling the null values with the most common value \"check \"\n",
        "df['tender_type_descr1'] =df['tender_type_descr'].fillna(value='check')\n",
        "df['tender_type_descr1'].isnull().sum()"
      ],
      "metadata": {
        "colab": {
          "base_uri": "https://localhost:8080/"
        },
        "id": "Pb_KBWLylUUb",
        "outputId": "15af339d-c6fe-4a68-d13c-c9ce2bee7960"
      },
      "id": "Pb_KBWLylUUb",
      "execution_count": 24,
      "outputs": [
        {
          "output_type": "execute_result",
          "data": {
            "text/plain": [
              "0"
            ]
          },
          "metadata": {},
          "execution_count": 24
        }
      ]
    },
    {
      "cell_type": "code",
      "source": [
        "df[\"dwelling_type_desc\"].isnull().sum()"
      ],
      "metadata": {
        "colab": {
          "base_uri": "https://localhost:8080/"
        },
        "id": "aaxL0Nl1leqQ",
        "outputId": "4f3e1248-80d0-4597-abe0-f20491b9d6ce"
      },
      "id": "aaxL0Nl1leqQ",
      "execution_count": 25,
      "outputs": [
        {
          "output_type": "execute_result",
          "data": {
            "text/plain": [
              "34"
            ]
          },
          "metadata": {},
          "execution_count": 25
        }
      ]
    },
    {
      "cell_type": "code",
      "source": [
        "df.groupby(['dwelling_type_desc']).size()"
      ],
      "metadata": {
        "colab": {
          "base_uri": "https://localhost:8080/"
        },
        "id": "0OM6X_fmletO",
        "outputId": "95670c18-6d50-462c-9ac3-9bbe7803364f"
      },
      "id": "0OM6X_fmletO",
      "execution_count": 26,
      "outputs": [
        {
          "output_type": "execute_result",
          "data": {
            "text/plain": [
              "dwelling_type_desc\n",
              "Manufactured      7652\n",
              "MultiFamily      45931\n",
              "Other              189\n",
              "SingleFamily    104557\n",
              "dtype: int64"
            ]
          },
          "metadata": {},
          "execution_count": 26
        }
      ]
    },
    {
      "cell_type": "code",
      "source": [
        "# Filling the null values with the most common value \"MultiFamily\"\n",
        "df['dwelling_type_filled'] =df['dwelling_type_desc'].fillna(value='MultiFamily')\n",
        "df['dwelling_type_filled'].isnull().sum()"
      ],
      "metadata": {
        "colab": {
          "base_uri": "https://localhost:8080/"
        },
        "id": "8FpqL678leww",
        "outputId": "b54fb698-0ee5-4dce-f2c6-f843a34d09f9"
      },
      "id": "8FpqL678leww",
      "execution_count": 27,
      "outputs": [
        {
          "output_type": "execute_result",
          "data": {
            "text/plain": [
              "0"
            ]
          },
          "metadata": {},
          "execution_count": 27
        }
      ]
    },
    {
      "cell_type": "code",
      "execution_count": 29,
      "id": "707807f5",
      "metadata": {
        "id": "707807f5",
        "outputId": "87b9ea0c-a3a4-415d-8ffc-231ae4388f63",
        "colab": {
          "base_uri": "https://localhost:8080/",
          "height": 239
        }
      },
      "outputs": [
        {
          "output_type": "execute_result",
          "data": {
            "text/plain": [
              "                    count        mean         std       min     25%     50%  \\\n",
              "billing_amount   158363.0  115.968180   88.959604    -20.81   64.57   93.86   \n",
              "current_balance  158363.0  -77.913308  229.985583 -25027.85 -130.36  -80.68   \n",
              "account_months   158363.0  137.889457  131.509690      3.00   39.00   84.00   \n",
              "customer_months  158363.0  210.082892  167.050376      4.00   81.00  201.00   \n",
              "\n",
              "                    75%       max  \n",
              "billing_amount   141.18   2492.96  \n",
              "current_balance  -44.24  20522.85  \n",
              "account_months   201.00    725.00  \n",
              "customer_months  268.00    845.00  "
            ],
            "text/html": [
              "\n",
              "  <div id=\"df-130e8448-e2f0-41c0-bb92-385a72f9f5f1\">\n",
              "    <div class=\"colab-df-container\">\n",
              "      <div>\n",
              "<style scoped>\n",
              "    .dataframe tbody tr th:only-of-type {\n",
              "        vertical-align: middle;\n",
              "    }\n",
              "\n",
              "    .dataframe tbody tr th {\n",
              "        vertical-align: top;\n",
              "    }\n",
              "\n",
              "    .dataframe thead th {\n",
              "        text-align: right;\n",
              "    }\n",
              "</style>\n",
              "<table border=\"1\" class=\"dataframe\">\n",
              "  <thead>\n",
              "    <tr style=\"text-align: right;\">\n",
              "      <th></th>\n",
              "      <th>count</th>\n",
              "      <th>mean</th>\n",
              "      <th>std</th>\n",
              "      <th>min</th>\n",
              "      <th>25%</th>\n",
              "      <th>50%</th>\n",
              "      <th>75%</th>\n",
              "      <th>max</th>\n",
              "    </tr>\n",
              "  </thead>\n",
              "  <tbody>\n",
              "    <tr>\n",
              "      <th>billing_amount</th>\n",
              "      <td>158363.0</td>\n",
              "      <td>115.968180</td>\n",
              "      <td>88.959604</td>\n",
              "      <td>-20.81</td>\n",
              "      <td>64.57</td>\n",
              "      <td>93.86</td>\n",
              "      <td>141.18</td>\n",
              "      <td>2492.96</td>\n",
              "    </tr>\n",
              "    <tr>\n",
              "      <th>current_balance</th>\n",
              "      <td>158363.0</td>\n",
              "      <td>-77.913308</td>\n",
              "      <td>229.985583</td>\n",
              "      <td>-25027.85</td>\n",
              "      <td>-130.36</td>\n",
              "      <td>-80.68</td>\n",
              "      <td>-44.24</td>\n",
              "      <td>20522.85</td>\n",
              "    </tr>\n",
              "    <tr>\n",
              "      <th>account_months</th>\n",
              "      <td>158363.0</td>\n",
              "      <td>137.889457</td>\n",
              "      <td>131.509690</td>\n",
              "      <td>3.00</td>\n",
              "      <td>39.00</td>\n",
              "      <td>84.00</td>\n",
              "      <td>201.00</td>\n",
              "      <td>725.00</td>\n",
              "    </tr>\n",
              "    <tr>\n",
              "      <th>customer_months</th>\n",
              "      <td>158363.0</td>\n",
              "      <td>210.082892</td>\n",
              "      <td>167.050376</td>\n",
              "      <td>4.00</td>\n",
              "      <td>81.00</td>\n",
              "      <td>201.00</td>\n",
              "      <td>268.00</td>\n",
              "      <td>845.00</td>\n",
              "    </tr>\n",
              "  </tbody>\n",
              "</table>\n",
              "</div>\n",
              "      <button class=\"colab-df-convert\" onclick=\"convertToInteractive('df-130e8448-e2f0-41c0-bb92-385a72f9f5f1')\"\n",
              "              title=\"Convert this dataframe to an interactive table.\"\n",
              "              style=\"display:none;\">\n",
              "        \n",
              "  <svg xmlns=\"http://www.w3.org/2000/svg\" height=\"24px\"viewBox=\"0 0 24 24\"\n",
              "       width=\"24px\">\n",
              "    <path d=\"M0 0h24v24H0V0z\" fill=\"none\"/>\n",
              "    <path d=\"M18.56 5.44l.94 2.06.94-2.06 2.06-.94-2.06-.94-.94-2.06-.94 2.06-2.06.94zm-11 1L8.5 8.5l.94-2.06 2.06-.94-2.06-.94L8.5 2.5l-.94 2.06-2.06.94zm10 10l.94 2.06.94-2.06 2.06-.94-2.06-.94-.94-2.06-.94 2.06-2.06.94z\"/><path d=\"M17.41 7.96l-1.37-1.37c-.4-.4-.92-.59-1.43-.59-.52 0-1.04.2-1.43.59L10.3 9.45l-7.72 7.72c-.78.78-.78 2.05 0 2.83L4 21.41c.39.39.9.59 1.41.59.51 0 1.02-.2 1.41-.59l7.78-7.78 2.81-2.81c.8-.78.8-2.07 0-2.86zM5.41 20L4 18.59l7.72-7.72 1.47 1.35L5.41 20z\"/>\n",
              "  </svg>\n",
              "      </button>\n",
              "      \n",
              "  <style>\n",
              "    .colab-df-container {\n",
              "      display:flex;\n",
              "      flex-wrap:wrap;\n",
              "      gap: 12px;\n",
              "    }\n",
              "\n",
              "    .colab-df-convert {\n",
              "      background-color: #E8F0FE;\n",
              "      border: none;\n",
              "      border-radius: 50%;\n",
              "      cursor: pointer;\n",
              "      display: none;\n",
              "      fill: #1967D2;\n",
              "      height: 32px;\n",
              "      padding: 0 0 0 0;\n",
              "      width: 32px;\n",
              "    }\n",
              "\n",
              "    .colab-df-convert:hover {\n",
              "      background-color: #E2EBFA;\n",
              "      box-shadow: 0px 1px 2px rgba(60, 64, 67, 0.3), 0px 1px 3px 1px rgba(60, 64, 67, 0.15);\n",
              "      fill: #174EA6;\n",
              "    }\n",
              "\n",
              "    [theme=dark] .colab-df-convert {\n",
              "      background-color: #3B4455;\n",
              "      fill: #D2E3FC;\n",
              "    }\n",
              "\n",
              "    [theme=dark] .colab-df-convert:hover {\n",
              "      background-color: #434B5C;\n",
              "      box-shadow: 0px 1px 3px 1px rgba(0, 0, 0, 0.15);\n",
              "      filter: drop-shadow(0px 1px 2px rgba(0, 0, 0, 0.3));\n",
              "      fill: #FFFFFF;\n",
              "    }\n",
              "  </style>\n",
              "\n",
              "      <script>\n",
              "        const buttonEl =\n",
              "          document.querySelector('#df-130e8448-e2f0-41c0-bb92-385a72f9f5f1 button.colab-df-convert');\n",
              "        buttonEl.style.display =\n",
              "          google.colab.kernel.accessAllowed ? 'block' : 'none';\n",
              "\n",
              "        async function convertToInteractive(key) {\n",
              "          const element = document.querySelector('#df-130e8448-e2f0-41c0-bb92-385a72f9f5f1');\n",
              "          const dataTable =\n",
              "            await google.colab.kernel.invokeFunction('convertToInteractive',\n",
              "                                                     [key], {});\n",
              "          if (!dataTable) return;\n",
              "\n",
              "          const docLinkHtml = 'Like what you see? Visit the ' +\n",
              "            '<a target=\"_blank\" href=https://colab.research.google.com/notebooks/data_table.ipynb>data table notebook</a>'\n",
              "            + ' to learn more about interactive tables.';\n",
              "          element.innerHTML = '';\n",
              "          dataTable['output_type'] = 'display_data';\n",
              "          await google.colab.output.renderOutput(dataTable, element);\n",
              "          const docLink = document.createElement('div');\n",
              "          docLink.innerHTML = docLinkHtml;\n",
              "          element.appendChild(docLink);\n",
              "        }\n",
              "      </script>\n",
              "    </div>\n",
              "  </div>\n",
              "  "
            ]
          },
          "metadata": {},
          "execution_count": 29
        }
      ],
      "source": [
        "### Summary Statistics ###\n",
        "df_summary = df[['billing_amount','current_balance','account_months','customer_months']]\n",
        "df_summary.describe().transpose()"
      ]
    },
    {
      "cell_type": "markdown",
      "source": [
        "# **Univariate analysis**"
      ],
      "metadata": {
        "id": "Qf8uc5PPlwP4"
      },
      "id": "Qf8uc5PPlwP4"
    },
    {
      "cell_type": "code",
      "execution_count": 30,
      "id": "78cdf5b9",
      "metadata": {
        "id": "78cdf5b9",
        "outputId": "dd9d1c88-84af-41ca-c389-9d248441d4e7",
        "colab": {
          "base_uri": "https://localhost:8080/",
          "height": 297
        }
      },
      "outputs": [
        {
          "output_type": "execute_result",
          "data": {
            "text/plain": [
              "<matplotlib.axes._subplots.AxesSubplot at 0x7f0224f92650>"
            ]
          },
          "metadata": {},
          "execution_count": 30
        },
        {
          "output_type": "display_data",
          "data": {
            "text/plain": [
              "<Figure size 432x288 with 1 Axes>"
            ],
            "image/png": "[encoded data removed]"
          },
          "metadata": {
            "needs_background": "light"
          }
        }
      ],
      "source": [
        "## Checking underlying distributions of numerical variables##\n",
        "sns.distplot(df[\"billing_amount\"],bins = \"auto\")"
      ]
    },
    {
      "cell_type": "code",
      "execution_count": 31,
      "id": "04d8e589",
      "metadata": {
        "id": "04d8e589",
        "outputId": "06f21443-ce34-4847-8a0f-4395a85c20c4",
        "colab": {
          "base_uri": "https://localhost:8080/",
          "height": 297
        }
      },
      "outputs": [
        {
          "output_type": "execute_result",
          "data": {
            "text/plain": [
              "<matplotlib.axes._subplots.AxesSubplot at 0x7f0224f8c4d0>"
            ]
          },
          "metadata": {},
          "execution_count": 31
        },
        {
          "output_type": "display_data",
          "data": {
            "text/plain": [
              "<Figure size 432x288 with 1 Axes>"
            ],
            "image/png": "[encoded data removed]"
          },
          "metadata": {
            "needs_background": "light"
          }
        }
      ],
      "source": [
        "sns.distplot(df[\"current_balance\"],bins = \"auto\")"
      ]
    },
    {
      "cell_type": "code",
      "execution_count": 32,
      "id": "7322d473",
      "metadata": {
        "id": "7322d473",
        "outputId": "32a4f047-b46d-43a1-bb16-fe80bb6cf7d8",
        "colab": {
          "base_uri": "https://localhost:8080/",
          "height": 297
        }
      },
      "outputs": [
        {
          "output_type": "execute_result",
          "data": {
            "text/plain": [
              "<matplotlib.axes._subplots.AxesSubplot at 0x7f021aeae490>"
            ]
          },
          "metadata": {},
          "execution_count": 32
        },
        {
          "output_type": "display_data",
          "data": {
            "text/plain": [
              "<Figure size 432x288 with 1 Axes>"
            ],
            "image/png": "[encoded data removed]"
          },
          "metadata": {
            "needs_background": "light"
          }
        }
      ],
      "source": [
        "sns.distplot(df[\"account_months\"],bins = \"auto\")"
      ]
    },
    {
      "cell_type": "code",
      "execution_count": 33,
      "id": "5ac6762a",
      "metadata": {
        "id": "5ac6762a",
        "outputId": "e8548500-1129-416e-f541-85ee0bf7d075",
        "colab": {
          "base_uri": "https://localhost:8080/",
          "height": 297
        }
      },
      "outputs": [
        {
          "output_type": "execute_result",
          "data": {
            "text/plain": [
              "<matplotlib.axes._subplots.AxesSubplot at 0x7f02217b7e50>"
            ]
          },
          "metadata": {},
          "execution_count": 33
        },
        {
          "output_type": "display_data",
          "data": {
            "text/plain": [
              "<Figure size 432x288 with 1 Axes>"
            ],
            "image/png": "[encoded data removed]"
          },
          "metadata": {
            "needs_background": "light"
          }
        }
      ],
      "source": [
        "sns.distplot(df[\"customer_months\"],bins = \"auto\")"
      ]
    },
    {
      "cell_type": "code",
      "source": [
        "### box plots to check if there are any outliers in numerical variables ###\n",
        "sns.boxplot(x=df['billing_amount'])"
      ],
      "metadata": {
        "colab": {
          "base_uri": "https://localhost:8080/",
          "height": 297
        },
        "id": "Gq39obkCmTpQ",
        "outputId": "6318c2c8-4cbf-4cb3-a921-3454e41dae54"
      },
      "id": "Gq39obkCmTpQ",
      "execution_count": 35,
      "outputs": [
        {
          "output_type": "execute_result",
          "data": {
            "text/plain": [
              "<matplotlib.axes._subplots.AxesSubplot at 0x7f02193eda50>"
            ]
          },
          "metadata": {},
          "execution_count": 35
        },
        {
          "output_type": "display_data",
          "data": {
            "text/plain": [
              "<Figure size 432x288 with 1 Axes>"
            ],
            "image/png": "[encoded data removed]"
          },
          "metadata": {
            "needs_background": "light"
          }
        }
      ]
    },
    {
      "cell_type": "code",
      "execution_count": 36,
      "id": "4aba7240",
      "metadata": {
        "id": "4aba7240",
        "colab": {
          "base_uri": "https://localhost:8080/",
          "height": 338
        },
        "outputId": "83856b93-765e-40b9-9864-fd22c530f28b"
      },
      "outputs": [
        {
          "output_type": "execute_result",
          "data": {
            "text/plain": [
              "<matplotlib.axes._subplots.AxesSubplot at 0x7f0223b6a710>"
            ]
          },
          "metadata": {},
          "execution_count": 36
        },
        {
          "output_type": "display_data",
          "data": {
            "text/plain": [
              "<Figure size 720x360 with 1 Axes>"
            ],
            "image/png": "[encoded data removed]"
          },
          "metadata": {
            "needs_background": "light"
          }
        }
      ],
      "source": [
        "plt.figure(figsize=(10,5))\n",
        "sns.boxplot(data = df_summary)"
      ]
    },
    {
      "cell_type": "markdown",
      "source": [
        "# **Bivariate Analysis**"
      ],
      "metadata": {
        "id": "y9BNjUd3m_95"
      },
      "id": "y9BNjUd3m_95"
    },
    {
      "cell_type": "code",
      "source": [
        "# latest_df is a subset of the original data, with only the information for each unique account_id at their last due date\n",
        "latest_df = df.sort_values('due_dt').groupby('account_id').tail(1).set_index('account_id')\n",
        "print(latest_df.shape)\n",
        "latest_df.head()"
      ],
      "metadata": {
        "colab": {
          "base_uri": "https://localhost:8080/",
          "height": 492
        },
        "id": "wopFfvF9m0S8",
        "outputId": "de2ac01f-b881-4729-a92a-bf8e1c36a31e"
      },
      "id": "wopFfvF9m0S8",
      "execution_count": 44,
      "outputs": [
        {
          "output_type": "stream",
          "name": "stdout",
          "text": [
            "(9933, 21)\n"
          ]
        },
        {
          "output_type": "execute_result",
          "data": {
            "text/plain": [
              "            bill_id  billing_amount  current_balance        pay_cre_dt  \\\n",
              "account_id                                                               \n",
              "127            2054          533.40          -522.62  29-01-2019 19:37   \n",
              "7463         119050           58.99           -39.37  01-05-2020 22:08   \n",
              "2875          45935          217.59          -229.12  18-04-2020 12:17   \n",
              "5376          85947           82.61           -81.57  22-04-2020 19:27   \n",
              "5489          87662           77.59           -34.09  04-05-2020 19:46   \n",
              "\n",
              "                      due_dt tender_type tender_type_descr  has_email  \\\n",
              "account_id                                                              \n",
              "127         01-02-2019 00:00         NaN               NaN       True   \n",
              "7463        01-05-2020 00:00        CHCK             Check       True   \n",
              "2875        01-05-2020 00:00         NaN               NaN       True   \n",
              "5376        01-05-2020 00:00        CHCK             Check       True   \n",
              "5489        01-05-2020 00:00        CHCK             Check       True   \n",
              "\n",
              "            bill_mailed dwelling_type_desc  has_med_cert  is_equal_pay_acct  \\\n",
              "account_id                                                                    \n",
              "127                   1                NaN         False              False   \n",
              "7463                  0       SingleFamily         False              False   \n",
              "2875                  1        MultiFamily         False              False   \n",
              "5376                  0       SingleFamily         False              False   \n",
              "5489                  1        MultiFamily         False              False   \n",
              "\n",
              "           own_rent  is_renewable  is_web_registered  account_months  \\\n",
              "account_id                                                             \n",
              "127               O         False               True             248   \n",
              "7463              O          True               True               5   \n",
              "2875              O         False               True               6   \n",
              "5376              R         False               True               4   \n",
              "5489              R         False               True               6   \n",
              "\n",
              "            customer_months premise_type_code tender_type_filled  \\\n",
              "account_id                                                         \n",
              "127                     248          ARL                    CHCK   \n",
              "7463                      5          HOU                    CHCK   \n",
              "2875                    230          APT                    CHCK   \n",
              "5376                      5          HOU                    CHCK   \n",
              "5489                      6          APT                    CHCK   \n",
              "\n",
              "           tender_type_descr1 dwelling_type_filled  \n",
              "account_id                                          \n",
              "127                     check          MultiFamily  \n",
              "7463                    Check         SingleFamily  \n",
              "2875                    check          MultiFamily  \n",
              "5376                    Check         SingleFamily  \n",
              "5489                    Check          MultiFamily  "
            ],
            "text/html": [
              "\n",
              "  <div id=\"df-af4fe9c1-d853-440c-b348-59a36a410ec5\">\n",
              "    <div class=\"colab-df-container\">\n",
              "      <div>\n",
              "<style scoped>\n",
              "    .dataframe tbody tr th:only-of-type {\n",
              "        vertical-align: middle;\n",
              "    }\n",
              "\n",
              "    .dataframe tbody tr th {\n",
              "        vertical-align: top;\n",
              "    }\n",
              "\n",
              "    .dataframe thead th {\n",
              "        text-align: right;\n",
              "    }\n",
              "</style>\n",
              "<table border=\"1\" class=\"dataframe\">\n",
              "  <thead>\n",
              "    <tr style=\"text-align: right;\">\n",
              "      <th></th>\n",
              "      <th>bill_id</th>\n",
              "      <th>billing_amount</th>\n",
              "      <th>current_balance</th>\n",
              "      <th>pay_cre_dt</th>\n",
              "      <th>due_dt</th>\n",
              "      <th>tender_type</th>\n",
              "      <th>tender_type_descr</th>\n",
              "      <th>has_email</th>\n",
              "      <th>bill_mailed</th>\n",
              "      <th>dwelling_type_desc</th>\n",
              "      <th>has_med_cert</th>\n",
              "      <th>is_equal_pay_acct</th>\n",
              "      <th>own_rent</th>\n",
              "      <th>is_renewable</th>\n",
              "      <th>is_web_registered</th>\n",
              "      <th>account_months</th>\n",
              "      <th>customer_months</th>\n",
              "      <th>premise_type_code</th>\n",
              "      <th>tender_type_filled</th>\n",
              "      <th>tender_type_descr1</th>\n",
              "      <th>dwelling_type_filled</th>\n",
              "    </tr>\n",
              "    <tr>\n",
              "      <th>account_id</th>\n",
              "      <th></th>\n",
              "      <th></th>\n",
              "      <th></th>\n",
              "      <th></th>\n",
              "      <th></th>\n",
              "      <th></th>\n",
              "      <th></th>\n",
              "      <th></th>\n",
              "      <th></th>\n",
              "      <th></th>\n",
              "      <th></th>\n",
              "      <th></th>\n",
              "      <th></th>\n",
              "      <th></th>\n",
              "      <th></th>\n",
              "      <th></th>\n",
              "      <th></th>\n",
              "      <th></th>\n",
              "      <th></th>\n",
              "      <th></th>\n",
              "      <th></th>\n",
              "    </tr>\n",
              "  </thead>\n",
              "  <tbody>\n",
              "    <tr>\n",
              "      <th>127</th>\n",
              "      <td>2054</td>\n",
              "      <td>533.40</td>\n",
              "      <td>-522.62</td>\n",
              "      <td>29-01-2019 19:37</td>\n",
              "      <td>01-02-2019 00:00</td>\n",
              "      <td>NaN</td>\n",
              "      <td>NaN</td>\n",
              "      <td>True</td>\n",
              "      <td>1</td>\n",
              "      <td>NaN</td>\n",
              "      <td>False</td>\n",
              "      <td>False</td>\n",
              "      <td>O</td>\n",
              "      <td>False</td>\n",
              "      <td>True</td>\n",
              "      <td>248</td>\n",
              "      <td>248</td>\n",
              "      <td>ARL</td>\n",
              "      <td>CHCK</td>\n",
              "      <td>check</td>\n",
              "      <td>MultiFamily</td>\n",
              "    </tr>\n",
              "    <tr>\n",
              "      <th>7463</th>\n",
              "      <td>119050</td>\n",
              "      <td>58.99</td>\n",
              "      <td>-39.37</td>\n",
              "      <td>01-05-2020 22:08</td>\n",
              "      <td>01-05-2020 00:00</td>\n",
              "      <td>CHCK</td>\n",
              "      <td>Check</td>\n",
              "      <td>True</td>\n",
              "      <td>0</td>\n",
              "      <td>SingleFamily</td>\n",
              "      <td>False</td>\n",
              "      <td>False</td>\n",
              "      <td>O</td>\n",
              "      <td>True</td>\n",
              "      <td>True</td>\n",
              "      <td>5</td>\n",
              "      <td>5</td>\n",
              "      <td>HOU</td>\n",
              "      <td>CHCK</td>\n",
              "      <td>Check</td>\n",
              "      <td>SingleFamily</td>\n",
              "    </tr>\n",
              "    <tr>\n",
              "      <th>2875</th>\n",
              "      <td>45935</td>\n",
              "      <td>217.59</td>\n",
              "      <td>-229.12</td>\n",
              "      <td>18-04-2020 12:17</td>\n",
              "      <td>01-05-2020 00:00</td>\n",
              "      <td>NaN</td>\n",
              "      <td>NaN</td>\n",
              "      <td>True</td>\n",
              "      <td>1</td>\n",
              "      <td>MultiFamily</td>\n",
              "      <td>False</td>\n",
              "      <td>False</td>\n",
              "      <td>O</td>\n",
              "      <td>False</td>\n",
              "      <td>True</td>\n",
              "      <td>6</td>\n",
              "      <td>230</td>\n",
              "      <td>APT</td>\n",
              "      <td>CHCK</td>\n",
              "      <td>check</td>\n",
              "      <td>MultiFamily</td>\n",
              "    </tr>\n",
              "    <tr>\n",
              "      <th>5376</th>\n",
              "      <td>85947</td>\n",
              "      <td>82.61</td>\n",
              "      <td>-81.57</td>\n",
              "      <td>22-04-2020 19:27</td>\n",
              "      <td>01-05-2020 00:00</td>\n",
              "      <td>CHCK</td>\n",
              "      <td>Check</td>\n",
              "      <td>True</td>\n",
              "      <td>0</td>\n",
              "      <td>SingleFamily</td>\n",
              "      <td>False</td>\n",
              "      <td>False</td>\n",
              "      <td>R</td>\n",
              "      <td>False</td>\n",
              "      <td>True</td>\n",
              "      <td>4</td>\n",
              "      <td>5</td>\n",
              "      <td>HOU</td>\n",
              "      <td>CHCK</td>\n",
              "      <td>Check</td>\n",
              "      <td>SingleFamily</td>\n",
              "    </tr>\n",
              "    <tr>\n",
              "      <th>5489</th>\n",
              "      <td>87662</td>\n",
              "      <td>77.59</td>\n",
              "      <td>-34.09</td>\n",
              "      <td>04-05-2020 19:46</td>\n",
              "      <td>01-05-2020 00:00</td>\n",
              "      <td>CHCK</td>\n",
              "      <td>Check</td>\n",
              "      <td>True</td>\n",
              "      <td>1</td>\n",
              "      <td>MultiFamily</td>\n",
              "      <td>False</td>\n",
              "      <td>False</td>\n",
              "      <td>R</td>\n",
              "      <td>False</td>\n",
              "      <td>True</td>\n",
              "      <td>6</td>\n",
              "      <td>6</td>\n",
              "      <td>APT</td>\n",
              "      <td>CHCK</td>\n",
              "      <td>Check</td>\n",
              "      <td>MultiFamily</td>\n",
              "    </tr>\n",
              "  </tbody>\n",
              "</table>\n",
              "</div>\n",
              "      <button class=\"colab-df-convert\" onclick=\"convertToInteractive('df-af4fe9c1-d853-440c-b348-59a36a410ec5')\"\n",
              "              title=\"Convert this dataframe to an interactive table.\"\n",
              "              style=\"display:none;\">\n",
              "        \n",
              "  <svg xmlns=\"http://www.w3.org/2000/svg\" height=\"24px\"viewBox=\"0 0 24 24\"\n",
              "       width=\"24px\">\n",
              "    <path d=\"M0 0h24v24H0V0z\" fill=\"none\"/>\n",
              "    <path d=\"M18.56 5.44l.94 2.06.94-2.06 2.06-.94-2.06-.94-.94-2.06-.94 2.06-2.06.94zm-11 1L8.5 8.5l.94-2.06 2.06-.94-2.06-.94L8.5 2.5l-.94 2.06-2.06.94zm10 10l.94 2.06.94-2.06 2.06-.94-2.06-.94-.94-2.06-.94 2.06-2.06.94z\"/><path d=\"M17.41 7.96l-1.37-1.37c-.4-.4-.92-.59-1.43-.59-.52 0-1.04.2-1.43.59L10.3 9.45l-7.72 7.72c-.78.78-.78 2.05 0 2.83L4 21.41c.39.39.9.59 1.41.59.51 0 1.02-.2 1.41-.59l7.78-7.78 2.81-2.81c.8-.78.8-2.07 0-2.86zM5.41 20L4 18.59l7.72-7.72 1.47 1.35L5.41 20z\"/>\n",
              "  </svg>\n",
              "      </button>\n",
              "      \n",
              "  <style>\n",
              "    .colab-df-container {\n",
              "      display:flex;\n",
              "      flex-wrap:wrap;\n",
              "      gap: 12px;\n",
              "    }\n",
              "\n",
              "    .colab-df-convert {\n",
              "      background-color: #E8F0FE;\n",
              "      border: none;\n",
              "      border-radius: 50%;\n",
              "      cursor: pointer;\n",
              "      display: none;\n",
              "      fill: #1967D2;\n",
              "      height: 32px;\n",
              "      padding: 0 0 0 0;\n",
              "      width: 32px;\n",
              "    }\n",
              "\n",
              "    .colab-df-convert:hover {\n",
              "      background-color: #E2EBFA;\n",
              "      box-shadow: 0px 1px 2px rgba(60, 64, 67, 0.3), 0px 1px 3px 1px rgba(60, 64, 67, 0.15);\n",
              "      fill: #174EA6;\n",
              "    }\n",
              "\n",
              "    [theme=dark] .colab-df-convert {\n",
              "      background-color: #3B4455;\n",
              "      fill: #D2E3FC;\n",
              "    }\n",
              "\n",
              "    [theme=dark] .colab-df-convert:hover {\n",
              "      background-color: #434B5C;\n",
              "      box-shadow: 0px 1px 3px 1px rgba(0, 0, 0, 0.15);\n",
              "      filter: drop-shadow(0px 1px 2px rgba(0, 0, 0, 0.3));\n",
              "      fill: #FFFFFF;\n",
              "    }\n",
              "  </style>\n",
              "\n",
              "      <script>\n",
              "        const buttonEl =\n",
              "          document.querySelector('#df-af4fe9c1-d853-440c-b348-59a36a410ec5 button.colab-df-convert');\n",
              "        buttonEl.style.display =\n",
              "          google.colab.kernel.accessAllowed ? 'block' : 'none';\n",
              "\n",
              "        async function convertToInteractive(key) {\n",
              "          const element = document.querySelector('#df-af4fe9c1-d853-440c-b348-59a36a410ec5');\n",
              "          const dataTable =\n",
              "            await google.colab.kernel.invokeFunction('convertToInteractive',\n",
              "                                                     [key], {});\n",
              "          if (!dataTable) return;\n",
              "\n",
              "          const docLinkHtml = 'Like what you see? Visit the ' +\n",
              "            '<a target=\"_blank\" href=https://colab.research.google.com/notebooks/data_table.ipynb>data table notebook</a>'\n",
              "            + ' to learn more about interactive tables.';\n",
              "          element.innerHTML = '';\n",
              "          dataTable['output_type'] = 'display_data';\n",
              "          await google.colab.output.renderOutput(dataTable, element);\n",
              "          const docLink = document.createElement('div');\n",
              "          docLink.innerHTML = docLinkHtml;\n",
              "          element.appendChild(docLink);\n",
              "        }\n",
              "      </script>\n",
              "    </div>\n",
              "  </div>\n",
              "  "
            ]
          },
          "metadata": {},
          "execution_count": 44
        }
      ]
    },
    {
      "cell_type": "code",
      "source": [
        "### Frequency Distribution of categorical Variables ###\n",
        "freq = latest_df['has_email'].value_counts().to_frame()\n",
        "freq.reset_index(inplace=True)\n",
        "freq.columns = [freq.columns[1], 'count']\n",
        "freq['prop'] = freq['count'] / sum(freq['count'])\n",
        "print (freq)\n",
        "sns.countplot(latest_df['has_email'])"
      ],
      "metadata": {
        "colab": {
          "base_uri": "https://localhost:8080/",
          "height": 352
        },
        "id": "0PABvdbjnIp2",
        "outputId": "4de5449c-2711-44a9-bb1d-d0efa46ab4d4"
      },
      "id": "0PABvdbjnIp2",
      "execution_count": 45,
      "outputs": [
        {
          "output_type": "stream",
          "name": "stdout",
          "text": [
            "   has_email  count      prop\n",
            "0       True   7657  0.770865\n",
            "1      False   2276  0.229135\n"
          ]
        },
        {
          "output_type": "execute_result",
          "data": {
            "text/plain": [
              "<matplotlib.axes._subplots.AxesSubplot at 0x7f020f17d210>"
            ]
          },
          "metadata": {},
          "execution_count": 45
        },
        {
          "output_type": "display_data",
          "data": {
            "text/plain": [
              "<Figure size 432x288 with 1 Axes>"
            ],
            "image/png": "[encoded data removed]"
          },
          "metadata": {
            "needs_background": "light"
          }
        }
      ]
    },
    {
      "cell_type": "markdown",
      "source": [
        "• 23% of Account holders have not registered their email id with company and any information sharing through email gets impeded. • Business action plan is to enable this proportion of account hol der to register their email id with company."
      ],
      "metadata": {
        "id": "aTVmSGXwnM-o"
      },
      "id": "aTVmSGXwnM-o"
    },
    {
      "cell_type": "code",
      "source": [
        "freq = latest_df['bill_mailed'].value_counts().to_frame()\n",
        "freq.reset_index(inplace=True)\n",
        "freq.columns = [freq.columns[1], 'count']\n",
        "freq['prop'] = freq['count'] / sum(freq['count'])\n",
        "print (freq)\n",
        "sns.countplot(latest_df['bill_mailed'])"
      ],
      "metadata": {
        "colab": {
          "base_uri": "https://localhost:8080/",
          "height": 349
        },
        "id": "T0suMVx2nIst",
        "outputId": "77ba88d7-dc1e-4644-fd21-ca1df8eac2f7"
      },
      "id": "T0suMVx2nIst",
      "execution_count": 46,
      "outputs": [
        {
          "output_type": "stream",
          "name": "stdout",
          "text": [
            "   bill_mailed  count      prop\n",
            "0            1   5107  0.514145\n",
            "1            0   4826  0.485855\n"
          ]
        },
        {
          "output_type": "execute_result",
          "data": {
            "text/plain": [
              "<matplotlib.axes._subplots.AxesSubplot at 0x7f020ee8cc50>"
            ]
          },
          "metadata": {},
          "execution_count": 46
        },
        {
          "output_type": "display_data",
          "data": {
            "text/plain": [
              "<Figure size 432x288 with 1 Axes>"
            ],
            "image/png": "[encoded data removed]"
          },
          "metadata": {
            "needs_background": "light"
          }
        }
      ]
    },
    {
      "cell_type": "markdown",
      "source": [
        "Only 51% of account holders have recieved the bill through snail mail and 49% account holders didn't recieve the bill. Any other sources of recieving bills is not captured in terms of variables in the data.\n",
        "\n",
        "This implies that bills were not sent to account holders or maybe they recieved the bill after due date or bills were lost during transit. The above issues maybe the reasons behind late payments due to lack of awarnesses regarding bill due dates and also resulting in variation in bill payment history.\n",
        "\n",
        "Business actions are required which enables account holders recieve bills through better postal service before due date and also share bill via their registered email id."
      ],
      "metadata": {
        "id": "OMRIEKEsnSE8"
      },
      "id": "OMRIEKEsnSE8"
    },
    {
      "cell_type": "code",
      "source": [
        "freq = latest_df['is_equal_pay_acct'].value_counts().to_frame()\n",
        "freq.reset_index(inplace=True)\n",
        "freq.columns = [freq.columns[1], 'count']\n",
        "freq['prop'] = freq['count'] / sum(freq['count'])\n",
        "print (freq)\n",
        "sns.countplot(latest_df['is_equal_pay_acct'])"
      ],
      "metadata": {
        "colab": {
          "base_uri": "https://localhost:8080/",
          "height": 349
        },
        "id": "G9wHaWVKnIwD",
        "outputId": "2c50a44d-b79a-477b-b848-07915613befb"
      },
      "id": "G9wHaWVKnIwD",
      "execution_count": 47,
      "outputs": [
        {
          "output_type": "stream",
          "name": "stdout",
          "text": [
            "   is_equal_pay_acct  count      prop\n",
            "0              False   9101  0.916239\n",
            "1               True    832  0.083761\n"
          ]
        },
        {
          "output_type": "execute_result",
          "data": {
            "text/plain": [
              "<matplotlib.axes._subplots.AxesSubplot at 0x7f020eef08d0>"
            ]
          },
          "metadata": {},
          "execution_count": 47
        },
        {
          "output_type": "display_data",
          "data": {
            "text/plain": [
              "<Figure size 432x288 with 1 Axes>"
            ],
            "image/png": "[encoded data removed]"
          },
          "metadata": {
            "needs_background": "light"
          }
        }
      ]
    },
    {
      "cell_type": "markdown",
      "source": [
        "Business action plan recommended which enables all the account holders to enroll for company's equal pay programs."
      ],
      "metadata": {
        "id": "cgWHPeq7naTk"
      },
      "id": "cgWHPeq7naTk"
    },
    {
      "cell_type": "code",
      "source": [
        "freq = latest_df['is_renewable'].value_counts().to_frame()\n",
        "freq.reset_index(inplace=True)\n",
        "freq.columns = [freq.columns[1], 'count']\n",
        "freq['prop'] = freq['count'] / sum(freq['count'])\n",
        "print (freq)\n",
        "sns.countplot(latest_df['is_renewable'])"
      ],
      "metadata": {
        "colab": {
          "base_uri": "https://localhost:8080/",
          "height": 349
        },
        "id": "6silQ2mtm-9l",
        "outputId": "a43f7bcf-2e8d-4129-fe0d-09e931006f78"
      },
      "id": "6silQ2mtm-9l",
      "execution_count": 48,
      "outputs": [
        {
          "output_type": "stream",
          "name": "stdout",
          "text": [
            "   is_renewable  count      prop\n",
            "0         False   7041  0.708849\n",
            "1          True   2892  0.291151\n"
          ]
        },
        {
          "output_type": "execute_result",
          "data": {
            "text/plain": [
              "<matplotlib.axes._subplots.AxesSubplot at 0x7f0218394b10>"
            ]
          },
          "metadata": {},
          "execution_count": 48
        },
        {
          "output_type": "display_data",
          "data": {
            "text/plain": [
              "<Figure size 432x288 with 1 Axes>"
            ],
            "image/png": "[encoded data removed]"
          },
          "metadata": {
            "needs_background": "light"
          }
        }
      ]
    },
    {
      "cell_type": "markdown",
      "source": [
        "Business action plan recommended which enables all the account holders to enroll for company's renewable power programs if there are any mutual benefits associated with these programs."
      ],
      "metadata": {
        "id": "vgi4yc05nhhm"
      },
      "id": "vgi4yc05nhhm"
    },
    {
      "cell_type": "code",
      "source": [
        "freq = latest_df['is_web_registered'].value_counts().to_frame()\n",
        "freq.reset_index(inplace=True)\n",
        "freq.columns = [freq.columns[1], 'count']\n",
        "freq['prop'] = freq['count'] / sum(freq['count'])\n",
        "print (freq)\n",
        "sns.countplot(latest_df['is_web_registered'])"
      ],
      "metadata": {
        "colab": {
          "base_uri": "https://localhost:8080/",
          "height": 349
        },
        "id": "E0K0vIy6niqP",
        "outputId": "cbfdb449-9295-4774-f7e0-dbf92765e3ed"
      },
      "id": "E0K0vIy6niqP",
      "execution_count": 49,
      "outputs": [
        {
          "output_type": "stream",
          "name": "stdout",
          "text": [
            "   is_web_registered  count      prop\n",
            "0               True   7267  0.731602\n",
            "1              False   2666  0.268398\n"
          ]
        },
        {
          "output_type": "execute_result",
          "data": {
            "text/plain": [
              "<matplotlib.axes._subplots.AxesSubplot at 0x7f020ee83ed0>"
            ]
          },
          "metadata": {},
          "execution_count": 49
        },
        {
          "output_type": "display_data",
          "data": {
            "text/plain": [
              "<Figure size 432x288 with 1 Axes>"
            ],
            "image/png": "[encoded data removed]"
          },
          "metadata": {
            "needs_background": "light"
          }
        }
      ]
    },
    {
      "cell_type": "markdown",
      "source": [
        "Business action plan is recommended which ensure all the account holders to register at company's website."
      ],
      "metadata": {
        "id": "XB6H9B7xnm0s"
      },
      "id": "XB6H9B7xnm0s"
    },
    {
      "cell_type": "code",
      "source": [
        "freq = latest_df['has_med_cert'].value_counts().to_frame()\n",
        "freq.reset_index(inplace=True)\n",
        "freq.columns = [freq.columns[1], 'count']\n",
        "freq['prop'] = freq['count'] / sum(freq['count'])\n",
        "print (freq)\n",
        "sns.countplot(latest_df['has_med_cert'])"
      ],
      "metadata": {
        "colab": {
          "base_uri": "https://localhost:8080/",
          "height": 349
        },
        "id": "Bfg9Iw3unoHS",
        "outputId": "b840b812-786f-4551-bb14-e9ddbbf64d2d"
      },
      "id": "Bfg9Iw3unoHS",
      "execution_count": 51,
      "outputs": [
        {
          "output_type": "stream",
          "name": "stdout",
          "text": [
            "   has_med_cert  count      prop\n",
            "0         False   9893  0.995973\n",
            "1          True     40  0.004027\n"
          ]
        },
        {
          "output_type": "execute_result",
          "data": {
            "text/plain": [
              "<matplotlib.axes._subplots.AxesSubplot at 0x7f020e953290>"
            ]
          },
          "metadata": {},
          "execution_count": 51
        },
        {
          "output_type": "display_data",
          "data": {
            "text/plain": [
              "<Figure size 432x288 with 1 Axes>"
            ],
            "image/png": "[encoded data removed]"
          },
          "metadata": {
            "needs_background": "light"
          }
        }
      ]
    },
    {
      "cell_type": "markdown",
      "source": [
        "Looks like 'has_med_cert' is nearly always FALSE"
      ],
      "metadata": {
        "id": "lCv2ja0XntUM"
      },
      "id": "lCv2ja0XntUM"
    },
    {
      "cell_type": "markdown",
      "source": [
        "# **Multivariate Analysis**"
      ],
      "metadata": {
        "id": "COa6AImjoJpQ"
      },
      "id": "COa6AImjoJpQ"
    },
    {
      "cell_type": "code",
      "source": [
        "### checking correlations among numerical variables ##\n",
        "sns.pairplot(df_summary)"
      ],
      "metadata": {
        "colab": {
          "base_uri": "https://localhost:8080/",
          "height": 743
        },
        "id": "hmhVHXnOoOYU",
        "outputId": "d6510b0c-d1c5-4785-f8cf-ac0abf95083c"
      },
      "id": "hmhVHXnOoOYU",
      "execution_count": 52,
      "outputs": [
        {
          "output_type": "execute_result",
          "data": {
            "text/plain": [
              "<seaborn.axisgrid.PairGrid at 0x7f020e802090>"
            ]
          },
          "metadata": {},
          "execution_count": 52
        },
        {
          "output_type": "display_data",
          "data": {
            "text/plain": [
              "<Figure size 720x720 with 20 Axes>"
            ],
            "image/png": "[encoded data removed]"
          },
          "metadata": {
            "needs_background": "light"
          }
        }
      ]
    },
    {
      "cell_type": "code",
      "source": [
        "sns.heatmap(df_summary.corr())"
      ],
      "metadata": {
        "colab": {
          "base_uri": "https://localhost:8080/",
          "height": 366
        },
        "id": "VtAy32hUoVl-",
        "outputId": "f8a0d1ab-b7ac-4cc8-d096-ee2abbccbf73"
      },
      "id": "VtAy32hUoVl-",
      "execution_count": 53,
      "outputs": [
        {
          "output_type": "execute_result",
          "data": {
            "text/plain": [
              "<matplotlib.axes._subplots.AxesSubplot at 0x7f020dfa6d90>"
            ]
          },
          "metadata": {},
          "execution_count": 53
        },
        {
          "output_type": "display_data",
          "data": {
            "text/plain": [
              "<Figure size 432x288 with 2 Axes>"
            ],
            "image/png": "[encoded data removed]"
          },
          "metadata": {
            "needs_background": "light"
          }
        }
      ]
    },
    {
      "cell_type": "markdown",
      "source": [
        "# **Statistical Analysis**"
      ],
      "metadata": {
        "id": "Ji_6BU9-ojGw"
      },
      "id": "Ji_6BU9-ojGw"
    },
    {
      "cell_type": "code",
      "source": [
        "### checking the min and max date due_date column ##\n",
        "print(df['due_dt'].min())\n",
        "print(df['due_dt'].max())"
      ],
      "metadata": {
        "colab": {
          "base_uri": "https://localhost:8080/"
        },
        "outputId": "f215f80e-c6f0-42d9-d078-6257dc511d94",
        "id": "OKK826R2ojGx"
      },
      "execution_count": null,
      "outputs": [
        {
          "output_type": "stream",
          "name": "stdout",
          "text": [
            "01-02-2019 00:00\n",
            "31-12-2019 00:00\n"
          ]
        }
      ],
      "id": "OKK826R2ojGx"
    },
    {
      "cell_type": "code",
      "source": [
        "### checking the no of unique account level id's ###\n",
        "unique_ac_id = len(df['account_id'].unique().tolist())\n",
        "unique_ac_id"
      ],
      "metadata": {
        "colab": {
          "base_uri": "https://localhost:8080/"
        },
        "outputId": "6c56b555-7485-4eb5-d3b0-3a13c5640223",
        "id": "fe3zPigIojG6"
      },
      "execution_count": null,
      "outputs": [
        {
          "output_type": "execute_result",
          "data": {
            "text/plain": [
              "9933"
            ]
          },
          "metadata": {},
          "execution_count": 40
        }
      ],
      "id": "fe3zPigIojG6"
    },
    {
      "cell_type": "code",
      "source": [
        "#  average/median billing amount\n",
        "bill_amt_avg = df.groupby('account_id')[['billing_amount']].mean()\n",
        "bill_amt_median = df.groupby('account_id')[['billing_amount']].median()\n",
        "print(bill_amt_avg)\n",
        "print(bill_amt_median)"
      ],
      "metadata": {
        "colab": {
          "base_uri": "https://localhost:8080/"
        },
        "outputId": "d6ba9ca7-921d-45c3-84f3-b8a3752f33bd",
        "id": "tyJRxGbsojG7"
      },
      "execution_count": null,
      "outputs": [
        {
          "output_type": "stream",
          "name": "stdout",
          "text": [
            "            billing_amount\n",
            "account_id                \n",
            "0                88.692353\n",
            "1               136.316667\n",
            "2               171.997647\n",
            "3                98.247500\n",
            "4               276.344000\n",
            "...                    ...\n",
            "9928             68.984706\n",
            "9929             42.060000\n",
            "9930            187.181667\n",
            "9931             59.368000\n",
            "9932            301.948667\n",
            "\n",
            "[9933 rows x 1 columns]\n",
            "            billing_amount\n",
            "account_id                \n",
            "0                   86.020\n",
            "1                  127.570\n",
            "2                  170.080\n",
            "3                   97.665\n",
            "4                  263.950\n",
            "...                    ...\n",
            "9928                67.800\n",
            "9929                35.210\n",
            "9930               178.250\n",
            "9931                56.515\n",
            "9932               321.640\n",
            "\n",
            "[9933 rows x 1 columns]\n"
          ]
        }
      ],
      "id": "tyJRxGbsojG7"
    },
    {
      "cell_type": "code",
      "source": [
        "# types of residences  \n",
        "\n",
        "# find out different types of residences\n",
        "df['premise_type_code'].unique()\n",
        "# there are 8 types of residences. "
      ],
      "metadata": {
        "colab": {
          "base_uri": "https://localhost:8080/"
        },
        "outputId": "806c71fb-36aa-4861-ea90-4175dd3ecb4e",
        "id": "v890ZTdlojG7"
      },
      "execution_count": null,
      "outputs": [
        {
          "output_type": "execute_result",
          "data": {
            "text/plain": [
              "array(['HOU     ', 'APT     ', 'MOBH    ', 'ARL     ', 'HSBT    ',\n",
              "       'CNTW    ', 'COMS    ', 'HOSP    '], dtype=object)"
            ]
          },
          "metadata": {},
          "execution_count": 42
        }
      ],
      "id": "v890ZTdlojG7"
    },
    {
      "cell_type": "code",
      "source": [
        "premise_types = df[['account_id','premise_type_code']].drop_duplicates().set_index('account_id')\n",
        "np.unique(premise_types['premise_type_code'], return_counts=True)"
      ],
      "metadata": {
        "colab": {
          "base_uri": "https://localhost:8080/"
        },
        "outputId": "098db4b8-aae0-4a14-d783-dd50ce996f2b",
        "id": "yui5ujaPojG8"
      },
      "execution_count": null,
      "outputs": [
        {
          "output_type": "execute_result",
          "data": {
            "text/plain": [
              "(array(['APT     ', 'ARL     ', 'CNTW    ', 'COMS    ', 'HOSP    ',\n",
              "        'HOU     ', 'HSBT    ', 'MOBH    '], dtype=object),\n",
              " array([3135,    1,    8,    3,    1, 6314,   12,  459]))"
            ]
          },
          "metadata": {},
          "execution_count": 43
        }
      ],
      "id": "yui5ujaPojG8"
    },
    {
      "cell_type": "markdown",
      "source": [
        "# **Conclusions**"
      ],
      "metadata": {
        "id": "KzgE8jZkr-ty"
      },
      "id": "KzgE8jZkr-ty"
    },
    {
      "cell_type": "markdown",
      "source": [
        "\n",
        "\n",
        "*   \t23% of Account holders have not registered their email id with company and any information sharing through email gets\n",
        " impeded. Business action plan is to enable this proportion of account \n",
        "holder to register their email id with company.\n",
        "\n",
        "*   Business actions are required which enables account holders recieve bills \n",
        "through better postal service before due date and also share bill via their registered email id.\n",
        "\n",
        "\n",
        "*  \tBusiness action plan recommended which enables all the\n",
        " account holders to enroll for company's equal pay  and renewable power programs if there are any mutual benefits associated with these programs.\n",
        "item \n",
        "*  Business action plan is recommended which ensure all the\n",
        " account holders to register at company's website.\n",
        "\n",
        "\n",
        "\n",
        "\n",
        "\n",
        "\n",
        "\n",
        "\n",
        "\n",
        "\n"
      ],
      "metadata": {
        "id": "FAtb4OctvO1U"
      },
      "id": "FAtb4OctvO1U"
    }
  ],
  "metadata": {
    "kernelspec": {
      "display_name": "Python 3 (ipykernel)",
      "language": "python",
      "name": "python3"
    },
    "language_info": {
      "codemirror_mode": {
        "name": "ipython",
        "version": 3
      },
      "file_extension": ".py",
      "mimetype": "text/x-python",
      "name": "python",
      "nbconvert_exporter": "python",
      "pygments_lexer": "ipython3",
      "version": "3.9.7"
    },
    "colab": {
      "provenance": [],
      "include_colab_link": true
    }
  },
  "nbformat": 4,
  "nbformat_minor": 5
}